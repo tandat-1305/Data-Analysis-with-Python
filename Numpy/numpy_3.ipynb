{
  "nbformat": 4,
  "nbformat_minor": 0,
  "metadata": {
    "colab": {
      "name": "numpy_3.ipynb",
      "provenance": [],
      "collapsed_sections": [],
      "authorship_tag": "ABX9TyPkBzE7uAv/zUbWfXKL+kCZ",
      "include_colab_link": true
    },
    "kernelspec": {
      "name": "python3",
      "display_name": "Python 3"
    },
    "language_info": {
      "name": "python"
    }
  },
  "cells": [
    {
      "cell_type": "markdown",
      "metadata": {
        "id": "view-in-github",
        "colab_type": "text"
      },
      "source": [
        "<a href=\"https://colab.research.google.com/github/tandat-1305/Data-Analysis-with-Python/blob/main/Numpy/numpy_3.ipynb\" target=\"_parent\"><img src=\"https://colab.research.google.com/assets/colab-badge.svg\" alt=\"Open In Colab\"/></a>"
      ]
    },
    {
      "cell_type": "code",
      "metadata": {
        "id": "_6fK1KoSRUbo"
      },
      "source": [
        "import numpy as np"
      ],
      "execution_count": null,
      "outputs": []
    },
    {
      "cell_type": "code",
      "metadata": {
        "colab": {
          "base_uri": "https://localhost:8080/"
        },
        "id": "MZG28wHTQmJk",
        "outputId": "26f74bb6-586a-4bf3-da28-6d62a6dae6c6"
      },
      "source": [
        "output = np.ones((5,5))\n",
        "print(output)\n",
        "\n",
        "z = np.zeros((3,3))\n",
        "z[1,1] = 9\n",
        "print(z)\n",
        "\n",
        "output[1:4,1:4] = z\n",
        "print(output)\n"
      ],
      "execution_count": null,
      "outputs": [
        {
          "output_type": "stream",
          "text": [
            "[[1. 1. 1. 1. 1.]\n",
            " [1. 1. 1. 1. 1.]\n",
            " [1. 1. 1. 1. 1.]\n",
            " [1. 1. 1. 1. 1.]\n",
            " [1. 1. 1. 1. 1.]]\n",
            "[[0. 0. 0.]\n",
            " [0. 9. 0.]\n",
            " [0. 0. 0.]]\n",
            "[[1. 1. 1. 1. 1.]\n",
            " [1. 0. 0. 0. 1.]\n",
            " [1. 0. 9. 0. 1.]\n",
            " [1. 0. 0. 0. 1.]\n",
            " [1. 1. 1. 1. 1.]]\n"
          ],
          "name": "stdout"
        }
      ]
    },
    {
      "cell_type": "code",
      "metadata": {
        "id": "Z7Vd3TxYVbAW",
        "colab": {
          "base_uri": "https://localhost:8080/"
        },
        "outputId": "0d0ec4b7-ba5c-4896-9ecd-c26f1484b251"
      },
      "source": [
        " output = np.zeros((7,7))\n",
        "\n",
        "z = np.ones((5, 5))\n",
        "z[2, 2] = 5\n",
        "print(z)\n",
        "\n",
        "output[1:-1, 1:-1] = z\n",
        "output"
      ],
      "execution_count": null,
      "outputs": [
        {
          "output_type": "stream",
          "text": [
            "[[1. 1. 1. 1. 1.]\n",
            " [1. 1. 1. 1. 1.]\n",
            " [1. 1. 5. 1. 1.]\n",
            " [1. 1. 1. 1. 1.]\n",
            " [1. 1. 1. 1. 1.]]\n"
          ],
          "name": "stdout"
        },
        {
          "output_type": "execute_result",
          "data": {
            "text/plain": [
              "array([[0., 0., 0., 0., 0., 0., 0.],\n",
              "       [0., 1., 1., 1., 1., 1., 0.],\n",
              "       [0., 1., 1., 1., 1., 1., 0.],\n",
              "       [0., 1., 1., 5., 1., 1., 0.],\n",
              "       [0., 1., 1., 1., 1., 1., 0.],\n",
              "       [0., 1., 1., 1., 1., 1., 0.],\n",
              "       [0., 0., 0., 0., 0., 0., 0.]])"
            ]
          },
          "metadata": {
            "tags": []
          },
          "execution_count": 6
        }
      ]
    },
    {
      "cell_type": "code",
      "metadata": {
        "colab": {
          "base_uri": "https://localhost:8080/"
        },
        "id": "n1eIBKq3XbzS",
        "outputId": "60c7f36b-31e8-404b-f839-5285f9ba66e8"
      },
      "source": [
        "m = np.array([1,2,3])\n",
        "n = m.copy()\n",
        "\n",
        "n[0] = 100\n",
        "\n",
        "print(n)\n"
      ],
      "execution_count": null,
      "outputs": [
        {
          "output_type": "stream",
          "text": [
            "[100   2   3]\n"
          ],
          "name": "stdout"
        }
      ]
    }
  ]
}