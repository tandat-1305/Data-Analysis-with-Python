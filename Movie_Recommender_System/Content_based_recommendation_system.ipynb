{
  "nbformat": 4,
  "nbformat_minor": 0,
  "metadata": {
    "colab": {
      "name": "Content-based-recommendation-system.ipynb",
      "provenance": [],
      "collapsed_sections": [],
      "authorship_tag": "ABX9TyPlGP+1zfv3I//iNLqbslsZ",
      "include_colab_link": true
    },
    "kernelspec": {
      "name": "python3",
      "display_name": "Python 3"
    },
    "language_info": {
      "name": "python"
    }
  },
  "cells": [
    {
      "cell_type": "markdown",
      "metadata": {
        "id": "view-in-github",
        "colab_type": "text"
      },
      "source": [
        "<a href=\"https://colab.research.google.com/github/tandat-1305/Data-Analysis-with-Python/blob/main/Movie_Recommender_System/Content_based_recommendation_system.ipynb\" target=\"_parent\"><img src=\"https://colab.research.google.com/assets/colab-badge.svg\" alt=\"Open In Colab\"/></a>"
      ]
    },
    {
      "cell_type": "code",
      "execution_count": 36,
      "metadata": {
        "id": "huvGOomdvAuV"
      },
      "outputs": [],
      "source": [
        "import numpy as np\n",
        "import pandas as pd\n",
        "import matplotlib.pyplot as plt\n",
        "import seaborn as sns\n",
        "import matplotlib.pyplot as plt\n",
        "import os"
      ]
    },
    {
      "cell_type": "code",
      "source": [
        "netflix_data=pd.read_csv(\"https://raw.githubusercontent.com/tandat-1305/Data-Analysis-with-Python/main/Movie_Recommender_System/netflix_titles.csv\")\n",
        "netflix_data.head(10)"
      ],
      "metadata": {
        "colab": {
          "base_uri": "https://localhost:8080/",
          "height": 1000
        },
        "id": "1YahtKpsvlmS",
        "outputId": "6c25c455-0b87-4da7-f960-81c466551154"
      },
      "execution_count": 37,
      "outputs": [
        {
          "output_type": "execute_result",
          "data": {
            "text/plain": [
              "  show_id     type                             title  \\\n",
              "0      s1    Movie              Dick Johnson Is Dead   \n",
              "1      s2  TV Show                     Blood & Water   \n",
              "2      s3  TV Show                         Ganglands   \n",
              "3      s4  TV Show             Jailbirds New Orleans   \n",
              "4      s5  TV Show                      Kota Factory   \n",
              "5      s6  TV Show                     Midnight Mass   \n",
              "6      s7    Movie  My Little Pony: A New Generation   \n",
              "7      s8    Movie                           Sankofa   \n",
              "8      s9  TV Show     The Great British Baking Show   \n",
              "9     s10    Movie                      The Starling   \n",
              "\n",
              "                        director  \\\n",
              "0                Kirsten Johnson   \n",
              "1                            NaN   \n",
              "2                Julien Leclercq   \n",
              "3                            NaN   \n",
              "4                            NaN   \n",
              "5                  Mike Flanagan   \n",
              "6  Robert Cullen, José Luis Ucha   \n",
              "7                   Haile Gerima   \n",
              "8                Andy Devonshire   \n",
              "9                 Theodore Melfi   \n",
              "\n",
              "                                                cast  \\\n",
              "0                                                NaN   \n",
              "1  Ama Qamata, Khosi Ngema, Gail Mabalane, Thaban...   \n",
              "2  Sami Bouajila, Tracy Gotoas, Samuel Jouy, Nabi...   \n",
              "3                                                NaN   \n",
              "4  Mayur More, Jitendra Kumar, Ranjan Raj, Alam K...   \n",
              "5  Kate Siegel, Zach Gilford, Hamish Linklater, H...   \n",
              "6  Vanessa Hudgens, Kimiko Glenn, James Marsden, ...   \n",
              "7  Kofi Ghanaba, Oyafunmike Ogunlano, Alexandra D...   \n",
              "8  Mel Giedroyc, Sue Perkins, Mary Berry, Paul Ho...   \n",
              "9  Melissa McCarthy, Chris O'Dowd, Kevin Kline, T...   \n",
              "\n",
              "                                             country          date_added  \\\n",
              "0                                      United States  September 25, 2021   \n",
              "1                                       South Africa  September 24, 2021   \n",
              "2                                                NaN  September 24, 2021   \n",
              "3                                                NaN  September 24, 2021   \n",
              "4                                              India  September 24, 2021   \n",
              "5                                                NaN  September 24, 2021   \n",
              "6                                                NaN  September 24, 2021   \n",
              "7  United States, Ghana, Burkina Faso, United Kin...  September 24, 2021   \n",
              "8                                     United Kingdom  September 24, 2021   \n",
              "9                                      United States  September 24, 2021   \n",
              "\n",
              "   release_year rating   duration  \\\n",
              "0          2020  PG-13     90 min   \n",
              "1          2021  TV-MA  2 Seasons   \n",
              "2          2021  TV-MA   1 Season   \n",
              "3          2021  TV-MA   1 Season   \n",
              "4          2021  TV-MA  2 Seasons   \n",
              "5          2021  TV-MA   1 Season   \n",
              "6          2021     PG     91 min   \n",
              "7          1993  TV-MA    125 min   \n",
              "8          2021  TV-14  9 Seasons   \n",
              "9          2021  PG-13    104 min   \n",
              "\n",
              "                                           listed_in  \\\n",
              "0                                      Documentaries   \n",
              "1    International TV Shows, TV Dramas, TV Mysteries   \n",
              "2  Crime TV Shows, International TV Shows, TV Act...   \n",
              "3                             Docuseries, Reality TV   \n",
              "4  International TV Shows, Romantic TV Shows, TV ...   \n",
              "5                 TV Dramas, TV Horror, TV Mysteries   \n",
              "6                           Children & Family Movies   \n",
              "7   Dramas, Independent Movies, International Movies   \n",
              "8                       British TV Shows, Reality TV   \n",
              "9                                   Comedies, Dramas   \n",
              "\n",
              "                                         description  \n",
              "0  As her father nears the end of his life, filmm...  \n",
              "1  After crossing paths at a party, a Cape Town t...  \n",
              "2  To protect his family from a powerful drug lor...  \n",
              "3  Feuds, flirtations and toilet talk go down amo...  \n",
              "4  In a city of coaching centers known to train I...  \n",
              "5  The arrival of a charismatic young priest brin...  \n",
              "6  Equestria's divided. But a bright-eyed hero be...  \n",
              "7  On a photo shoot in Ghana, an American model s...  \n",
              "8  A talented batch of amateur bakers face off in...  \n",
              "9  A woman adjusting to life after a loss contend...  "
            ],
            "text/html": [
              "\n",
              "  <div id=\"df-ac48a21f-0651-470a-9f31-7c75b32f648c\">\n",
              "    <div class=\"colab-df-container\">\n",
              "      <div>\n",
              "<style scoped>\n",
              "    .dataframe tbody tr th:only-of-type {\n",
              "        vertical-align: middle;\n",
              "    }\n",
              "\n",
              "    .dataframe tbody tr th {\n",
              "        vertical-align: top;\n",
              "    }\n",
              "\n",
              "    .dataframe thead th {\n",
              "        text-align: right;\n",
              "    }\n",
              "</style>\n",
              "<table border=\"1\" class=\"dataframe\">\n",
              "  <thead>\n",
              "    <tr style=\"text-align: right;\">\n",
              "      <th></th>\n",
              "      <th>show_id</th>\n",
              "      <th>type</th>\n",
              "      <th>title</th>\n",
              "      <th>director</th>\n",
              "      <th>cast</th>\n",
              "      <th>country</th>\n",
              "      <th>date_added</th>\n",
              "      <th>release_year</th>\n",
              "      <th>rating</th>\n",
              "      <th>duration</th>\n",
              "      <th>listed_in</th>\n",
              "      <th>description</th>\n",
              "    </tr>\n",
              "  </thead>\n",
              "  <tbody>\n",
              "    <tr>\n",
              "      <th>0</th>\n",
              "      <td>s1</td>\n",
              "      <td>Movie</td>\n",
              "      <td>Dick Johnson Is Dead</td>\n",
              "      <td>Kirsten Johnson</td>\n",
              "      <td>NaN</td>\n",
              "      <td>United States</td>\n",
              "      <td>September 25, 2021</td>\n",
              "      <td>2020</td>\n",
              "      <td>PG-13</td>\n",
              "      <td>90 min</td>\n",
              "      <td>Documentaries</td>\n",
              "      <td>As her father nears the end of his life, filmm...</td>\n",
              "    </tr>\n",
              "    <tr>\n",
              "      <th>1</th>\n",
              "      <td>s2</td>\n",
              "      <td>TV Show</td>\n",
              "      <td>Blood &amp; Water</td>\n",
              "      <td>NaN</td>\n",
              "      <td>Ama Qamata, Khosi Ngema, Gail Mabalane, Thaban...</td>\n",
              "      <td>South Africa</td>\n",
              "      <td>September 24, 2021</td>\n",
              "      <td>2021</td>\n",
              "      <td>TV-MA</td>\n",
              "      <td>2 Seasons</td>\n",
              "      <td>International TV Shows, TV Dramas, TV Mysteries</td>\n",
              "      <td>After crossing paths at a party, a Cape Town t...</td>\n",
              "    </tr>\n",
              "    <tr>\n",
              "      <th>2</th>\n",
              "      <td>s3</td>\n",
              "      <td>TV Show</td>\n",
              "      <td>Ganglands</td>\n",
              "      <td>Julien Leclercq</td>\n",
              "      <td>Sami Bouajila, Tracy Gotoas, Samuel Jouy, Nabi...</td>\n",
              "      <td>NaN</td>\n",
              "      <td>September 24, 2021</td>\n",
              "      <td>2021</td>\n",
              "      <td>TV-MA</td>\n",
              "      <td>1 Season</td>\n",
              "      <td>Crime TV Shows, International TV Shows, TV Act...</td>\n",
              "      <td>To protect his family from a powerful drug lor...</td>\n",
              "    </tr>\n",
              "    <tr>\n",
              "      <th>3</th>\n",
              "      <td>s4</td>\n",
              "      <td>TV Show</td>\n",
              "      <td>Jailbirds New Orleans</td>\n",
              "      <td>NaN</td>\n",
              "      <td>NaN</td>\n",
              "      <td>NaN</td>\n",
              "      <td>September 24, 2021</td>\n",
              "      <td>2021</td>\n",
              "      <td>TV-MA</td>\n",
              "      <td>1 Season</td>\n",
              "      <td>Docuseries, Reality TV</td>\n",
              "      <td>Feuds, flirtations and toilet talk go down amo...</td>\n",
              "    </tr>\n",
              "    <tr>\n",
              "      <th>4</th>\n",
              "      <td>s5</td>\n",
              "      <td>TV Show</td>\n",
              "      <td>Kota Factory</td>\n",
              "      <td>NaN</td>\n",
              "      <td>Mayur More, Jitendra Kumar, Ranjan Raj, Alam K...</td>\n",
              "      <td>India</td>\n",
              "      <td>September 24, 2021</td>\n",
              "      <td>2021</td>\n",
              "      <td>TV-MA</td>\n",
              "      <td>2 Seasons</td>\n",
              "      <td>International TV Shows, Romantic TV Shows, TV ...</td>\n",
              "      <td>In a city of coaching centers known to train I...</td>\n",
              "    </tr>\n",
              "    <tr>\n",
              "      <th>5</th>\n",
              "      <td>s6</td>\n",
              "      <td>TV Show</td>\n",
              "      <td>Midnight Mass</td>\n",
              "      <td>Mike Flanagan</td>\n",
              "      <td>Kate Siegel, Zach Gilford, Hamish Linklater, H...</td>\n",
              "      <td>NaN</td>\n",
              "      <td>September 24, 2021</td>\n",
              "      <td>2021</td>\n",
              "      <td>TV-MA</td>\n",
              "      <td>1 Season</td>\n",
              "      <td>TV Dramas, TV Horror, TV Mysteries</td>\n",
              "      <td>The arrival of a charismatic young priest brin...</td>\n",
              "    </tr>\n",
              "    <tr>\n",
              "      <th>6</th>\n",
              "      <td>s7</td>\n",
              "      <td>Movie</td>\n",
              "      <td>My Little Pony: A New Generation</td>\n",
              "      <td>Robert Cullen, José Luis Ucha</td>\n",
              "      <td>Vanessa Hudgens, Kimiko Glenn, James Marsden, ...</td>\n",
              "      <td>NaN</td>\n",
              "      <td>September 24, 2021</td>\n",
              "      <td>2021</td>\n",
              "      <td>PG</td>\n",
              "      <td>91 min</td>\n",
              "      <td>Children &amp; Family Movies</td>\n",
              "      <td>Equestria's divided. But a bright-eyed hero be...</td>\n",
              "    </tr>\n",
              "    <tr>\n",
              "      <th>7</th>\n",
              "      <td>s8</td>\n",
              "      <td>Movie</td>\n",
              "      <td>Sankofa</td>\n",
              "      <td>Haile Gerima</td>\n",
              "      <td>Kofi Ghanaba, Oyafunmike Ogunlano, Alexandra D...</td>\n",
              "      <td>United States, Ghana, Burkina Faso, United Kin...</td>\n",
              "      <td>September 24, 2021</td>\n",
              "      <td>1993</td>\n",
              "      <td>TV-MA</td>\n",
              "      <td>125 min</td>\n",
              "      <td>Dramas, Independent Movies, International Movies</td>\n",
              "      <td>On a photo shoot in Ghana, an American model s...</td>\n",
              "    </tr>\n",
              "    <tr>\n",
              "      <th>8</th>\n",
              "      <td>s9</td>\n",
              "      <td>TV Show</td>\n",
              "      <td>The Great British Baking Show</td>\n",
              "      <td>Andy Devonshire</td>\n",
              "      <td>Mel Giedroyc, Sue Perkins, Mary Berry, Paul Ho...</td>\n",
              "      <td>United Kingdom</td>\n",
              "      <td>September 24, 2021</td>\n",
              "      <td>2021</td>\n",
              "      <td>TV-14</td>\n",
              "      <td>9 Seasons</td>\n",
              "      <td>British TV Shows, Reality TV</td>\n",
              "      <td>A talented batch of amateur bakers face off in...</td>\n",
              "    </tr>\n",
              "    <tr>\n",
              "      <th>9</th>\n",
              "      <td>s10</td>\n",
              "      <td>Movie</td>\n",
              "      <td>The Starling</td>\n",
              "      <td>Theodore Melfi</td>\n",
              "      <td>Melissa McCarthy, Chris O'Dowd, Kevin Kline, T...</td>\n",
              "      <td>United States</td>\n",
              "      <td>September 24, 2021</td>\n",
              "      <td>2021</td>\n",
              "      <td>PG-13</td>\n",
              "      <td>104 min</td>\n",
              "      <td>Comedies, Dramas</td>\n",
              "      <td>A woman adjusting to life after a loss contend...</td>\n",
              "    </tr>\n",
              "  </tbody>\n",
              "</table>\n",
              "</div>\n",
              "      <button class=\"colab-df-convert\" onclick=\"convertToInteractive('df-ac48a21f-0651-470a-9f31-7c75b32f648c')\"\n",
              "              title=\"Convert this dataframe to an interactive table.\"\n",
              "              style=\"display:none;\">\n",
              "        \n",
              "  <svg xmlns=\"http://www.w3.org/2000/svg\" height=\"24px\"viewBox=\"0 0 24 24\"\n",
              "       width=\"24px\">\n",
              "    <path d=\"M0 0h24v24H0V0z\" fill=\"none\"/>\n",
              "    <path d=\"M18.56 5.44l.94 2.06.94-2.06 2.06-.94-2.06-.94-.94-2.06-.94 2.06-2.06.94zm-11 1L8.5 8.5l.94-2.06 2.06-.94-2.06-.94L8.5 2.5l-.94 2.06-2.06.94zm10 10l.94 2.06.94-2.06 2.06-.94-2.06-.94-.94-2.06-.94 2.06-2.06.94z\"/><path d=\"M17.41 7.96l-1.37-1.37c-.4-.4-.92-.59-1.43-.59-.52 0-1.04.2-1.43.59L10.3 9.45l-7.72 7.72c-.78.78-.78 2.05 0 2.83L4 21.41c.39.39.9.59 1.41.59.51 0 1.02-.2 1.41-.59l7.78-7.78 2.81-2.81c.8-.78.8-2.07 0-2.86zM5.41 20L4 18.59l7.72-7.72 1.47 1.35L5.41 20z\"/>\n",
              "  </svg>\n",
              "      </button>\n",
              "      \n",
              "  <style>\n",
              "    .colab-df-container {\n",
              "      display:flex;\n",
              "      flex-wrap:wrap;\n",
              "      gap: 12px;\n",
              "    }\n",
              "\n",
              "    .colab-df-convert {\n",
              "      background-color: #E8F0FE;\n",
              "      border: none;\n",
              "      border-radius: 50%;\n",
              "      cursor: pointer;\n",
              "      display: none;\n",
              "      fill: #1967D2;\n",
              "      height: 32px;\n",
              "      padding: 0 0 0 0;\n",
              "      width: 32px;\n",
              "    }\n",
              "\n",
              "    .colab-df-convert:hover {\n",
              "      background-color: #E2EBFA;\n",
              "      box-shadow: 0px 1px 2px rgba(60, 64, 67, 0.3), 0px 1px 3px 1px rgba(60, 64, 67, 0.15);\n",
              "      fill: #174EA6;\n",
              "    }\n",
              "\n",
              "    [theme=dark] .colab-df-convert {\n",
              "      background-color: #3B4455;\n",
              "      fill: #D2E3FC;\n",
              "    }\n",
              "\n",
              "    [theme=dark] .colab-df-convert:hover {\n",
              "      background-color: #434B5C;\n",
              "      box-shadow: 0px 1px 3px 1px rgba(0, 0, 0, 0.15);\n",
              "      filter: drop-shadow(0px 1px 2px rgba(0, 0, 0, 0.3));\n",
              "      fill: #FFFFFF;\n",
              "    }\n",
              "  </style>\n",
              "\n",
              "      <script>\n",
              "        const buttonEl =\n",
              "          document.querySelector('#df-ac48a21f-0651-470a-9f31-7c75b32f648c button.colab-df-convert');\n",
              "        buttonEl.style.display =\n",
              "          google.colab.kernel.accessAllowed ? 'block' : 'none';\n",
              "\n",
              "        async function convertToInteractive(key) {\n",
              "          const element = document.querySelector('#df-ac48a21f-0651-470a-9f31-7c75b32f648c');\n",
              "          const dataTable =\n",
              "            await google.colab.kernel.invokeFunction('convertToInteractive',\n",
              "                                                     [key], {});\n",
              "          if (!dataTable) return;\n",
              "\n",
              "          const docLinkHtml = 'Like what you see? Visit the ' +\n",
              "            '<a target=\"_blank\" href=https://colab.research.google.com/notebooks/data_table.ipynb>data table notebook</a>'\n",
              "            + ' to learn more about interactive tables.';\n",
              "          element.innerHTML = '';\n",
              "          dataTable['output_type'] = 'display_data';\n",
              "          await google.colab.output.renderOutput(dataTable, element);\n",
              "          const docLink = document.createElement('div');\n",
              "          docLink.innerHTML = docLinkHtml;\n",
              "          element.appendChild(docLink);\n",
              "        }\n",
              "      </script>\n",
              "    </div>\n",
              "  </div>\n",
              "  "
            ]
          },
          "metadata": {},
          "execution_count": 37
        }
      ]
    },
    {
      "cell_type": "code",
      "source": [
        "netflix_data.info()"
      ],
      "metadata": {
        "colab": {
          "base_uri": "https://localhost:8080/"
        },
        "id": "Y8zcUAZqvsf6",
        "outputId": "cf3c884d-3578-467e-eee0-210ff08698d2"
      },
      "execution_count": 38,
      "outputs": [
        {
          "output_type": "stream",
          "name": "stdout",
          "text": [
            "<class 'pandas.core.frame.DataFrame'>\n",
            "RangeIndex: 8807 entries, 0 to 8806\n",
            "Data columns (total 12 columns):\n",
            " #   Column        Non-Null Count  Dtype \n",
            "---  ------        --------------  ----- \n",
            " 0   show_id       8807 non-null   object\n",
            " 1   type          8807 non-null   object\n",
            " 2   title         8807 non-null   object\n",
            " 3   director      6173 non-null   object\n",
            " 4   cast          7982 non-null   object\n",
            " 5   country       7976 non-null   object\n",
            " 6   date_added    8797 non-null   object\n",
            " 7   release_year  8807 non-null   int64 \n",
            " 8   rating        8803 non-null   object\n",
            " 9   duration      8804 non-null   object\n",
            " 10  listed_in     8807 non-null   object\n",
            " 11  description   8807 non-null   object\n",
            "dtypes: int64(1), object(11)\n",
            "memory usage: 825.8+ KB\n"
          ]
        }
      ]
    },
    {
      "cell_type": "code",
      "source": [
        "netflix_shows=netflix_data[netflix_data['type']=='TV Show']\n",
        "netflix_movies=netflix_data[netflix_data['type']=='Movie']"
      ],
      "metadata": {
        "id": "qK5YVaFfvvlA"
      },
      "execution_count": 39,
      "outputs": []
    },
    {
      "cell_type": "code",
      "source": [
        "sns.set(style=\"white\")\n",
        "ax = sns.countplot(x=\"type\", data=netflix_data, palette=\"bright\")"
      ],
      "metadata": {
        "colab": {
          "base_uri": "https://localhost:8080/",
          "height": 285
        },
        "id": "ApYU_RhJvyWS",
        "outputId": "e8a8b1f1-2b87-4654-bc55-9717a10a52b6"
      },
      "execution_count": 40,
      "outputs": [
        {
          "output_type": "display_data",
          "data": {
            "text/plain": [
              "<Figure size 432x288 with 1 Axes>"
            ],
            "image/png": "[encoded data removed]"
          },
          "metadata": {}
        }
      ]
    },
    {
      "cell_type": "code",
      "source": [
        "plt.figure(figsize=(12,10))\n",
        "sns.set(style=\"whitegrid\")\n",
        "ax = sns.countplot(x=\"rating\", data=netflix_data, palette=\"bright\", order=netflix_data['rating'].value_counts().index[0:15])"
      ],
      "metadata": {
        "colab": {
          "base_uri": "https://localhost:8080/",
          "height": 611
        },
        "id": "XL_68Q23v0Zw",
        "outputId": "0cf4f4b0-2070-4ff2-c099-667d83aa97e4"
      },
      "execution_count": 41,
      "outputs": [
        {
          "output_type": "display_data",
          "data": {
            "text/plain": [
              "<Figure size 864x720 with 1 Axes>"
            ],
            "image/png": "[encoded data removed]"
          },
          "metadata": {}
        }
      ]
    },
    {
      "cell_type": "code",
      "source": [
        "plt.figure(figsize=(12,10))\n",
        "sns.set(style=\"whitegrid\")\n",
        "ax = sns.countplot(y=\"release_year\", data=netflix_data, palette=\"bright\", order=netflix_data['release_year'].value_counts().index[0:15])"
      ],
      "metadata": {
        "colab": {
          "base_uri": "https://localhost:8080/",
          "height": 611
        },
        "id": "FnLD4LKcwBLn",
        "outputId": "ad0807e3-292e-4c2d-c8dd-a5d722fca510"
      },
      "execution_count": 42,
      "outputs": [
        {
          "output_type": "display_data",
          "data": {
            "text/plain": [
              "<Figure size 864x720 with 1 Axes>"
            ],
            "image/png": "[encoded data removed]"
          },
          "metadata": {}
        }
      ]
    },
    {
      "cell_type": "markdown",
      "source": [
        "**Biểu đồ này cho thấy hầu hết các nội dung được sản xuất vào năm 2017, 2018 và 2019. Thực tế thú vị là trong các năm 2020 và 2021 số lượng nội dung được sản xuất thấp. Điều này chủ yếu là do đại dịch Covid-19**"
      ],
      "metadata": {
        "id": "ll_cFQg3wIii"
      }
    },
    {
      "cell_type": "markdown",
      "source": [
        "# **RECOMMENDATION SYSTEM**"
      ],
      "metadata": {
        "id": "ym1FuGQowbvd"
      }
    },
    {
      "cell_type": "markdown",
      "source": [
        "![image.png](data:image/png;base64,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)\n",
        "![image.png](data:image/png;base64,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)"
      ],
      "metadata": {
        "id": "NbF4XSY6wjG0"
      }
    },
    {
      "cell_type": "markdown",
      "source": [
        "**Điểm TF-IDF (Tần suất tài liệu nghịch đảo thuật ngữ (TF-IDF)) là tần suất xuất hiện của một từ trong tài liệu, được giảm trọng số theo số lượng tài liệu xuất hiện trong đó. Điều này được thực hiện để giảm tầm quan trọng của các từ xuất hiện thường xuyên trong tổng quan cốt truyện và do đó, tầm quan trọng của chúng trong việc tính toán điểm tương tự cuối cùng.**"
      ],
      "metadata": {
        "id": "QT6JPiRrwolS"
      }
    },
    {
      "cell_type": "code",
      "source": [
        "from sklearn.feature_extraction.text import TfidfVectorizer\n",
        "\n",
        "tfidf = TfidfVectorizer(stop_words='english')\n",
        "netflix_data['description'] = netflix_data['description'].fillna('')\n",
        "tfidf_matrix = tfidf.fit_transform(netflix_data['description'])\n",
        "tfidf_matrix.shape"
      ],
      "metadata": {
        "colab": {
          "base_uri": "https://localhost:8080/"
        },
        "id": "9jil5JkGw8hN",
        "outputId": "3c0176ae-07fe-4fbd-869d-e7ecb9f45528"
      },
      "execution_count": 43,
      "outputs": [
        {
          "output_type": "execute_result",
          "data": {
            "text/plain": [
              "(8807, 18895)"
            ]
          },
          "metadata": {},
          "execution_count": 43
        }
      ]
    },
    {
      "cell_type": "markdown",
      "source": [
        "**Điểm tương tự Cosine được sử dụng vì nó không phụ thuộc vào độ lớn và tương đối dễ dàng và nhanh chóng để tính toán**\n",
        "![image.png](data:image/png;base64,iVBORw0KGgoAAAANSUhEUgAAAb4AAABxCAIAAAAlJlFrAAAgAElEQVR4nO2deVhTV97Hj5ACMYYQwEiEJhFxIkrUyuYIuDFDQR1G5mGZagvjMrYuzMu41Gk7bji2Ltj6QNVHH6Fgi1MJDry4sIkYARtiQUoQiIAQCgTCEgheIOEG3z/O20yahEhQQPB8/iLn3pz87gW++d1zfsu058+fAwQCgdAAy4ua8R7/8Pd3j6yZPh6f11dy6Xw5299/pQtd92Dnld+dXnDnhNt4GKK259qJZJHze9tC3GcT9J8yDUknAoFAGIvJRBuAQCAQkw8knQgEAmE0SDoRCATCaJB0IhAIhNEg6UQgEAijQdKJQCAQRoOkE4FAIIwGSScCgUAYDZJOBAKBMBoknQgEAmE0SDoRCATCaJB0IhAIhNEMUxUEgUCMAXFxcQCAnp4epVJJJpP3798/0RYhRgnyOhGIceLQoUMeHh5ffvklACAkJOTjjz8Wi8UTbRRilKCicwjEOFFbW9vf3x8WFnbv3j0SiTRjxgwcx01NTSfaLsRoQF4nAjFOODk5ZWVlrVmzhkaj3b59e/78+VKpdKKNQowSJJ0IxPjx8OHDpUuXAgCEQuGDBw9iYmIm2iLEKEEP7AjE+JGVleXj40MikaRSaVVVlZubG4lEmmijEKMBSScCMX6oVCr14iaO4wQCCnGZrCDpRCAQCKNBX3oIxBjC4/Hy8vL6+/uHhoZ0j5qYmAAAiESimZnZH//4Rw6HM+4GIkYJkk4EYgwpLy8/duxYfHz8woULlUqlenxoaMjExOTp06c5OTlXr14FAPT09Jw+ffqFE+I4vnHjxoMHDxrWWZlMVlRUZGZmph5RKpXz5s2bO3cuWiV4JaAHdgRiDJFIJP/85z8TEhLKy8uHE7va2tovvvhCLBZzuVwqlWp4woSEhK1bt967d8/b29tATKhYLP7www/FYrGtre3q1aubm5sHBgZKS0sHBga+//57T0/Pl7oqBApOQiDGFDqdvn37dm9v782bNw+XO+Tk5BQbG2ttbZ2WlmZ4NpFI1NLSAgCQSqWGnR4mk/nNN9/Y2tpu2LAhOjo6Pj4+OTn5xo0b7u7ut27dQvGkLw+STgRibPH09Ny2bVtdXV10dLRMJtN7DolEOn36NJlMNjAPjuOnTp16++23vb29W1tbX/i5HR0dhYWFmm5sZ2enRCLBMEylUhl7FQgt0KoHAjHmBAcHV1RUxMTErFix4v3339f7oM1kMplMpoFJkpOTmUzm0qVLSSRSe3u7QqEwsGqJ43h1dfX8+fMdHBwAACqVSi6XCwQCc3Pz0NBQOp3+8hf1hoOkE4EYc0gkElx5PHDggJeXl5OTk7EzYBgmlUo3btxIIpFwHG9ubjZ8fm9vr1AotLe3BwDU1tZKJJL09PTu7u7jx4+7ubmN8jIQGqAHdgRiPHByctq7dy+dTj98+PAoCialpqaKxWKVSmVhYWFmZiaRSDSPFhcXa805MDAgEAisra0lEklaWlpZWZmdnZ29vf306dPhCRiGCYVCDMNe5qLeZJDXiUCME56enpGRkVu3bvX19d2yZcvI3ygUCu/fv29vb5+TkwMAkEgkpqamSqVSncSZnZ3t7Oys+bzf0dGRnZ0dHx8fEREBR0Qi0d///veurq7PPvuMTqfL5fKsrKyIiAiUCTo6kHQiEOOHu7t7SEjIwoULR/4WHMfv3btnb2/PYrEwDCORSKampnV1deoTRCLRX//6V83lS7jQ6ezsPHfuXPUgjCqVSqUYhkkkko6OjoiICBsbm1dxWW8iSDoRiHECPjtv27Zt5GGVOI7fuXOHRCKFhYXRaDQ4WFpaWlJSAn+ura3t7u6Ojo5OTk5Wv0uhUAiFwnfeeUe9rInjeGlpaWZmZmxsLIvFunDhQnt7O4vFCgoKemEkKUIvSDoRiPFAJpN99913zs7Ovr6+I3yLVCrNzMy8fPny6tWr1ZM8efIERmXeuXOHwWDk5uZu3br16tWrUDpxHC8qKurt7c3Pz2cwGBUVFQCAgYGB8vJyPp+/Z8+ewMBAAACJROrp6WloaBgcHByTq30DQNlECMSYg+P4hQsX7OzsgoKC9EYUqVSqpqam1tZWTYdUKBQmJiZ2d3czmcyNGzc6OTkJhcLq6moAQF9f3/Tp0ykUCp1OT0tL6+npOXPmDAAAw7AzZ85AZSSTyfB5HO4FsdlsDodDp9PhA/sXX3wRFBTk7++P8jJHB5JOBGLM4XK5vb29YWFhw+3JYBh2/vx5Z2fn9evXaw5KJJK33noLAGBra0sikWBEvaWlpToyVKVS2dvbx8XFUSgUPz8/KMFmZmampqaace+WlpaaH11cXHzp0iVra+tPP/0UPbCPDvSFgzAClUpVX18PAGCxWKPwVjAMa2pq0goIt7Gxmdr/vTk5OX19fQZ0UygU5uTkPHz4cOfOnZrjJBJJKwJU90aZmpq2tbUJhcJNmzbBl4bj6iEDAwNisbi3txc9sI8aJJ0II+js7Pz+++/r6+s/+eSTUcR1P3369MSJExYWFgMDAxYWFgAAa2vr/v5+c3NzKpX6+9//3s3NbYq1OSsuLk5KSpo9e7ZKpSKTyUQiEY53dnbK5fKBgYHe3l6BQFBcXBwZGTm6OCE+nz99+nQ2mz3ytyxatOirr76ytLS0trYexSciAJJOhFGIRKLs7OzCwkJ/f/9ROJ4ODg7bt2/ncrkJCQlbtmwJDw+3s7MDAFy6dOngwYPp6enXr18fidM0iSgsLAQAdHV15eXlQRfv2bNnME5IoVAAAMzNzc3MzP70pz+tW7dudB8xijJIVCp1anv64wCSToQR1NTUQC3g8Xje3t7GpkJTqdRFixbxeDwAgL29vbOzMwy4CQ0NFQgEhYWFVVVVDg4OU8nx/OCDDzZu3Ah/VtfrHBwchCuYAABYUtPU1BQ5gJMLJJ2IkVJbW1taWuro6NjV1ZWamhoZGTmKKhKDg4M4jmsN9vT0wB+mXmaLOhgTMcVAOeyIkVJbW9vf379p0yYXF5e2tracnJyXyYAmEAjQ8xKLxRkZGYWFhSEhIWw2eyq5nAAAHo/3r3/9SyvlXJfi4uIzZ86IRKLxsQrx8iCvEzEiZDKZQCBYsmRJQEBAc3NzYWFhZmZmYGDgqP3E77//Pjc399mzZ93d3Q0NDQEBASEhIVMvL1Aqlb799tuWlpbDnYDj+CeffNLf3//TTz/5+fmNp22IlwF5nYgR8eTJk4qKiiVLljg5OQUFBTk7O2dmZjY2Ng53/qZNm2C4zHAEBwd/9913Dx8+rKmpyc7O7u3tDQ0NTUpK0n2cn9SEhIQYLrFBIBBOnDixf//+jo6O8TQM8ZIgrxPxYlQqVXV1NZfL5XK5VlZWdnZ2MDY7IyPDxcVF717t1atXraysZDKZgZ1cIpEI9+j9/PzgM/uxY8emTFa1UCg8duwYl8uFXYkSEhKqqqrgISKRSKFQbG1t6XS6n5+fqampmZmZZtM3xOsPkk7Ei6msrLx27VpISIiLiwuO4wQCITc3t62tLSYmZvfu3XqVbnBwsL29feQiCPeXGxoaXqXdE0pzc3N4eDiZTG5ubuZwOAsXLnRwcDA3N4dHYWQSYvKCpPO1AObMGdghUalUE7h/IhaLZ8yY8fnnn6vD4J2dnTs6OqqrqwUCga2trYWFhZZ5BAJB7/67ZnagSqWC18Xj8fLz8wEAu3bt0ux/O6nx9/e/efMmAGDOnDlgZNGXU+ba3wReTQ47XJ8yKkBapVLBjyYQCDiOq8ODjY2yhvNM6hIGsN+sv79/SEiIehBuXsMbUlxcnJKSsmPHjlEk8LwkxcXFf/7zn62srExNTR0dHffu3evp6RkXF5eUlNTX19fV1eXg4IBhWHR09HCFLTQpKCjYvn27hYWFRCKh0+lQbZuamtra2lgslru7+zfffDOV4pPi4uIsLS0rKip279597949zSKbaqKjo1UqlVQqDQ0NzcrKGsW/AGJCeAXSiWHYkSNH7Ozs9u7dO/J3CYVCLpfLYrHCwsJSU1Pj4uJKSkpSUlI05WMk5OTk5Obm7t69W52FAsvBGjXJBIJh2LVr12Qymebdg9UZJBKJo6NjZGQkm80+c+ZMf3//3//+93G+NFjlTP2SwWDQ6XSxWKzVkVGpVP72t7994f+81myauLi4TKLf2ghJSko6cuTIkSNHgoODh7s6lUqVmZnZ2dl55MiRP/3pTwsXLjSqgDxiwnj+0pSXl8+aNcvV1dWod2VnZ7u6um7ZsqWtrQ2+BADcuHHD2E+PjY0FAJSXl8OXOI7v27fv2bNnxs4zUfD5/JCQEHgTIDU1NVu2bLlx48bg4OCePXvgPampqQkICODz+RNnKcJoBgcHu7q6cBw3cA6O49nZ2YmJifHx8bGxsZmZmeNmHuJleAWPBhwOJy4uztisCQ6Hc+TIEQqFAr+N6XS6lZXVKD7dz8/vxo0bsGMqACA3N/fx48ejmGdCwDDs22+/9fT0VN89lUr16NEjKysrDodDIBDs7OwEAoGHh4eTk5Ovr29sbOzXX389NTag3wQIBMILf1mmpqYonHMyYrR0ymQyWKQa1r9xcnKSSqUrV66Uy+UAAAzDOjo6BgcHbWxsBgcHZTKZhYWFvb29QqGACRV0Oh1qpYWFhaurKwBAveeo91MsLS1hqUF1vTL4drlc7uDgoFQqLS0tORyOmZkZhmFyuZzL5To7O8Mqh0wmE7YJhGUXYLh1Z2cnAIBEIr2SVtQ4jjc0NKhUKrWd4JfSakqlkkgkqmtk4DheV1cHBwEAcNUSwzA+nw8Ld0Nqa2vT09M3bNgA1x8UCkV1dXV/fz8AgMPhXL58eWBg4OXNRiAQL4lx0olh2HfffdfY2Eij0Xp7ey9dulRXV3f16tXKysqEhITnz59LJJKLFy/euXMnKCiIyWRWVFT09/fDStQ1NTWNjY0uLi6BgYFUKrW4uDg2NpZKpcbExOiq2Llz565fv75x40aFQjF79uzw8PCOjo5Tp05JJBIqlbpkyZKHDx+Gh4fDKJnbt2+npKQAABITE2/duvXBBx+kpaX19vZGR0cnJSX19vbeunVrzZo1/v7+/f39J0+eJBKJ27ZtU3cKBL/UlIUKpUa93QmrxuoW9cIw7Pbt23w+n0QidXV1BQYG+vn5yWSyO3fu8Pl8ExOToaGh1atXw8u/e/fu5cuXYXDPjRs3Hj16BACor6/v6+vjcDjqOWtqamA2HlxPrKqq8vT0hLkojo6O06ZN6+jo0L1dKpWqtrbWwBb8lK+JCTS+tg2cM/77bIipinHSWVpampKS8vnnn/v4+BQXF8Mdw/Xr1+fm5jo6OgIA6HR6YGBgTEzMvHnzIiIiAgMDDx48+D//8z8nTpyIjIzMyck5deqUo6Ojj4/P4sWL4T+z7j88juPJyck7d+6MjIzk8Xg7duxYuHChq6vr9u3bv/3229TU1IiIiGXLltXU1Hh5ebFYrNbW1r6+PgaDERgY+PPPPw8NDfn7+0PhCwsL6+7ujomJ2bFjB4fDaW1tdXR09Pf313pEksvlmZmZZWVl0CWEjrCJiQl8CcOVo6OjtYxMTU09efLktWvXHBwcvvrqK5FI5OXllZaWlpeXd/ToUdgOITQ0lEAg+Pv7Hzt27G9/+1tISIhUKoVtZFQqVWNj4+zZs9VSKJPJysrKaDRaa2trRkZGe3v7o0eP3nvvPSidLBaLwWDATodaGzIDAwOXL1+mUCjQeHW4Ajza398/ZeLMDdDR0ZGXl9fU1AQAMDEx0XqaUSgURCLRqJ1MBMIAxkmnlZUVmUxOTExsbW1lMBgbNmwwNzeHPU9qamoAACQSaenSpQAAT09PJpOJYRibzZZKpYsWLQIAUCgU+GQNAKDT6c7Ozur8il/ZRCAkJiYCAAoKCnp7e21sbKqrqz09PV1cXObMmePi4kKhUFxcXGAei1gshtHUdDqdTqdzuVyFQqEWF+gq+vr68vn8yMjIwcFBJpOpu4NJo9ECAwNXrVoFhomt0830aG5u/stf/rJnzx7oM+7YsQOuGBQVFfn6+rJYLAAAh8NZv3798ePHfXx8yGRyeno6kUicOXOmZjFwzVJjcrm8qqrKzc0NPsKnpKR0dXXNnDkTfrsQCAR7e/uqqqqgoCAtYywsLMLDw+HPeu3XuxItFourqqomY+Ijk8nUdNUhtra2Xl5e8Dc18gBJmUz28OFDlMkzRnh5eU3V72zjpJPD4ezcuTMtLe3QoUNKpTIqKgqOUyiUoaEh+DP8K9S6X5qupYnJ/yfOm5ubw1LhurS3twsEAii16kGlUjk0NGRtbW1jY0MikQzHskgkEqVSCVcMN27cuHXr1g0bNgAAPDw8dE82NTW1tbVVV/DWRTOQWxO1DdBzFAqFzc3NZDJZ7RUSicTCwkIMwz755JOMjIyzZ8/m5eXt2bNHKpXSaDQymaw5m1wur6ys9PX1ZTKZcLU3ODiYwWBontPT06NQKLS8Tmi/gQd2vVIil8tramomo2qYmZnpSqe5uTmNRjO2Y8TAwEBTUxPMK0W8cjgcDpJOAACora1lMpkff/xxd3d3YWHhoUOH3n//fa1b8/IZETk5OX/4wx9SUlLWrl0LADh79qxcLq+trYXyRCaT1WVih4NAIFy9epXNZkPpDAgIsLKyOnny5OrVqz/99FPd86VSKY/Hq6qqUss6xNzcHI5gGHbo0CHdN2IYBvNh4H6RWCy2tLRsaGhQ526ry7INDQ3t37+/ra2turo6NDQUhu/Z29trliPr6+szNTWFHmJFRUVLS8tHH32kubIpkUgWLFigu7Emk8kuXLgw3J1XKpUhISG6WsPhcHQHJy/Nzc3wgV3rl6iGQqFERkZqDdLpdBRHOXaofQ74TDZz5swpE/Bv3GUUFRU9fPgwMjLS09PzN7/5TXFxMRxvbW1V/71CL0YtGfClWuw0fRy4JKepg/C2ZmRkAAC8vb1JJFJBQcHTp0/Lysp6enr+8Y9/wE/R1AioI9OnT4cv+/v7oRgVFxcHBwfDQRqNtm3btpiYmIiICL3fgW+99RaDwYBrhZqopVNrBwkAYGtrGxsbm5SUVFlZyeFw6urqbt686e3t7enpmZeXB7fCxGKxQCCIj4+3sbG5dOnS0aNH1WoFo6lsbW2fPXsGPVAAgJWV1eLFi2F6lUAg8PX1hasfEIlEIpVK2Wz2tGnTtIwxMzNbvnz5cJIBP2i4Q1MGIpEI88QNnDCe9iDAL4+bOI7n5+fzeLzg4OBRtAN5PTFOOn/++eeffvrp8uXLsKWMj4+PpaVlUlISn88HACQkJPj6+iYlJQEA+Hw+TN3Ny8uTSqUZGRlz5szJz89vaWnJyMhQKpX9/f0PHjzo7e09d+7ckiVL8vPzu7u7uVwujuNRUVFFRUVffvmls7NzZ2fnrl27+Hy+lZVVcnJyenp6Z2fnhQsXoBtVXFzM5XIBAImJifv27aPT6StWrDh79mxcXBwMToJmm5qahoeH37p1KyAgQO91UalUY3+jJBLp/fff7+npOXbsmI+PT2Njo7Ozs5ubG4PBoFKpGRkZFhYWZWVlGzZsCAsLMzU1tbCwyMzM7OnpMTc337Vrl6+vLzRMoVCIRCIonQ4ODv7+/t9++61QKGSxWCtXrtRclKitre3s7GQymboP5iQSyd/f3yj7h0Ot4xM4w+ig0WioJPvriUKhKCsri4mJodFoU0Y6jUvEFIlESqWyr69vYGDAxMTEycmJTqerfU+lUuni4lJRUQG9wunTp5uZmXV3d4NfvMLu7m71IQBAX18ffJeVlRU8DQAAo8GFQmFXV5eFhYWNjc1bb73V2tpqZWWlVCq7urpg0A+LxYJhm42NjXAHHO4awVS/gYEBa2tr6N/BZ2ehUHjx4sWvv/76Fd47OHl5eTkAwMLCYs6cOfBfF8Owp0+fdnV1AQAWLVoE/VyhUGhmZtba2qpQKNQrCTKZ7MMPP/Tx8VE/SMpkMngDf/Ob32g5yAkJCampqYmJia9cIEQiEZ/Pj4iIwHH8888/17s08UJu3rwZEBBgamq6e/du9X3GMKyoqMjPzw/eE1hmzahpuVzuokWL2Gw2hmE//vjjypUrR2HbGwusDjHhGa6wO3xVVdXjx4+nTJCDcV6n3oalWl8jPj4+L2URAAAArTW44bokMplMrUNa/mNOTk5GRsbXX3+dk5MzFv91VCpVd1oSiaR3YRHo3EAymRweHn7lyhX1kjGVStV7A6VSaVZW1ubNm8ei+Vdra+utW7ciIiIUCkVubq5e6ZRIJKmpqXPmzFm9erXef0WBQAA933PnzqmlU6lUCoVCPz8/pVIpFovNzMzodDosX0Amk+G3oGb5NTabvXbtWs35eTwehUKB0lleXv46SKdEIvnyyy/V+6LjCYlE2rFjx8i/fqqqqs6ePWttbT3+1ioUis8++wyaCrcxBQKBgTWlSccUWbIdjqampnPnzrm7u5uZmcFNp9cKAoHg6up65cqVtLQ0w5sVsIukh4fHWKyya/5B603uAgDU1tYeP3586dKlegODDKBemNa0nMViFRUVJSQkBAQE+Pr6wq+NrKys69ev83i8qKgodez6cPZMICUlJY8ePTp48OCE1Nw00KtDF4lE0tvbGx4ePv6mDg0NqTc2YBB0bm7u9evXx9mMsWOKS2dQUJC7uzuRSITxTBNtjh7odPrevXsPHz7s4OAwXC5zXFxcQUHBwYMHDeyBjCkSiQTWNs7MzAwODnZ0dHyZm+ns7Ozs7Aw3EmfMmOHn5wfzKdzd3Tdv3nzu3DkikXjixInXtr/b+fPno6KiVq5cOVzI2pgy8tsCc+T8/f0nylT1YuC0adMCAgJWrVo1lRajp7h0UqnU1z+szM3N7cqVKwbEKCwsLCwszMbGZqLUpLGxsbq6+t13383Ozs7KyvLy8tK7dDNCoPupvl4ikQh/dnR0hJEAcNfxtSUzM/P27dvAGBWbEORyeV1dHQxknlhT1SF3U4mps/QweYF/WAakE+4dT9RfP4ZhhYWFLi4u69atAwBwuVxYmeVVob7wiooK2Cduw4YNr7kqTQrkcjmGYcPtEyBekinudSJGiIFG4U1NTXl5eWFhYfPnz/f29i4sLMzPz2ez2a/Ej6ipqdm8eTMAwMTE5IcffoiMjFy3bt3rHL8yifKO4FLjVMp6eK1A0ol4AVKpdMaMGcuWLaPRaMuWLSssLMzIyAgKCnol0rlgwYINGzbA3fbly5d//fXXqampBw4c0Kxr9Vpx586dSZR99Hqu708N0AM7whASiSQxMZFMJnd3d1dUVFAoFCsrq5KSkurqat26IbppTkBf5RRNBgcHPTw8YC2rf/7zn9u3b6+qqvrLX/7yKq/hlcLlcr28vHTHhUKhm5sbl8vNysoKDQ29efPmxNZVwXG8ublZb26uUCjcvXu3RCLZunWrnZ0dzEMZfwsnO0g6EYbo6Oh48ODBkydPNm/e/OGHH6anp8PAUi6X29zcrHWy3vSKF9Y00CzYwWKxZs2aBQCAvSRfQ+7fvw8zwTQRCoUnTpzYuXPn559/TiKRtm3bJhAI2tvbJ8RCiEKhaGlpmT17tu6htLS0c+fOzZ49+9ChQ4WFhbGxsb29veNv4WQHSSdCPyqVCsdxsVi8fPny69evV1ZWVlZW/vjjj5999hkAgMvlanV2e/mPAwCUlpa2tbUBAPR6dq8DbW1tuhsvDg4OH330EZlM3rJli4+Pj0Qi4XA4r6QNwajp6Oh4/Pix3tsYGRm5a9eulJQUJpOZmZnp4eGBmhiPArTWidADhmH5+flSqTQvLw/2R5o3bx6bzRaJRC0tLUuWLCkrK4uNjfX19R1FEeXa2tpHjx6VlpbCl/fv36+urpZKpVVVVZmZmVZWVpcuXdKc8/UpiyeVSufPn687TqVS2Wy2QCBgs9kymeznn38GAOTk5EyggMrlcpjyq3uISqXCAn0AgLKyshUrVuTn58NeBuNu5iQG3SyEfvr7+7OysshkMuzzARtJ1dTUlJeXL126FJZ0ysrKUucCjZzm5maYiAn3W/Ly8tSHoqKiVq1a9dpuCvN4vPXr1+s91NbWVllZ6efnB9tSPXjw4O23316zZs04W6jGzMxsuJxdkUhEIpFYLJZUKhWLxXQ6vaenZ5zNmwIg6UTogUQihYSEhISEaI2vX79+OO0YOStXrnwdUtFHAY/HGy4XgEgkenl5OTo6mpubczgcFosVGBg4UX6cSqVSl9rRpbW1lcPhWFpaUqnUDz/8sKmpCbb5GmcjJzvofiHAhFSymIw8ffp0//79eg85OTmp8+51v3JGDdz7NlbX5HJ5dnb2cGm7mt9br9BUAACGYW9OOBSSTgSws7ODraXAL/WnR4FuNWiIZg2IUUxLpVKHm3n8kUql45mcI5PJmpqa+vr6pk+fblTdgMHBQRzHFy5cOKbmaYJhGIZhZWVldDp91qxZUy/tUhcknQjAZrNhRX1zc/PVq1ePbhIPDw8Y16kZMa5uImRmZsZkMo2q+gP54x//COu6kkikl0mcfyWUlJSof8Zx/IcffrCysrK0tFTHV8E4AVjTVv2dYWZm5uLiMhLhg8GYtra28OSioqL6+no7O7tvvvkmKirK19d3hPmp/f39XV1dLi4u8KVUKq2vr4f1c9XnKJVKWOhW01Qw2qKRcFORTCafOnXq3XffHc43n0oYV+oYMeWZvFXixxqRSHTq1Kn4+Hj4EsMwb29viUSyf/9+Dw8P6BoPDQ3hON7Z2SmXy3t6eurr62/dugUAKCwsfGELeBzHi4qKMjIyduzY4eTkhGHYtWvXaDTa+vXrT58+3dvbu3v37hHe2Nra2sOHD8Oe1QAAoVB44MCB0tLSDz74wMPDg0gkajryra2tPT09MpnsP//5T0NDQ0NDg17PWiqVlpaWqrs0qxtWw5ricXFxlpaWERER0dHRGRkZxcXFU74KAfI6Eb/i5VVvSuomACAuLk6zjbOFhcXZs2fDwkRruBoAAAz4SURBVMKgJOm9aplMFhYWdvny5erqahaLZXjJsr29/dixYwqFQp1MtXDhQjs7O1jp3ahVi87OTtgCB7JgwYKoqKhPP/1ULBZv27ZNr/OO43hgYOAXX3wRGxt75swZ3RPkcvnNmzeTk5N/+9vfqhvVlJWV9fb2Hjt2zMPDA7Z+wHEcdiccubWTlecIBGIEsFislpYWzZHBwUHohB49erSrq2u4N5aXl+/atUvrvVoMDg4mJiYCAHx9ffl8vuYhPp+/b98+Pp8/ODg4EjufPXsWHx8fGxurOzhr1qyjR4+2tbUZMNXV1dXw0fj4eE3bXF1dY2Jinj17pj4hOzt7JHZOdlA2EQIxIhwcHLTi2wkEQlBQ0JYtW7766quMjIzh9sE4HE5YWJiFhYWByRsaGu7fv3/q1Knu7u6BgQH1uFAozM7O9vX1hU0SR4JSqSwtLZ03b57mIIlEWr9+/e7du5OSkng8nrphra6pR44cGW5miURSUlJCJpPVI+3t7U1NTTCvTCQSbd68+cCBA8NV7J5iIOlEIEaPpaXl9u3b586de/ny5R9++GG403x8fAwkDuA4/r//+78rVqzw9/fv7OxUP5uLxeLS0tKlS5eSSCQej6dbNEAvg4ODMplMsw01hEaj/fnPf162bFlsbGxFRcVwdeOHi9vFMKypqcnb25vBYMARoVCYlpa2YsWK4ODgiooK2P6LwWAkJCRMSFH6cQatdSIQL0Yqlba0tOiOm5qaurq6Hjly5A9/+ENiYiKdTn/hdpAuJSUl9fX1H330UVNTU0NDAyzGgWFYRkYGn89ns9lisZjJZHp7e49kNpVKNTg4qHft1cnJ6YMPPvjkk08uXbqkbuA6QuRyeWlpaUdHR0pKSm5u7tDQkImJSVBQEIfDYTKZhw4d+vHHH2fMmLFv3z5zc/NJVJdv1CDpRCBeTGlp6bJly/QeIhAIXl5eR48ePXz48Pz583fu3GlUWDiO45cuXYqKiiKRSHB3RV1XJSAgALbHAADY2dnNnDlzJBN2dHQYOOrj47Nly5bjx4/Pnz9/27ZtI0+ilcvlfD5/7dq1oaGhMLCpurpaIBDA4LNNmzatW7cOBjlN1X1CLZB0IhAvJjc318ASHpVK/etf/4rjeEJCwuLFi41a7Lty5crdu3etra2JRGJXVxcAAGaUk0gkzQwlvQiFQq18fxzHHz58qLdGCYREIr3//vvt7e0ff/xxYGDgyKWzu7u7qalp2bJl6hr+06dP//bbbykUykcffTThIbfjD5JOBOK/iMViIpGo6zfdvn173759Bt44c+ZMqGLu7u4j/zihUHj+/Pl79+7BrSGxWJyamjrySlFdXV0qlUozEkihUBQVFYWHhxt4F5TL2NjYkTdYxTBMIBAsWbJEU5T7+voUCkV9fb06/1IkEs2dO/cNSYdH20QIxH8RCASlpaW6uxwWFhaGU6GqqqpEItGBAweMqiOVmJj43nvvMZlMNpvNZrN1i9Tl5ORER0eLxWLd9+7fv18qlWpFUCqVyidPnri5uRn40KSkpK6ursDAwJEvLHR0dNy6dWv58uWaTm51dXVhYeH69ethiSaRSLRp06Y3p2ryG/H9gECMBKlUCmsj+fj4aMqKSCSaN28ezKLRi1gszsnJ2bVr18jFSCgUXrx48dy5c7GxsXAEdh5dunRpfn4+l8v19vam0+lr1qxxd3fXjAdSm3rnzh31Zrcm5ubmBsy4efPm/fv3o6KiRpiMj2FYRUVFe3t7cXGxk5OTUCjs6+trb29PS0srLS2Nj4/39PSEbiabzb59+/Yocm0nKcjrRCD+H4FAcO7cucbGRrlcrjmek5OzaNGi4d4llUpTU1O9vb0N+JtcLler5+jFixefPn3q6upaUFAAAMBx/Pbt27GxsdDB5HK5QqFQJpOdOHGiqKhI9xGYx+NJJJKCggItB7mzs9PAQqdIJLpy5UpISIiBiqj/+te/eDye+iWGYSkpKTweb9OmTebm5lwuNzU1VSAQ+Pv7p6enh4eHw6uWSqUJCQlVVVXP35jEbuR1IhAAACCRSDo7O319fcVisVbEeEFBwZYtW/Qu4cFMczabbaABMo/Hq6qq0ipRevbsWc2XMLpeM9Gzvb39yZMnPT09nZ2dunMKBAIqlcrlcv/973+rB3Ecz8zMHG7HRiKRnDp1KiQkxN/ffzhTi4uLDx48qCl/NBrt5MmTumdOmzZNc63g9OnTAIDHjx+7ubmhtU4E4g2isLBw+vTpGzduFAqFWgnjNTU1epURbqm3t7cbKP9cXFy8d+9eZ2dnrZrtBA10RwgEglKprK6u7u/v123RERcXt3LlyuXLlwMA6uvr1eMKhaKgoEAdz6SJTCa7cOGCv7+/gQKdBQUFy5YtO3jwoNY4QR9aa6xHjhx59OhRaGgoqteJQLxZQE3hcrnV1dXd3d3qcZVKZWNjo3s+juPJycnnz59PTEyET7gKhcLc3Ly3t7e+vr69vb2urq6ysrKsrAwAsGjRImN9MSaTyWKx6urqgE4xqsjISPCLaN6/f18zgOn+/fuafqja1LS0NAAAg8HQfBjXNFUkEsGSelu3bjXKTghshdTY2Ojq6vqGeJ1vxEUiECOEQqHMmjVLs2x+Xl4ek8nUbVYBSxy5urpu3rxZPQi3kqBHRiQSZ8yYAXd7DCewD4dUKgUANDU1USgU3XgpmKVeWlqqmbrj4OCgW7Xohx9+OH78OAAgNTV1OFOJRKKvr29LS8voajlnZmb+7W9/i4yM/N3vfmdsr6pJCpJOBOK/UCgUFxeX8vJyNzc3+OwpEAgWLFigu71OIpHGekuEwWCkp6evW7dO73KBs7Mzi8Xi8/nqEblcvnjxYt0zfXx8oPc6dri7u584ceLkyZO6wQBTFSSdCMR/YTAYTCazoaFBLpdD6ayvrw8PD4cF8LVQqVTPnz9/4fPp6PoLAQA8PT3V5Yp1YTKZNjY2moXrU1NTh+tfDzfiR1JGc3T9hTgcjgFTpyRomwiB+C90On3OnDmPHz9Wb7I3Nzc7Ozvrio5Kpfrxxx/v3r1rYDYMw6RSaVpa2t27d4er8/YyODo6gl+kWaVSpaSkDJfLVFlZWVlZaXg2iURSW1ubkJDwyu2ckiDpRCB+BYVCEYvFcJNdIpEMF+P9/PlzgUDQ1NRkYKrS0tLTp09v3779p59+GgtTYQin2vEsLCzUG7CJ47hYLNYKLNVl37597777rkgkeuV2TknQAzsC8Svs7OxkMhnsJVdSUkKj0d566y3d0xoaGoKDg3UjhzTx8fEZXZe0EQKFUiAQwMXQJUuW6J4jk8mkUqmHh4feOAFNkpOT33nnnden/+hrDpJOBOJX2NnZOTg4wHoc9fX1bDZbd3sdtnjr7e29ePEimUyuq6vTeqJXqVQ0Gg3uNY9dm/t33nkHAADjn6RSqd6FzvLy8lWrVu3Zs2f79u00Gk037V2lUjk5Ob0R3YReKUg6EYhfwWAwHB0dy8vLvby8GhoaNmzYoBtalJGRER4efvLkycHBQYVCUV5erjuPh4eHOkzHxGRMVsacnJxmzZoFq9OnpqbqVoYHANjZ2e3Zs8fExESpVEqlUr2mzp07F/6gUCjGs9H8pAZJJwLxK+zt7ZlMJp/PDw4Obm1tZTAYuh5ZYGBgTk7OwoULSSSSubm53rRx9SKpQqHQ9VtfFS4uLnl5eQCAlJSUmJgY3RNoNNrs2bNbWlpsbW1NTU31mtrV1aWOGx2uwxJCCySdCMSvIBAIFArl5s2bJSUlFhYWelXP0tIyJSXl4MGDt2/fXrt2rVgs1oo9wnHc0tISep0wJtRA4aWXYfHixXl5eSqVqrCw0MXFRfeEgYEBDMO6u7s7OjqIRKJugyNoqvrlG5IL9PKg24RAaEOhUKqrq+vr6+fMmaN3EVCpVDIYjJ6eHgaDAZtN6p1HJpM9efKkqqrq559/trOzW7t27StP8YZtP2Dgkd7JlUolkUi0t7fv6+vjcDgGys7zeLz+/v4HDx5kZWUZKBGCgCDpRCC0sbS0nDVrVllZ2YoVK/TqEZPJ/Mc//tHd3W2gYJKanTt39vf3E4nEMbAUwGp41dXVrq6uek+wtbUNDAw0NTVlsVgvnO3ChQtvTq3il2Tam1NfD4EYITk5OZ9++mldXV16erq3t/drvvs8bdq0PXv2AADOnDkz0ba8QaCQeARCGyaT6ejo2N3dbWdn95rrJiQ5OXn16tUTbcWbBZJOBEKbuXPnvv3222BkSd8TzpIlS9ra2pB0jjNIOhEIbQgEAolE8vX1nRSFe+fNm2dlZTUpTJ1KoG0iBEIPFApl1apVo6uzOc4sWrRIb6ooYkxBXicCoQdbW9vZs2ePXSj7K4TNZk8KiZ9ioB12BEIPsEbcpHgKxjBMqVS+IbXZXx+QdCIQCITRoAd2BAKBMBoknQgEAmE0/weE6LmINs0PbAAAAABJRU5ErkJggg==)\n"
      ],
      "metadata": {
        "id": "t0o2OURGxMe0"
      }
    },
    {
      "cell_type": "markdown",
      "source": [
        "**Độ tương tự cosine là thước đo độ giống nhau, thường được sử dụng để đo độ tương tự của tài liệu trong phân tích văn bản.**"
      ],
      "metadata": {
        "id": "63b91rxAxbi8"
      }
    },
    {
      "cell_type": "code",
      "source": [
        "from sklearn.metrics.pairwise import linear_kernel\n",
        "cosine_sim = linear_kernel(tfidf_matrix, tfidf_matrix)"
      ],
      "metadata": {
        "id": "YsnOzUShxGM2"
      },
      "execution_count": 44,
      "outputs": []
    },
    {
      "cell_type": "code",
      "source": [
        "indices = pd.Series(netflix_data.index, index=netflix_data['title']).drop_duplicates()"
      ],
      "metadata": {
        "id": "UEz_V31zxiHT"
      },
      "execution_count": 45,
      "outputs": []
    },
    {
      "cell_type": "markdown",
      "source": [
        "**Xác định chức năng hệ thống khuyến nghị**"
      ],
      "metadata": {
        "id": "zFV8f-79xmDg"
      }
    },
    {
      "cell_type": "code",
      "source": [
        "def get_recommendations(title, cosine_sim=cosine_sim):\n",
        "      # Lấy chỉ số của phim phù hợp với tiêu đề\n",
        "    idx = indices[title]\n",
        "        # Nhận điểm số tương đồng theo từng cặp của tất cả các phim có phim đó\n",
        "    sim_scores = list(enumerate(cosine_sim[idx]))\n",
        "        # Sắp xếp phim dựa trên điểm số tương tự\n",
        "    sim_scores = sorted(sim_scores, key=lambda x: x[1], reverse=True)\n",
        "        # Nhận điểm của 10 bộ phim giống nhau nhất\n",
        "    sim_scores = sim_scores[1:11]\n",
        "        # Nhận chỉ số phim\n",
        "    movie_indices = [i[0] for i in sim_scores]\n",
        "        # Trở lại top 10 phim tương tự nhất\n",
        "    return netflix_data['title'].iloc[movie_indices]"
      ],
      "metadata": {
        "id": "2pw-MhvdxoWN"
      },
      "execution_count": 46,
      "outputs": []
    },
    {
      "cell_type": "markdown",
      "source": [
        "**Tại thời điểm này, chức năng hệ thống khuyến nghị của chúng tôi đã sẵn sàng để sử dụng. Sau khi xác định chức năng hệ thống đề xuất của chúng tôi, chúng tôi có thể sử dụng nó để nhận các đề xuất. Tất cả những gì chúng ta cần làm là chuyển tên nội dung làm đối số**"
      ],
      "metadata": {
        "id": "fS4Y6Hx0yzPc"
      }
    },
    {
      "cell_type": "markdown",
      "source": [
        ""
      ],
      "metadata": {
        "id": "gOTk0zhxzNh1"
      }
    },
    {
      "cell_type": "code",
      "source": [
        "get_recommendations('Peaky Blinders')"
      ],
      "metadata": {
        "colab": {
          "base_uri": "https://localhost:8080/"
        },
        "id": "Y9iFBJshzOLE",
        "outputId": "a91b5ab3-d56c-4159-9a4e-22440aa611dc"
      },
      "execution_count": 47,
      "outputs": [
        {
          "output_type": "execute_result",
          "data": {
            "text/plain": [
              "7683                    Our Godfather\n",
              "2646                   My Stupid Boss\n",
              "3133                              Don\n",
              "8293                         The Fear\n",
              "7140    Jonathan Strange & Mr Norrell\n",
              "7785                Power Rangers Zeo\n",
              "8467                       The Prison\n",
              "8539                       The Tudors\n",
              "1510                    The Con Is On\n",
              "8391     The Legend of Michael Mishra\n",
              "Name: title, dtype: object"
            ]
          },
          "metadata": {},
          "execution_count": 47
        }
      ]
    },
    {
      "cell_type": "code",
      "source": [
        "get_recommendations('Dark')"
      ],
      "metadata": {
        "colab": {
          "base_uri": "https://localhost:8080/"
        },
        "id": "lSizPCtrzTpr",
        "outputId": "a9d8a3a0-924d-422f-dae5-6d9ede402f5b"
      },
      "execution_count": 48,
      "outputs": [
        {
          "output_type": "execute_result",
          "data": {
            "text/plain": [
              "2874                   Altered Carbon\n",
              "4629                           Maniac\n",
              "1034                       Synchronic\n",
              "626     Sophie: A Murder in West Cork\n",
              "1117         Ibrahim a Fate to Define\n",
              "4101                        Candyflip\n",
              "4253       Black Mirror: Bandersnatch\n",
              "869                  Who Killed Sara?\n",
              "2979                     THE STRANGER\n",
              "7348                        Love Rain\n",
              "Name: title, dtype: object"
            ]
          },
          "metadata": {},
          "execution_count": 48
        }
      ]
    },
    {
      "cell_type": "markdown",
      "source": [
        "**Có thể thấy rằng mô hình hoạt động tốt, nhưng không chính xác lắm. Do đó, cần nhiều chỉ số hơn được thêm vào mô hình để cải thiện hiệu suất**"
      ],
      "metadata": {
        "id": "sG2fjh0MzcRc"
      }
    },
    {
      "cell_type": "markdown",
      "source": [
        "# **LỌC NỘI DUNG TRÊN NHIỀU CHỈ SỐ (CONTENT BASED FILTERING ON MULTIPLE METRICS)**"
      ],
      "metadata": {
        "id": "fytCOZ20y0q2"
      }
    },
    {
      "cell_type": "markdown",
      "source": [
        "**Lọc nội dung dựa trên các yếu tố sau: Chức danh Đạo diễn diễn viên được liệt kê trong cốt truyện**\n",
        "\n"
      ],
      "metadata": {
        "id": "rddbFtAAz7EY"
      }
    },
    {
      "cell_type": "code",
      "source": [
        "#Điền các giá trị rỗng bằng chuỗi trống\n",
        "filledna=netflix_data.fillna('')\n",
        "\n",
        "#Làm sạch dữ liệu - làm cho tất cả các từ viết thường\n",
        "def clean_data(x):\n",
        "        return str.lower(x.replace(\" \", \"\"))\n",
        "\n",
        "#Xác định các đặc điểm mà mô hình sẽ được lọc\n",
        "# Phân tích cú pháp các tính năng được xâu chuỗi thành các đối tượng python tương ứng của chúng\n",
        "features=['title','director','cast','listed_in','description']\n",
        "filledna=filledna[features]\n",
        "for feature in features:\n",
        "    filledna[feature] = filledna[feature].apply(clean_data)\n",
        "    \n",
        "filledna.head(8)"
      ],
      "metadata": {
        "colab": {
          "base_uri": "https://localhost:8080/",
          "height": 364
        },
        "id": "eqNZG2VC0E8w",
        "outputId": "5d4d6d30-e1f8-42b1-857c-3d525117bd46"
      },
      "execution_count": 49,
      "outputs": [
        {
          "output_type": "execute_result",
          "data": {
            "text/plain": [
              "                         title                   director  \\\n",
              "0            dickjohnsonisdead             kirstenjohnson   \n",
              "1                  blood&water                              \n",
              "2                    ganglands             julienleclercq   \n",
              "3          jailbirdsneworleans                              \n",
              "4                  kotafactory                              \n",
              "5                 midnightmass               mikeflanagan   \n",
              "6  mylittlepony:anewgeneration  robertcullen,joséluisucha   \n",
              "7                      sankofa                hailegerima   \n",
              "\n",
              "                                                cast  \\\n",
              "0                                                      \n",
              "1  amaqamata,khosingema,gailmabalane,thabangmolab...   \n",
              "2  samibouajila,tracygotoas,samueljouy,nabihaakka...   \n",
              "3                                                      \n",
              "4  mayurmore,jitendrakumar,ranjanraj,alamkhan,ahs...   \n",
              "5  katesiegel,zachgilford,hamishlinklater,henryth...   \n",
              "6  vanessahudgens,kimikoglenn,jamesmarsden,sofiac...   \n",
              "7  kofighanaba,oyafunmikeogunlano,alexandraduah,n...   \n",
              "\n",
              "                                           listed_in  \\\n",
              "0                                      documentaries   \n",
              "1          internationaltvshows,tvdramas,tvmysteries   \n",
              "2  crimetvshows,internationaltvshows,tvaction&adv...   \n",
              "3                               docuseries,realitytv   \n",
              "4    internationaltvshows,romantictvshows,tvcomedies   \n",
              "5                      tvdramas,tvhorror,tvmysteries   \n",
              "6                              children&familymovies   \n",
              "7       dramas,independentmovies,internationalmovies   \n",
              "\n",
              "                                         description  \n",
              "0  asherfathernearstheendofhislife,filmmakerkirst...  \n",
              "1  aftercrossingpathsataparty,acapetownteensetsou...  \n",
              "2  toprotecthisfamilyfromapowerfuldruglord,skille...  \n",
              "3  feuds,flirtationsandtoilettalkgodownamongthein...  \n",
              "4  inacityofcoachingcentersknowntotrainindia’sfin...  \n",
              "5  thearrivalofacharismaticyoungpriestbringsglori...  \n",
              "6  equestria'sdivided.butabright-eyedherobelieves...  \n",
              "7  onaphotoshootinghana,anamericanmodelslipsbacki...  "
            ],
            "text/html": [
              "\n",
              "  <div id=\"df-520bdb8c-41da-469b-8b0d-f22c457d86c2\">\n",
              "    <div class=\"colab-df-container\">\n",
              "      <div>\n",
              "<style scoped>\n",
              "    .dataframe tbody tr th:only-of-type {\n",
              "        vertical-align: middle;\n",
              "    }\n",
              "\n",
              "    .dataframe tbody tr th {\n",
              "        vertical-align: top;\n",
              "    }\n",
              "\n",
              "    .dataframe thead th {\n",
              "        text-align: right;\n",
              "    }\n",
              "</style>\n",
              "<table border=\"1\" class=\"dataframe\">\n",
              "  <thead>\n",
              "    <tr style=\"text-align: right;\">\n",
              "      <th></th>\n",
              "      <th>title</th>\n",
              "      <th>director</th>\n",
              "      <th>cast</th>\n",
              "      <th>listed_in</th>\n",
              "      <th>description</th>\n",
              "    </tr>\n",
              "  </thead>\n",
              "  <tbody>\n",
              "    <tr>\n",
              "      <th>0</th>\n",
              "      <td>dickjohnsonisdead</td>\n",
              "      <td>kirstenjohnson</td>\n",
              "      <td></td>\n",
              "      <td>documentaries</td>\n",
              "      <td>asherfathernearstheendofhislife,filmmakerkirst...</td>\n",
              "    </tr>\n",
              "    <tr>\n",
              "      <th>1</th>\n",
              "      <td>blood&amp;water</td>\n",
              "      <td></td>\n",
              "      <td>amaqamata,khosingema,gailmabalane,thabangmolab...</td>\n",
              "      <td>internationaltvshows,tvdramas,tvmysteries</td>\n",
              "      <td>aftercrossingpathsataparty,acapetownteensetsou...</td>\n",
              "    </tr>\n",
              "    <tr>\n",
              "      <th>2</th>\n",
              "      <td>ganglands</td>\n",
              "      <td>julienleclercq</td>\n",
              "      <td>samibouajila,tracygotoas,samueljouy,nabihaakka...</td>\n",
              "      <td>crimetvshows,internationaltvshows,tvaction&amp;adv...</td>\n",
              "      <td>toprotecthisfamilyfromapowerfuldruglord,skille...</td>\n",
              "    </tr>\n",
              "    <tr>\n",
              "      <th>3</th>\n",
              "      <td>jailbirdsneworleans</td>\n",
              "      <td></td>\n",
              "      <td></td>\n",
              "      <td>docuseries,realitytv</td>\n",
              "      <td>feuds,flirtationsandtoilettalkgodownamongthein...</td>\n",
              "    </tr>\n",
              "    <tr>\n",
              "      <th>4</th>\n",
              "      <td>kotafactory</td>\n",
              "      <td></td>\n",
              "      <td>mayurmore,jitendrakumar,ranjanraj,alamkhan,ahs...</td>\n",
              "      <td>internationaltvshows,romantictvshows,tvcomedies</td>\n",
              "      <td>inacityofcoachingcentersknowntotrainindia’sfin...</td>\n",
              "    </tr>\n",
              "    <tr>\n",
              "      <th>5</th>\n",
              "      <td>midnightmass</td>\n",
              "      <td>mikeflanagan</td>\n",
              "      <td>katesiegel,zachgilford,hamishlinklater,henryth...</td>\n",
              "      <td>tvdramas,tvhorror,tvmysteries</td>\n",
              "      <td>thearrivalofacharismaticyoungpriestbringsglori...</td>\n",
              "    </tr>\n",
              "    <tr>\n",
              "      <th>6</th>\n",
              "      <td>mylittlepony:anewgeneration</td>\n",
              "      <td>robertcullen,joséluisucha</td>\n",
              "      <td>vanessahudgens,kimikoglenn,jamesmarsden,sofiac...</td>\n",
              "      <td>children&amp;familymovies</td>\n",
              "      <td>equestria'sdivided.butabright-eyedherobelieves...</td>\n",
              "    </tr>\n",
              "    <tr>\n",
              "      <th>7</th>\n",
              "      <td>sankofa</td>\n",
              "      <td>hailegerima</td>\n",
              "      <td>kofighanaba,oyafunmikeogunlano,alexandraduah,n...</td>\n",
              "      <td>dramas,independentmovies,internationalmovies</td>\n",
              "      <td>onaphotoshootinghana,anamericanmodelslipsbacki...</td>\n",
              "    </tr>\n",
              "  </tbody>\n",
              "</table>\n",
              "</div>\n",
              "      <button class=\"colab-df-convert\" onclick=\"convertToInteractive('df-520bdb8c-41da-469b-8b0d-f22c457d86c2')\"\n",
              "              title=\"Convert this dataframe to an interactive table.\"\n",
              "              style=\"display:none;\">\n",
              "        \n",
              "  <svg xmlns=\"http://www.w3.org/2000/svg\" height=\"24px\"viewBox=\"0 0 24 24\"\n",
              "       width=\"24px\">\n",
              "    <path d=\"M0 0h24v24H0V0z\" fill=\"none\"/>\n",
              "    <path d=\"M18.56 5.44l.94 2.06.94-2.06 2.06-.94-2.06-.94-.94-2.06-.94 2.06-2.06.94zm-11 1L8.5 8.5l.94-2.06 2.06-.94-2.06-.94L8.5 2.5l-.94 2.06-2.06.94zm10 10l.94 2.06.94-2.06 2.06-.94-2.06-.94-.94-2.06-.94 2.06-2.06.94z\"/><path d=\"M17.41 7.96l-1.37-1.37c-.4-.4-.92-.59-1.43-.59-.52 0-1.04.2-1.43.59L10.3 9.45l-7.72 7.72c-.78.78-.78 2.05 0 2.83L4 21.41c.39.39.9.59 1.41.59.51 0 1.02-.2 1.41-.59l7.78-7.78 2.81-2.81c.8-.78.8-2.07 0-2.86zM5.41 20L4 18.59l7.72-7.72 1.47 1.35L5.41 20z\"/>\n",
              "  </svg>\n",
              "      </button>\n",
              "      \n",
              "  <style>\n",
              "    .colab-df-container {\n",
              "      display:flex;\n",
              "      flex-wrap:wrap;\n",
              "      gap: 12px;\n",
              "    }\n",
              "\n",
              "    .colab-df-convert {\n",
              "      background-color: #E8F0FE;\n",
              "      border: none;\n",
              "      border-radius: 50%;\n",
              "      cursor: pointer;\n",
              "      display: none;\n",
              "      fill: #1967D2;\n",
              "      height: 32px;\n",
              "      padding: 0 0 0 0;\n",
              "      width: 32px;\n",
              "    }\n",
              "\n",
              "    .colab-df-convert:hover {\n",
              "      background-color: #E2EBFA;\n",
              "      box-shadow: 0px 1px 2px rgba(60, 64, 67, 0.3), 0px 1px 3px 1px rgba(60, 64, 67, 0.15);\n",
              "      fill: #174EA6;\n",
              "    }\n",
              "\n",
              "    [theme=dark] .colab-df-convert {\n",
              "      background-color: #3B4455;\n",
              "      fill: #D2E3FC;\n",
              "    }\n",
              "\n",
              "    [theme=dark] .colab-df-convert:hover {\n",
              "      background-color: #434B5C;\n",
              "      box-shadow: 0px 1px 3px 1px rgba(0, 0, 0, 0.15);\n",
              "      filter: drop-shadow(0px 1px 2px rgba(0, 0, 0, 0.3));\n",
              "      fill: #FFFFFF;\n",
              "    }\n",
              "  </style>\n",
              "\n",
              "      <script>\n",
              "        const buttonEl =\n",
              "          document.querySelector('#df-520bdb8c-41da-469b-8b0d-f22c457d86c2 button.colab-df-convert');\n",
              "        buttonEl.style.display =\n",
              "          google.colab.kernel.accessAllowed ? 'block' : 'none';\n",
              "\n",
              "        async function convertToInteractive(key) {\n",
              "          const element = document.querySelector('#df-520bdb8c-41da-469b-8b0d-f22c457d86c2');\n",
              "          const dataTable =\n",
              "            await google.colab.kernel.invokeFunction('convertToInteractive',\n",
              "                                                     [key], {});\n",
              "          if (!dataTable) return;\n",
              "\n",
              "          const docLinkHtml = 'Like what you see? Visit the ' +\n",
              "            '<a target=\"_blank\" href=https://colab.research.google.com/notebooks/data_table.ipynb>data table notebook</a>'\n",
              "            + ' to learn more about interactive tables.';\n",
              "          element.innerHTML = '';\n",
              "          dataTable['output_type'] = 'display_data';\n",
              "          await google.colab.output.renderOutput(dataTable, element);\n",
              "          const docLink = document.createElement('div');\n",
              "          docLink.innerHTML = docLinkHtml;\n",
              "          element.appendChild(docLink);\n",
              "        }\n",
              "      </script>\n",
              "    </div>\n",
              "  </div>\n",
              "  "
            ]
          },
          "metadata": {},
          "execution_count": 49
        }
      ]
    },
    {
      "cell_type": "code",
      "source": [
        "# Tạo siêu dữ liệu\n",
        "\n",
        "def create_soup(x):\n",
        "    return x['title']+ ' ' + x['director'] + ' ' + x['cast'] + ' ' +x['listed_in']+' '+ x['description']"
      ],
      "metadata": {
        "id": "jatY48vJ0ZF3"
      },
      "execution_count": 50,
      "outputs": []
    },
    {
      "cell_type": "code",
      "source": [
        "filledna['soup'] = filledna.apply(create_soup, axis=1)"
      ],
      "metadata": {
        "id": "MLloeNFL0bQw"
      },
      "execution_count": 51,
      "outputs": []
    },
    {
      "cell_type": "markdown",
      "source": [
        "**Bây giờ mã về cơ bản tương tự như mô hình trên ngoại trừ thực tế là bộ đếm vectơ được sử dụng thay vì tf-idf, Chuyển đổi một tập hợp các tài liệu văn bản thành một ma trận số lượng mã thông báo.**"
      ],
      "metadata": {
        "id": "aZ3RK1Aj07IH"
      }
    },
    {
      "cell_type": "code",
      "source": [
        "from sklearn.feature_extraction.text import CountVectorizer\n",
        "from sklearn.metrics.pairwise import cosine_similarity\n",
        "# Nhập CountVectorizer và tạo ma trận đếm\n",
        "\n",
        "count = CountVectorizer(stop_words='english')\n",
        "count_matrix = count.fit_transform(filledna['soup'])\n",
        "\n",
        "#Tính toán ma trận Tương tự Cosine dựa trên count_matrix\n",
        "cosine_sim2 = cosine_similarity(count_matrix, count_matrix)"
      ],
      "metadata": {
        "id": "4f0iQk8706l1"
      },
      "execution_count": 52,
      "outputs": []
    },
    {
      "cell_type": "code",
      "source": [
        "filledna=filledna.reset_index()\n",
        "indices = pd.Series(filledna.index, index=filledna['title'])"
      ],
      "metadata": {
        "id": "PyJzXXL-0-T2"
      },
      "execution_count": 53,
      "outputs": []
    },
    {
      "cell_type": "code",
      "source": [
        "# Chức năng lấy tiêu đề phim làm đầu vào và đầu ra hầu hết các phim tương tự\n",
        "\n",
        "def get_recommendations_new(title, cosine_sim=cosine_sim):\n",
        "    title=title.replace(' ','').lower()\n",
        "        # Lấy chỉ số của phim phù hợp với tiêu đề\n",
        "    idx = indices[title]\n",
        "        # Nhận điểm số tương đồng theo từng cặp của tất cả các phim có phim đó\n",
        "    sim_scores = list(enumerate(cosine_sim[idx]))\n",
        "        # Sắp xếp phim dựa trên điểm số tương tự\n",
        "    sim_scores = sorted(sim_scores, key=lambda x: x[1], reverse=True)\n",
        "        # Nhận điểm của 10 bộ phim giống nhau nhất\n",
        "    sim_scores = sim_scores[1:11]\n",
        "        # Nhận chỉ số phim\n",
        "    movie_indices = [i[0] for i in sim_scores]\n",
        "        # Trở lại top 10 phim tương tự nhất\n",
        "    return netflix_data['title'].iloc[movie_indices]"
      ],
      "metadata": {
        "id": "gxGAQsQs0_ZE"
      },
      "execution_count": 54,
      "outputs": []
    },
    {
      "cell_type": "code",
      "source": [
        "get_recommendations_new('Dark', cosine_sim2)"
      ],
      "metadata": {
        "colab": {
          "base_uri": "https://localhost:8080/"
        },
        "id": "eUaQzfQR1A63",
        "outputId": "b18b64b6-f96a-44c7-cf5e-5fda81616398"
      },
      "execution_count": 55,
      "outputs": [
        {
          "output_type": "execute_result",
          "data": {
            "text/plain": [
              "260                 The Defeated\n",
              "3604                    Sintonia\n",
              "2053             Young Wallander\n",
              "3744                     Unit 42\n",
              "5404           The Truth Seekers\n",
              "6323                 Black Heart\n",
              "3789              Killer Ratings\n",
              "4476       Terrorism Close Calls\n",
              "4673    Inside the Criminal Mind\n",
              "3855                  The Writer\n",
              "Name: title, dtype: object"
            ]
          },
          "metadata": {},
          "execution_count": 55
        }
      ]
    },
    {
      "cell_type": "code",
      "source": [
        "get_recommendations_new('Black Mirror', cosine_sim2)"
      ],
      "metadata": {
        "colab": {
          "base_uri": "https://localhost:8080/"
        },
        "id": "cqXSyizA1P1J",
        "outputId": "44aed97f-6c2a-4b45-ef86-a9f7e3cb5e22"
      },
      "execution_count": 56,
      "outputs": [
        {
          "output_type": "execute_result",
          "data": {
            "text/plain": [
              "3045                                       Dracula\n",
              "3551           The Dark Crystal: Age of Resistance\n",
              "4262                                Watership Down\n",
              "1301                               Behind Her Eyes\n",
              "7017    How to Live Mortgage Free with Sarah Beeny\n",
              "2979                                  THE STRANGER\n",
              "5365                                         Vexed\n",
              "69                  Stories by Rabindranath Tagore\n",
              "1056                                Ajaibnya Cinta\n",
              "1603                                  Alien Worlds\n",
              "Name: title, dtype: object"
            ]
          },
          "metadata": {},
          "execution_count": 56
        }
      ]
    }
  ]
}