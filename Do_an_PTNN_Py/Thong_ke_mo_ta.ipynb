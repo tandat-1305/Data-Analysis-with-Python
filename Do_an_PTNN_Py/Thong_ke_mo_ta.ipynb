{
  "nbformat": 4,
  "nbformat_minor": 0,
  "metadata": {
    "colab": {
      "name": "Thong_ke_mo_ta.ipynb",
      "provenance": [],
      "collapsed_sections": [],
      "authorship_tag": "ABX9TyMTfAU0iLfjXo9QpNIJpn/1",
      "include_colab_link": true
    },
    "kernelspec": {
      "name": "python3",
      "display_name": "Python 3"
    },
    "language_info": {
      "name": "python"
    }
  },
  "cells": [
    {
      "cell_type": "markdown",
      "metadata": {
        "id": "view-in-github",
        "colab_type": "text"
      },
      "source": [
        "<a href=\"https://colab.research.google.com/github/tandat-1305/Data-Analysis-with-Python/blob/main/Do_an_PTNN_Py/Thong_ke_mo_ta.ipynb\" target=\"_parent\"><img src=\"https://colab.research.google.com/assets/colab-badge.svg\" alt=\"Open In Colab\"/></a>"
      ]
    },
    {
      "cell_type": "code",
      "metadata": {
        "id": "w7Ssh2C6zDdi"
      },
      "source": [
        "#Import Thư viện\n",
        "import numpy as np\n",
        "import pandas as pd\n",
        "import statistics as sta\n",
        "import matplotlib.pyplot as plt\n",
        "import statsmodels.api as sm\n",
        "import math\n",
        "import seaborn as sns\n",
        "from scipy import stats"
      ],
      "execution_count": null,
      "outputs": []
    },
    {
      "cell_type": "code",
      "metadata": {
        "id": "uVSAG2ACHaLL"
      },
      "source": [
        "def hist_plot(data):\n",
        "    mean = np.mean(data)\n",
        "    std = np.std(data,ddof=1)\n",
        "    domain = np.linspace(np.min(data),np.max(data))\n",
        "    plt.plot(domain, stats.norm.pdf(domain, mean, std),color='red')\n",
        "    plt.hist(data, edgecolor='black', density = True,color='blue')\n",
        "    plt.title(column)\n",
        "    plt.show()\n",
        "def bar_chart(data):\n",
        "    plt.title(column)\n",
        "    plt.show()\n",
        "\n"
      ],
      "execution_count": null,
      "outputs": []
    },
    {
      "cell_type": "code",
      "metadata": {
        "id": "URtQdOnb1Hr3"
      },
      "source": [
        "df = pd.read_csv('https://raw.githubusercontent.com/tandat-1305/Data-Analysis-with-Python/main/Do_an_PTNN_Py/Inc_Exp_Data.csv')\n"
      ],
      "execution_count": null,
      "outputs": []
    },
    {
      "cell_type": "code",
      "metadata": {
        "colab": {
          "base_uri": "https://localhost:8080/"
        },
        "id": "zyPGUpS02vSf",
        "outputId": "d86df9a5-0dd4-49e1-d0d3-b1aee7b42c17"
      },
      "source": [
        "df.shape"
      ],
      "execution_count": null,
      "outputs": [
        {
          "output_type": "execute_result",
          "data": {
            "text/plain": [
              "(50, 7)"
            ]
          },
          "metadata": {
            "tags": []
          },
          "execution_count": 293
        }
      ]
    },
    {
      "cell_type": "code",
      "metadata": {
        "colab": {
          "base_uri": "https://localhost:8080/"
        },
        "id": "XlDfNjNeC7Ym",
        "outputId": "0962f235-ccbe-4593-ce5a-e293b46bb99d"
      },
      "source": [
        "df.info()"
      ],
      "execution_count": null,
      "outputs": [
        {
          "output_type": "stream",
          "text": [
            "<class 'pandas.core.frame.DataFrame'>\n",
            "RangeIndex: 50 entries, 0 to 49\n",
            "Data columns (total 7 columns):\n",
            " #   Column                    Non-Null Count  Dtype \n",
            "---  ------                    --------------  ----- \n",
            " 0   Mthly_HH_Income           50 non-null     int64 \n",
            " 1   Mthly_HH_Expense          50 non-null     int64 \n",
            " 2   No_of_Fly_Members         50 non-null     int64 \n",
            " 3   Emi_or_Rent_Amt           50 non-null     int64 \n",
            " 4   Annual_HH_Income          50 non-null     int64 \n",
            " 5   Highest_Qualified_Member  50 non-null     object\n",
            " 6   No_of_Earning_Members     50 non-null     int64 \n",
            "dtypes: int64(6), object(1)\n",
            "memory usage: 2.9+ KB\n"
          ],
          "name": "stdout"
        }
      ]
    },
    {
      "cell_type": "code",
      "metadata": {
        "colab": {
          "base_uri": "https://localhost:8080/",
          "height": 1000
        },
        "id": "9SSdEVo584dZ",
        "outputId": "b7da62c6-15cc-4eec-f8fa-426a5dcd1198"
      },
      "source": [
        "df"
      ],
      "execution_count": null,
      "outputs": [
        {
          "output_type": "execute_result",
          "data": {
            "text/html": [
              "<div>\n",
              "<style scoped>\n",
              "    .dataframe tbody tr th:only-of-type {\n",
              "        vertical-align: middle;\n",
              "    }\n",
              "\n",
              "    .dataframe tbody tr th {\n",
              "        vertical-align: top;\n",
              "    }\n",
              "\n",
              "    .dataframe thead th {\n",
              "        text-align: right;\n",
              "    }\n",
              "</style>\n",
              "<table border=\"1\" class=\"dataframe\">\n",
              "  <thead>\n",
              "    <tr style=\"text-align: right;\">\n",
              "      <th></th>\n",
              "      <th>Mthly_HH_Income</th>\n",
              "      <th>Mthly_HH_Expense</th>\n",
              "      <th>No_of_Fly_Members</th>\n",
              "      <th>Emi_or_Rent_Amt</th>\n",
              "      <th>Annual_HH_Income</th>\n",
              "      <th>Highest_Qualified_Member</th>\n",
              "      <th>No_of_Earning_Members</th>\n",
              "    </tr>\n",
              "  </thead>\n",
              "  <tbody>\n",
              "    <tr>\n",
              "      <th>0</th>\n",
              "      <td>5000</td>\n",
              "      <td>8000</td>\n",
              "      <td>3</td>\n",
              "      <td>2000</td>\n",
              "      <td>64200</td>\n",
              "      <td>Under-Graduate</td>\n",
              "      <td>1</td>\n",
              "    </tr>\n",
              "    <tr>\n",
              "      <th>1</th>\n",
              "      <td>6000</td>\n",
              "      <td>7000</td>\n",
              "      <td>2</td>\n",
              "      <td>3000</td>\n",
              "      <td>79920</td>\n",
              "      <td>Illiterate</td>\n",
              "      <td>1</td>\n",
              "    </tr>\n",
              "    <tr>\n",
              "      <th>2</th>\n",
              "      <td>10000</td>\n",
              "      <td>4500</td>\n",
              "      <td>2</td>\n",
              "      <td>0</td>\n",
              "      <td>112800</td>\n",
              "      <td>Under-Graduate</td>\n",
              "      <td>1</td>\n",
              "    </tr>\n",
              "    <tr>\n",
              "      <th>3</th>\n",
              "      <td>10000</td>\n",
              "      <td>2000</td>\n",
              "      <td>1</td>\n",
              "      <td>0</td>\n",
              "      <td>97200</td>\n",
              "      <td>Illiterate</td>\n",
              "      <td>1</td>\n",
              "    </tr>\n",
              "    <tr>\n",
              "      <th>4</th>\n",
              "      <td>12500</td>\n",
              "      <td>12000</td>\n",
              "      <td>2</td>\n",
              "      <td>3000</td>\n",
              "      <td>147000</td>\n",
              "      <td>Graduate</td>\n",
              "      <td>1</td>\n",
              "    </tr>\n",
              "    <tr>\n",
              "      <th>5</th>\n",
              "      <td>14000</td>\n",
              "      <td>8000</td>\n",
              "      <td>2</td>\n",
              "      <td>0</td>\n",
              "      <td>196560</td>\n",
              "      <td>Graduate</td>\n",
              "      <td>1</td>\n",
              "    </tr>\n",
              "    <tr>\n",
              "      <th>6</th>\n",
              "      <td>15000</td>\n",
              "      <td>16000</td>\n",
              "      <td>3</td>\n",
              "      <td>35000</td>\n",
              "      <td>167400</td>\n",
              "      <td>Post-Graduate</td>\n",
              "      <td>1</td>\n",
              "    </tr>\n",
              "    <tr>\n",
              "      <th>7</th>\n",
              "      <td>18000</td>\n",
              "      <td>20000</td>\n",
              "      <td>5</td>\n",
              "      <td>8000</td>\n",
              "      <td>216000</td>\n",
              "      <td>Graduate</td>\n",
              "      <td>1</td>\n",
              "    </tr>\n",
              "    <tr>\n",
              "      <th>8</th>\n",
              "      <td>19000</td>\n",
              "      <td>9000</td>\n",
              "      <td>2</td>\n",
              "      <td>0</td>\n",
              "      <td>218880</td>\n",
              "      <td>Under-Graduate</td>\n",
              "      <td>1</td>\n",
              "    </tr>\n",
              "    <tr>\n",
              "      <th>9</th>\n",
              "      <td>20000</td>\n",
              "      <td>9000</td>\n",
              "      <td>4</td>\n",
              "      <td>0</td>\n",
              "      <td>220800</td>\n",
              "      <td>Under-Graduate</td>\n",
              "      <td>2</td>\n",
              "    </tr>\n",
              "    <tr>\n",
              "      <th>10</th>\n",
              "      <td>20000</td>\n",
              "      <td>18000</td>\n",
              "      <td>4</td>\n",
              "      <td>8000</td>\n",
              "      <td>278400</td>\n",
              "      <td>Under-Graduate</td>\n",
              "      <td>2</td>\n",
              "    </tr>\n",
              "    <tr>\n",
              "      <th>11</th>\n",
              "      <td>22000</td>\n",
              "      <td>25000</td>\n",
              "      <td>6</td>\n",
              "      <td>12000</td>\n",
              "      <td>279840</td>\n",
              "      <td>Illiterate</td>\n",
              "      <td>1</td>\n",
              "    </tr>\n",
              "    <tr>\n",
              "      <th>12</th>\n",
              "      <td>23400</td>\n",
              "      <td>5000</td>\n",
              "      <td>3</td>\n",
              "      <td>0</td>\n",
              "      <td>292032</td>\n",
              "      <td>Illiterate</td>\n",
              "      <td>1</td>\n",
              "    </tr>\n",
              "    <tr>\n",
              "      <th>13</th>\n",
              "      <td>24000</td>\n",
              "      <td>10500</td>\n",
              "      <td>6</td>\n",
              "      <td>0</td>\n",
              "      <td>316800</td>\n",
              "      <td>Graduate</td>\n",
              "      <td>2</td>\n",
              "    </tr>\n",
              "    <tr>\n",
              "      <th>14</th>\n",
              "      <td>24000</td>\n",
              "      <td>10000</td>\n",
              "      <td>4</td>\n",
              "      <td>0</td>\n",
              "      <td>244800</td>\n",
              "      <td>Graduate</td>\n",
              "      <td>2</td>\n",
              "    </tr>\n",
              "    <tr>\n",
              "      <th>15</th>\n",
              "      <td>25000</td>\n",
              "      <td>12300</td>\n",
              "      <td>3</td>\n",
              "      <td>0</td>\n",
              "      <td>246000</td>\n",
              "      <td>Graduate</td>\n",
              "      <td>1</td>\n",
              "    </tr>\n",
              "    <tr>\n",
              "      <th>16</th>\n",
              "      <td>25000</td>\n",
              "      <td>20000</td>\n",
              "      <td>3</td>\n",
              "      <td>3500</td>\n",
              "      <td>261000</td>\n",
              "      <td>Graduate</td>\n",
              "      <td>1</td>\n",
              "    </tr>\n",
              "    <tr>\n",
              "      <th>17</th>\n",
              "      <td>25000</td>\n",
              "      <td>10000</td>\n",
              "      <td>6</td>\n",
              "      <td>0</td>\n",
              "      <td>258000</td>\n",
              "      <td>Under-Graduate</td>\n",
              "      <td>3</td>\n",
              "    </tr>\n",
              "    <tr>\n",
              "      <th>18</th>\n",
              "      <td>29000</td>\n",
              "      <td>6600</td>\n",
              "      <td>2</td>\n",
              "      <td>2000</td>\n",
              "      <td>348000</td>\n",
              "      <td>Graduate</td>\n",
              "      <td>1</td>\n",
              "    </tr>\n",
              "    <tr>\n",
              "      <th>19</th>\n",
              "      <td>30000</td>\n",
              "      <td>13000</td>\n",
              "      <td>4</td>\n",
              "      <td>0</td>\n",
              "      <td>385200</td>\n",
              "      <td>Graduate</td>\n",
              "      <td>1</td>\n",
              "    </tr>\n",
              "    <tr>\n",
              "      <th>20</th>\n",
              "      <td>30500</td>\n",
              "      <td>25000</td>\n",
              "      <td>5</td>\n",
              "      <td>5000</td>\n",
              "      <td>351360</td>\n",
              "      <td>Under-Graduate</td>\n",
              "      <td>1</td>\n",
              "    </tr>\n",
              "    <tr>\n",
              "      <th>21</th>\n",
              "      <td>32000</td>\n",
              "      <td>15000</td>\n",
              "      <td>4</td>\n",
              "      <td>0</td>\n",
              "      <td>445440</td>\n",
              "      <td>Professional</td>\n",
              "      <td>1</td>\n",
              "    </tr>\n",
              "    <tr>\n",
              "      <th>22</th>\n",
              "      <td>34000</td>\n",
              "      <td>19000</td>\n",
              "      <td>6</td>\n",
              "      <td>0</td>\n",
              "      <td>330480</td>\n",
              "      <td>Professional</td>\n",
              "      <td>1</td>\n",
              "    </tr>\n",
              "    <tr>\n",
              "      <th>23</th>\n",
              "      <td>34000</td>\n",
              "      <td>25000</td>\n",
              "      <td>3</td>\n",
              "      <td>4000</td>\n",
              "      <td>469200</td>\n",
              "      <td>Professional</td>\n",
              "      <td>1</td>\n",
              "    </tr>\n",
              "    <tr>\n",
              "      <th>24</th>\n",
              "      <td>35000</td>\n",
              "      <td>12000</td>\n",
              "      <td>3</td>\n",
              "      <td>0</td>\n",
              "      <td>466200</td>\n",
              "      <td>Graduate</td>\n",
              "      <td>1</td>\n",
              "    </tr>\n",
              "    <tr>\n",
              "      <th>25</th>\n",
              "      <td>35000</td>\n",
              "      <td>25000</td>\n",
              "      <td>4</td>\n",
              "      <td>0</td>\n",
              "      <td>449400</td>\n",
              "      <td>Professional</td>\n",
              "      <td>2</td>\n",
              "    </tr>\n",
              "    <tr>\n",
              "      <th>26</th>\n",
              "      <td>39000</td>\n",
              "      <td>8000</td>\n",
              "      <td>4</td>\n",
              "      <td>0</td>\n",
              "      <td>556920</td>\n",
              "      <td>Under-Graduate</td>\n",
              "      <td>1</td>\n",
              "    </tr>\n",
              "    <tr>\n",
              "      <th>27</th>\n",
              "      <td>40000</td>\n",
              "      <td>10000</td>\n",
              "      <td>4</td>\n",
              "      <td>0</td>\n",
              "      <td>412800</td>\n",
              "      <td>Under-Graduate</td>\n",
              "      <td>1</td>\n",
              "    </tr>\n",
              "    <tr>\n",
              "      <th>28</th>\n",
              "      <td>42000</td>\n",
              "      <td>15000</td>\n",
              "      <td>4</td>\n",
              "      <td>0</td>\n",
              "      <td>488880</td>\n",
              "      <td>Graduate</td>\n",
              "      <td>1</td>\n",
              "    </tr>\n",
              "    <tr>\n",
              "      <th>29</th>\n",
              "      <td>43000</td>\n",
              "      <td>12000</td>\n",
              "      <td>4</td>\n",
              "      <td>0</td>\n",
              "      <td>619200</td>\n",
              "      <td>Graduate</td>\n",
              "      <td>1</td>\n",
              "    </tr>\n",
              "    <tr>\n",
              "      <th>30</th>\n",
              "      <td>45000</td>\n",
              "      <td>25000</td>\n",
              "      <td>6</td>\n",
              "      <td>0</td>\n",
              "      <td>523800</td>\n",
              "      <td>Graduate</td>\n",
              "      <td>3</td>\n",
              "    </tr>\n",
              "    <tr>\n",
              "      <th>31</th>\n",
              "      <td>45000</td>\n",
              "      <td>40000</td>\n",
              "      <td>6</td>\n",
              "      <td>3500</td>\n",
              "      <td>507600</td>\n",
              "      <td>Professional</td>\n",
              "      <td>2</td>\n",
              "    </tr>\n",
              "    <tr>\n",
              "      <th>32</th>\n",
              "      <td>45000</td>\n",
              "      <td>10000</td>\n",
              "      <td>2</td>\n",
              "      <td>1000</td>\n",
              "      <td>437400</td>\n",
              "      <td>Post-Graduate</td>\n",
              "      <td>1</td>\n",
              "    </tr>\n",
              "    <tr>\n",
              "      <th>33</th>\n",
              "      <td>45000</td>\n",
              "      <td>22000</td>\n",
              "      <td>4</td>\n",
              "      <td>2500</td>\n",
              "      <td>610200</td>\n",
              "      <td>Post-Graduate</td>\n",
              "      <td>1</td>\n",
              "    </tr>\n",
              "    <tr>\n",
              "      <th>34</th>\n",
              "      <td>46000</td>\n",
              "      <td>25000</td>\n",
              "      <td>5</td>\n",
              "      <td>3500</td>\n",
              "      <td>596160</td>\n",
              "      <td>Graduate</td>\n",
              "      <td>1</td>\n",
              "    </tr>\n",
              "    <tr>\n",
              "      <th>35</th>\n",
              "      <td>47000</td>\n",
              "      <td>15000</td>\n",
              "      <td>7</td>\n",
              "      <td>0</td>\n",
              "      <td>456840</td>\n",
              "      <td>Professional</td>\n",
              "      <td>4</td>\n",
              "    </tr>\n",
              "    <tr>\n",
              "      <th>36</th>\n",
              "      <td>50000</td>\n",
              "      <td>20000</td>\n",
              "      <td>4</td>\n",
              "      <td>0</td>\n",
              "      <td>570000</td>\n",
              "      <td>Professional</td>\n",
              "      <td>1</td>\n",
              "    </tr>\n",
              "    <tr>\n",
              "      <th>37</th>\n",
              "      <td>50500</td>\n",
              "      <td>20000</td>\n",
              "      <td>3</td>\n",
              "      <td>0</td>\n",
              "      <td>581760</td>\n",
              "      <td>Professional</td>\n",
              "      <td>2</td>\n",
              "    </tr>\n",
              "    <tr>\n",
              "      <th>38</th>\n",
              "      <td>55000</td>\n",
              "      <td>45000</td>\n",
              "      <td>6</td>\n",
              "      <td>12000</td>\n",
              "      <td>600600</td>\n",
              "      <td>Graduate</td>\n",
              "      <td>2</td>\n",
              "    </tr>\n",
              "    <tr>\n",
              "      <th>39</th>\n",
              "      <td>60000</td>\n",
              "      <td>10000</td>\n",
              "      <td>3</td>\n",
              "      <td>0</td>\n",
              "      <td>590400</td>\n",
              "      <td>Post-Graduate</td>\n",
              "      <td>1</td>\n",
              "    </tr>\n",
              "    <tr>\n",
              "      <th>40</th>\n",
              "      <td>60000</td>\n",
              "      <td>50000</td>\n",
              "      <td>6</td>\n",
              "      <td>10000</td>\n",
              "      <td>590400</td>\n",
              "      <td>Graduate</td>\n",
              "      <td>1</td>\n",
              "    </tr>\n",
              "    <tr>\n",
              "      <th>41</th>\n",
              "      <td>65000</td>\n",
              "      <td>20000</td>\n",
              "      <td>4</td>\n",
              "      <td>5000</td>\n",
              "      <td>647400</td>\n",
              "      <td>Illiterate</td>\n",
              "      <td>2</td>\n",
              "    </tr>\n",
              "    <tr>\n",
              "      <th>42</th>\n",
              "      <td>70000</td>\n",
              "      <td>9000</td>\n",
              "      <td>2</td>\n",
              "      <td>0</td>\n",
              "      <td>756000</td>\n",
              "      <td>Graduate</td>\n",
              "      <td>1</td>\n",
              "    </tr>\n",
              "    <tr>\n",
              "      <th>43</th>\n",
              "      <td>80000</td>\n",
              "      <td>20000</td>\n",
              "      <td>4</td>\n",
              "      <td>0</td>\n",
              "      <td>1075200</td>\n",
              "      <td>Graduate</td>\n",
              "      <td>1</td>\n",
              "    </tr>\n",
              "    <tr>\n",
              "      <th>44</th>\n",
              "      <td>85000</td>\n",
              "      <td>25000</td>\n",
              "      <td>5</td>\n",
              "      <td>0</td>\n",
              "      <td>1142400</td>\n",
              "      <td>Under-Graduate</td>\n",
              "      <td>2</td>\n",
              "    </tr>\n",
              "    <tr>\n",
              "      <th>45</th>\n",
              "      <td>90000</td>\n",
              "      <td>48000</td>\n",
              "      <td>7</td>\n",
              "      <td>0</td>\n",
              "      <td>885600</td>\n",
              "      <td>Post-Graduate</td>\n",
              "      <td>3</td>\n",
              "    </tr>\n",
              "    <tr>\n",
              "      <th>46</th>\n",
              "      <td>98000</td>\n",
              "      <td>25000</td>\n",
              "      <td>5</td>\n",
              "      <td>0</td>\n",
              "      <td>1152480</td>\n",
              "      <td>Professional</td>\n",
              "      <td>2</td>\n",
              "    </tr>\n",
              "    <tr>\n",
              "      <th>47</th>\n",
              "      <td>100000</td>\n",
              "      <td>30000</td>\n",
              "      <td>6</td>\n",
              "      <td>0</td>\n",
              "      <td>1404000</td>\n",
              "      <td>Graduate</td>\n",
              "      <td>3</td>\n",
              "    </tr>\n",
              "    <tr>\n",
              "      <th>48</th>\n",
              "      <td>100000</td>\n",
              "      <td>50000</td>\n",
              "      <td>4</td>\n",
              "      <td>20000</td>\n",
              "      <td>1032000</td>\n",
              "      <td>Professional</td>\n",
              "      <td>2</td>\n",
              "    </tr>\n",
              "    <tr>\n",
              "      <th>49</th>\n",
              "      <td>100000</td>\n",
              "      <td>40000</td>\n",
              "      <td>6</td>\n",
              "      <td>10000</td>\n",
              "      <td>1320000</td>\n",
              "      <td>Post-Graduate</td>\n",
              "      <td>1</td>\n",
              "    </tr>\n",
              "  </tbody>\n",
              "</table>\n",
              "</div>"
            ],
            "text/plain": [
              "    Mthly_HH_Income  ...  No_of_Earning_Members\n",
              "0              5000  ...                      1\n",
              "1              6000  ...                      1\n",
              "2             10000  ...                      1\n",
              "3             10000  ...                      1\n",
              "4             12500  ...                      1\n",
              "5             14000  ...                      1\n",
              "6             15000  ...                      1\n",
              "7             18000  ...                      1\n",
              "8             19000  ...                      1\n",
              "9             20000  ...                      2\n",
              "10            20000  ...                      2\n",
              "11            22000  ...                      1\n",
              "12            23400  ...                      1\n",
              "13            24000  ...                      2\n",
              "14            24000  ...                      2\n",
              "15            25000  ...                      1\n",
              "16            25000  ...                      1\n",
              "17            25000  ...                      3\n",
              "18            29000  ...                      1\n",
              "19            30000  ...                      1\n",
              "20            30500  ...                      1\n",
              "21            32000  ...                      1\n",
              "22            34000  ...                      1\n",
              "23            34000  ...                      1\n",
              "24            35000  ...                      1\n",
              "25            35000  ...                      2\n",
              "26            39000  ...                      1\n",
              "27            40000  ...                      1\n",
              "28            42000  ...                      1\n",
              "29            43000  ...                      1\n",
              "30            45000  ...                      3\n",
              "31            45000  ...                      2\n",
              "32            45000  ...                      1\n",
              "33            45000  ...                      1\n",
              "34            46000  ...                      1\n",
              "35            47000  ...                      4\n",
              "36            50000  ...                      1\n",
              "37            50500  ...                      2\n",
              "38            55000  ...                      2\n",
              "39            60000  ...                      1\n",
              "40            60000  ...                      1\n",
              "41            65000  ...                      2\n",
              "42            70000  ...                      1\n",
              "43            80000  ...                      1\n",
              "44            85000  ...                      2\n",
              "45            90000  ...                      3\n",
              "46            98000  ...                      2\n",
              "47           100000  ...                      3\n",
              "48           100000  ...                      2\n",
              "49           100000  ...                      1\n",
              "\n",
              "[50 rows x 7 columns]"
            ]
          },
          "metadata": {
            "tags": []
          },
          "execution_count": 295
        }
      ]
    },
    {
      "cell_type": "code",
      "metadata": {
        "colab": {
          "base_uri": "https://localhost:8080/",
          "height": 284
        },
        "id": "oMGXBrBSYAj_",
        "outputId": "e15b5d69-1ec4-4bf9-b9e8-889d00dd9abf"
      },
      "source": [
        "df.describe()"
      ],
      "execution_count": null,
      "outputs": [
        {
          "output_type": "execute_result",
          "data": {
            "text/html": [
              "<div>\n",
              "<style scoped>\n",
              "    .dataframe tbody tr th:only-of-type {\n",
              "        vertical-align: middle;\n",
              "    }\n",
              "\n",
              "    .dataframe tbody tr th {\n",
              "        vertical-align: top;\n",
              "    }\n",
              "\n",
              "    .dataframe thead th {\n",
              "        text-align: right;\n",
              "    }\n",
              "</style>\n",
              "<table border=\"1\" class=\"dataframe\">\n",
              "  <thead>\n",
              "    <tr style=\"text-align: right;\">\n",
              "      <th></th>\n",
              "      <th>Mthly_HH_Income</th>\n",
              "      <th>Mthly_HH_Expense</th>\n",
              "      <th>No_of_Fly_Members</th>\n",
              "      <th>Emi_or_Rent_Amt</th>\n",
              "      <th>Annual_HH_Income</th>\n",
              "      <th>No_of_Earning_Members</th>\n",
              "    </tr>\n",
              "  </thead>\n",
              "  <tbody>\n",
              "    <tr>\n",
              "      <th>count</th>\n",
              "      <td>50.000000</td>\n",
              "      <td>50.000000</td>\n",
              "      <td>50.000000</td>\n",
              "      <td>50.000000</td>\n",
              "      <td>5.000000e+01</td>\n",
              "      <td>50.000000</td>\n",
              "    </tr>\n",
              "    <tr>\n",
              "      <th>mean</th>\n",
              "      <td>41558.000000</td>\n",
              "      <td>18818.000000</td>\n",
              "      <td>4.060000</td>\n",
              "      <td>3060.000000</td>\n",
              "      <td>4.900190e+05</td>\n",
              "      <td>1.460000</td>\n",
              "    </tr>\n",
              "    <tr>\n",
              "      <th>std</th>\n",
              "      <td>26097.908979</td>\n",
              "      <td>12090.216824</td>\n",
              "      <td>1.517382</td>\n",
              "      <td>6241.434948</td>\n",
              "      <td>3.201358e+05</td>\n",
              "      <td>0.734291</td>\n",
              "    </tr>\n",
              "    <tr>\n",
              "      <th>min</th>\n",
              "      <td>5000.000000</td>\n",
              "      <td>2000.000000</td>\n",
              "      <td>1.000000</td>\n",
              "      <td>0.000000</td>\n",
              "      <td>6.420000e+04</td>\n",
              "      <td>1.000000</td>\n",
              "    </tr>\n",
              "    <tr>\n",
              "      <th>25%</th>\n",
              "      <td>23550.000000</td>\n",
              "      <td>10000.000000</td>\n",
              "      <td>3.000000</td>\n",
              "      <td>0.000000</td>\n",
              "      <td>2.587500e+05</td>\n",
              "      <td>1.000000</td>\n",
              "    </tr>\n",
              "    <tr>\n",
              "      <th>50%</th>\n",
              "      <td>35000.000000</td>\n",
              "      <td>15500.000000</td>\n",
              "      <td>4.000000</td>\n",
              "      <td>0.000000</td>\n",
              "      <td>4.474200e+05</td>\n",
              "      <td>1.000000</td>\n",
              "    </tr>\n",
              "    <tr>\n",
              "      <th>75%</th>\n",
              "      <td>50375.000000</td>\n",
              "      <td>25000.000000</td>\n",
              "      <td>5.000000</td>\n",
              "      <td>3500.000000</td>\n",
              "      <td>5.947200e+05</td>\n",
              "      <td>2.000000</td>\n",
              "    </tr>\n",
              "    <tr>\n",
              "      <th>max</th>\n",
              "      <td>100000.000000</td>\n",
              "      <td>50000.000000</td>\n",
              "      <td>7.000000</td>\n",
              "      <td>35000.000000</td>\n",
              "      <td>1.404000e+06</td>\n",
              "      <td>4.000000</td>\n",
              "    </tr>\n",
              "  </tbody>\n",
              "</table>\n",
              "</div>"
            ],
            "text/plain": [
              "       Mthly_HH_Income  ...  No_of_Earning_Members\n",
              "count        50.000000  ...              50.000000\n",
              "mean      41558.000000  ...               1.460000\n",
              "std       26097.908979  ...               0.734291\n",
              "min        5000.000000  ...               1.000000\n",
              "25%       23550.000000  ...               1.000000\n",
              "50%       35000.000000  ...               1.000000\n",
              "75%       50375.000000  ...               2.000000\n",
              "max      100000.000000  ...               4.000000\n",
              "\n",
              "[8 rows x 6 columns]"
            ]
          },
          "metadata": {
            "tags": []
          },
          "execution_count": 296
        }
      ]
    },
    {
      "cell_type": "code",
      "metadata": {
        "colab": {
          "base_uri": "https://localhost:8080/",
          "height": 282
        },
        "id": "Ik3873kjZ92Q",
        "outputId": "894149a4-acbe-482a-b276-e95456535a49"
      },
      "source": [
        "#Biểu đồ tương quan giữa Mthly_HH_Expense và Mthly_HH_Income\n",
        "df[[\"Mthly_HH_Expense\",\n",
        "    \"Mthly_HH_Income\"]].plot()\n",
        "plt.ylabel('Count')"
      ],
      "execution_count": null,
      "outputs": [
        {
          "output_type": "execute_result",
          "data": {
            "text/plain": [
              "Text(0, 0.5, 'Count')"
            ]
          },
          "metadata": {
            "tags": []
          },
          "execution_count": 297
        },
        {
          "output_type": "display_data",
          "data": {
            "image/png": "[encoded data removed]",
            "text/plain": [
              "<Figure size 432x288 with 1 Axes>"
            ]
          },
          "metadata": {
            "tags": [],
            "needs_background": "light"
          }
        }
      ]
    },
    {
      "cell_type": "markdown",
      "metadata": {
        "id": "5tGfAn0IF0wT"
      },
      "source": [
        "# Kiểu định lượng"
      ]
    },
    {
      "cell_type": "code",
      "metadata": {
        "colab": {
          "base_uri": "https://localhost:8080/"
        },
        "id": "HUHBulWSDE2s",
        "outputId": "5ba8a549-9f68-4170-b8de-926a678e92c5"
      },
      "source": [
        "dinh_luong = {}\n",
        "columns_dluong = ['Mthly_HH_Income',\n",
        "                  'Mthly_HH_Expense',\n",
        "                  'Emi_or_Rent_Amt',\n",
        "                  'Annual_HH_Income']\n",
        "for column in columns_dluong:\n",
        "    print(column)\n",
        "    mo_ta = df[column].describe()\n",
        "    print(mo_ta)\n",
        "    dinh_luong[column] = df[column]\n",
        "    print('')"
      ],
      "execution_count": null,
      "outputs": [
        {
          "output_type": "stream",
          "text": [
            "Mthly_HH_Income\n",
            "count        50.000000\n",
            "mean      41558.000000\n",
            "std       26097.908979\n",
            "min        5000.000000\n",
            "25%       23550.000000\n",
            "50%       35000.000000\n",
            "75%       50375.000000\n",
            "max      100000.000000\n",
            "Name: Mthly_HH_Income, dtype: float64\n",
            "\n",
            "Mthly_HH_Expense\n",
            "count       50.000000\n",
            "mean     18818.000000\n",
            "std      12090.216824\n",
            "min       2000.000000\n",
            "25%      10000.000000\n",
            "50%      15500.000000\n",
            "75%      25000.000000\n",
            "max      50000.000000\n",
            "Name: Mthly_HH_Expense, dtype: float64\n",
            "\n",
            "Emi_or_Rent_Amt\n",
            "count       50.000000\n",
            "mean      3060.000000\n",
            "std       6241.434948\n",
            "min          0.000000\n",
            "25%          0.000000\n",
            "50%          0.000000\n",
            "75%       3500.000000\n",
            "max      35000.000000\n",
            "Name: Emi_or_Rent_Amt, dtype: float64\n",
            "\n",
            "Annual_HH_Income\n",
            "count    5.000000e+01\n",
            "mean     4.900190e+05\n",
            "std      3.201358e+05\n",
            "min      6.420000e+04\n",
            "25%      2.587500e+05\n",
            "50%      4.474200e+05\n",
            "75%      5.947200e+05\n",
            "max      1.404000e+06\n",
            "Name: Annual_HH_Income, dtype: float64\n",
            "\n"
          ],
          "name": "stdout"
        }
      ]
    },
    {
      "cell_type": "code",
      "metadata": {
        "colab": {
          "base_uri": "https://localhost:8080/",
          "height": 1000
        },
        "id": "J3PIGevaI4XL",
        "outputId": "923212a9-6bc2-4f27-8471-a0c2a3d42b74"
      },
      "source": [
        "data_d_luong = pd.DataFrame(dinh_luong)\n",
        "for column in data_d_luong.columns:\n",
        "    data = data_d_luong[column]\n",
        "    hist_plot(data)"
      ],
      "execution_count": null,
      "outputs": [
        {
          "output_type": "display_data",
          "data": {
            "image/png": "[encoded data removed]",
            "text/plain": [
              "<Figure size 432x288 with 1 Axes>"
            ]
          },
          "metadata": {
            "tags": [],
            "needs_background": "light"
          }
        },
        {
          "output_type": "display_data",
          "data": {
            "image/png": "[encoded data removed]",
            "text/plain": [
              "<Figure size 432x288 with 1 Axes>"
            ]
          },
          "metadata": {
            "tags": [],
            "needs_background": "light"
          }
        },
        {
          "output_type": "display_data",
          "data": {
            "image/png": "[encoded data removed]",
            "text/plain": [
              "<Figure size 432x288 with 1 Axes>"
            ]
          },
          "metadata": {
            "tags": [],
            "needs_background": "light"
          }
        },
        {
          "output_type": "display_data",
          "data": {
            "image/png": "[encoded data removed]",
            "text/plain": [
              "<Figure size 432x288 with 1 Axes>"
            ]
          },
          "metadata": {
            "tags": [],
            "needs_background": "light"
          }
        }
      ]
    },
    {
      "cell_type": "markdown",
      "metadata": {
        "id": "RALljxBsHIgz"
      },
      "source": [
        "Biểu đồ định lượng"
      ]
    },
    {
      "cell_type": "markdown",
      "metadata": {
        "id": "yaOtzuSQF5mz"
      },
      "source": [
        "# Kiểu định tính"
      ]
    },
    {
      "cell_type": "code",
      "metadata": {
        "colab": {
          "base_uri": "https://localhost:8080/"
        },
        "id": "dMJGAJCLNGKT",
        "outputId": "f85e6185-d3d2-4d12-d2ac-81ab3deffe0b"
      },
      "source": [
        "dinh_tinh = {}\n",
        "columns_dtinh = ['No_of_Fly_Members',\n",
        "                 'Highest_Qualified_Member',\n",
        "                 'No_of_Earning_Members']\n",
        "for column in columns_dtinh:\n",
        "    print(column)\n",
        "    dinh_tinh[column] = df[column]\n",
        "    print('')"
      ],
      "execution_count": null,
      "outputs": [
        {
          "output_type": "stream",
          "text": [
            "No_of_Fly_Members\n",
            "\n",
            "Highest_Qualified_Member\n",
            "\n",
            "No_of_Earning_Members\n",
            "\n"
          ],
          "name": "stdout"
        }
      ]
    },
    {
      "cell_type": "code",
      "metadata": {
        "colab": {
          "base_uri": "https://localhost:8080/",
          "height": 854
        },
        "id": "OY2lnol-O2WR",
        "outputId": "ee8475f4-6d07-4f23-d8e4-83cc6fe96cfd"
      },
      "source": [
        "for column in data_dinh_tinh.columns:\n",
        "    p = {}\n",
        "    so_luong = []\n",
        "    dem_data = data_dinh_tinh[column].value_counts()\n",
        "    trinh_do = dem_data.index\n",
        "    for i in dem_data:\n",
        "        so_luong.append(i)\n",
        "    p = {'trinh_do':trinh_do,\n",
        "         'so_luong':so_luong}\n",
        "    data = pd.DataFrame(p)\n",
        "    sns.barplot(y = 'trinh_do',\n",
        "                x= 'so_luong',\n",
        "                data = data)\n",
        "    bar_chart(data)"
      ],
      "execution_count": null,
      "outputs": [
        {
          "output_type": "display_data",
          "data": {
            "image/png": "[encoded data removed]",
            "text/plain": [
              "<Figure size 432x288 with 1 Axes>"
            ]
          },
          "metadata": {
            "tags": [],
            "needs_background": "light"
          }
        },
        {
          "output_type": "display_data",
          "data": {
            "image/png": "[encoded data removed]",
            "text/plain": [
              "<Figure size 432x288 with 1 Axes>"
            ]
          },
          "metadata": {
            "tags": [],
            "needs_background": "light"
          }
        },
        {
          "output_type": "display_data",
          "data": {
            "image/png": "[encoded data removed]",
            "text/plain": [
              "<Figure size 432x288 with 1 Axes>"
            ]
          },
          "metadata": {
            "tags": [],
            "needs_background": "light"
          }
        }
      ]
    },
    {
      "cell_type": "markdown",
      "metadata": {
        "id": "cqyJn8nzQU_r"
      },
      "source": [
        "# Distribution\n"
      ]
    },
    {
      "cell_type": "markdown",
      "metadata": {
        "id": "eBgWVkJoVN4Q"
      },
      "source": [
        "#thống kê phần trăm thu nhập ở các mức rất cao, cao, trung bình, thấp\n"
      ]
    },
    {
      "cell_type": "code",
      "metadata": {
        "colab": {
          "base_uri": "https://localhost:8080/",
          "height": 491
        },
        "id": "jQ94Dy9MWxEx",
        "outputId": "9d20dfa2-8a78-4b65-d5d9-496d97fcc5f7"
      },
      "source": [
        "type_income = []\n",
        "for x in df['Mthly_HH_Income']:\n",
        "    if x <= 20000:\n",
        "        type_income.append('Thấp')\n",
        "    elif x <= 50000:\n",
        "        type_income.append('Trung bình')\n",
        "    elif x <= 80000:\n",
        "        type_income.append('Cao')\n",
        "    else:\n",
        "        type_income.append('Rất cao')\n",
        "df.insert(7, \"Type_Income\", type_income)\n",
        "df.head(15)"
      ],
      "execution_count": null,
      "outputs": [
        {
          "output_type": "execute_result",
          "data": {
            "text/html": [
              "<div>\n",
              "<style scoped>\n",
              "    .dataframe tbody tr th:only-of-type {\n",
              "        vertical-align: middle;\n",
              "    }\n",
              "\n",
              "    .dataframe tbody tr th {\n",
              "        vertical-align: top;\n",
              "    }\n",
              "\n",
              "    .dataframe thead th {\n",
              "        text-align: right;\n",
              "    }\n",
              "</style>\n",
              "<table border=\"1\" class=\"dataframe\">\n",
              "  <thead>\n",
              "    <tr style=\"text-align: right;\">\n",
              "      <th></th>\n",
              "      <th>Mthly_HH_Income</th>\n",
              "      <th>Mthly_HH_Expense</th>\n",
              "      <th>No_of_Fly_Members</th>\n",
              "      <th>Emi_or_Rent_Amt</th>\n",
              "      <th>Annual_HH_Income</th>\n",
              "      <th>Highest_Qualified_Member</th>\n",
              "      <th>No_of_Earning_Members</th>\n",
              "      <th>Type_Income</th>\n",
              "    </tr>\n",
              "  </thead>\n",
              "  <tbody>\n",
              "    <tr>\n",
              "      <th>0</th>\n",
              "      <td>5000</td>\n",
              "      <td>8000</td>\n",
              "      <td>3</td>\n",
              "      <td>2000</td>\n",
              "      <td>64200</td>\n",
              "      <td>Under-Graduate</td>\n",
              "      <td>1</td>\n",
              "      <td>Thấp</td>\n",
              "    </tr>\n",
              "    <tr>\n",
              "      <th>1</th>\n",
              "      <td>6000</td>\n",
              "      <td>7000</td>\n",
              "      <td>2</td>\n",
              "      <td>3000</td>\n",
              "      <td>79920</td>\n",
              "      <td>Illiterate</td>\n",
              "      <td>1</td>\n",
              "      <td>Thấp</td>\n",
              "    </tr>\n",
              "    <tr>\n",
              "      <th>2</th>\n",
              "      <td>10000</td>\n",
              "      <td>4500</td>\n",
              "      <td>2</td>\n",
              "      <td>0</td>\n",
              "      <td>112800</td>\n",
              "      <td>Under-Graduate</td>\n",
              "      <td>1</td>\n",
              "      <td>Thấp</td>\n",
              "    </tr>\n",
              "    <tr>\n",
              "      <th>3</th>\n",
              "      <td>10000</td>\n",
              "      <td>2000</td>\n",
              "      <td>1</td>\n",
              "      <td>0</td>\n",
              "      <td>97200</td>\n",
              "      <td>Illiterate</td>\n",
              "      <td>1</td>\n",
              "      <td>Thấp</td>\n",
              "    </tr>\n",
              "    <tr>\n",
              "      <th>4</th>\n",
              "      <td>12500</td>\n",
              "      <td>12000</td>\n",
              "      <td>2</td>\n",
              "      <td>3000</td>\n",
              "      <td>147000</td>\n",
              "      <td>Graduate</td>\n",
              "      <td>1</td>\n",
              "      <td>Thấp</td>\n",
              "    </tr>\n",
              "    <tr>\n",
              "      <th>5</th>\n",
              "      <td>14000</td>\n",
              "      <td>8000</td>\n",
              "      <td>2</td>\n",
              "      <td>0</td>\n",
              "      <td>196560</td>\n",
              "      <td>Graduate</td>\n",
              "      <td>1</td>\n",
              "      <td>Thấp</td>\n",
              "    </tr>\n",
              "    <tr>\n",
              "      <th>6</th>\n",
              "      <td>15000</td>\n",
              "      <td>16000</td>\n",
              "      <td>3</td>\n",
              "      <td>35000</td>\n",
              "      <td>167400</td>\n",
              "      <td>Post-Graduate</td>\n",
              "      <td>1</td>\n",
              "      <td>Thấp</td>\n",
              "    </tr>\n",
              "    <tr>\n",
              "      <th>7</th>\n",
              "      <td>18000</td>\n",
              "      <td>20000</td>\n",
              "      <td>5</td>\n",
              "      <td>8000</td>\n",
              "      <td>216000</td>\n",
              "      <td>Graduate</td>\n",
              "      <td>1</td>\n",
              "      <td>Thấp</td>\n",
              "    </tr>\n",
              "    <tr>\n",
              "      <th>8</th>\n",
              "      <td>19000</td>\n",
              "      <td>9000</td>\n",
              "      <td>2</td>\n",
              "      <td>0</td>\n",
              "      <td>218880</td>\n",
              "      <td>Under-Graduate</td>\n",
              "      <td>1</td>\n",
              "      <td>Thấp</td>\n",
              "    </tr>\n",
              "    <tr>\n",
              "      <th>9</th>\n",
              "      <td>20000</td>\n",
              "      <td>9000</td>\n",
              "      <td>4</td>\n",
              "      <td>0</td>\n",
              "      <td>220800</td>\n",
              "      <td>Under-Graduate</td>\n",
              "      <td>2</td>\n",
              "      <td>Thấp</td>\n",
              "    </tr>\n",
              "    <tr>\n",
              "      <th>10</th>\n",
              "      <td>20000</td>\n",
              "      <td>18000</td>\n",
              "      <td>4</td>\n",
              "      <td>8000</td>\n",
              "      <td>278400</td>\n",
              "      <td>Under-Graduate</td>\n",
              "      <td>2</td>\n",
              "      <td>Thấp</td>\n",
              "    </tr>\n",
              "    <tr>\n",
              "      <th>11</th>\n",
              "      <td>22000</td>\n",
              "      <td>25000</td>\n",
              "      <td>6</td>\n",
              "      <td>12000</td>\n",
              "      <td>279840</td>\n",
              "      <td>Illiterate</td>\n",
              "      <td>1</td>\n",
              "      <td>Trung bình</td>\n",
              "    </tr>\n",
              "    <tr>\n",
              "      <th>12</th>\n",
              "      <td>23400</td>\n",
              "      <td>5000</td>\n",
              "      <td>3</td>\n",
              "      <td>0</td>\n",
              "      <td>292032</td>\n",
              "      <td>Illiterate</td>\n",
              "      <td>1</td>\n",
              "      <td>Trung bình</td>\n",
              "    </tr>\n",
              "    <tr>\n",
              "      <th>13</th>\n",
              "      <td>24000</td>\n",
              "      <td>10500</td>\n",
              "      <td>6</td>\n",
              "      <td>0</td>\n",
              "      <td>316800</td>\n",
              "      <td>Graduate</td>\n",
              "      <td>2</td>\n",
              "      <td>Trung bình</td>\n",
              "    </tr>\n",
              "    <tr>\n",
              "      <th>14</th>\n",
              "      <td>24000</td>\n",
              "      <td>10000</td>\n",
              "      <td>4</td>\n",
              "      <td>0</td>\n",
              "      <td>244800</td>\n",
              "      <td>Graduate</td>\n",
              "      <td>2</td>\n",
              "      <td>Trung bình</td>\n",
              "    </tr>\n",
              "  </tbody>\n",
              "</table>\n",
              "</div>"
            ],
            "text/plain": [
              "    Mthly_HH_Income  Mthly_HH_Expense  ...  No_of_Earning_Members  Type_Income\n",
              "0              5000              8000  ...                      1         Thấp\n",
              "1              6000              7000  ...                      1         Thấp\n",
              "2             10000              4500  ...                      1         Thấp\n",
              "3             10000              2000  ...                      1         Thấp\n",
              "4             12500             12000  ...                      1         Thấp\n",
              "5             14000              8000  ...                      1         Thấp\n",
              "6             15000             16000  ...                      1         Thấp\n",
              "7             18000             20000  ...                      1         Thấp\n",
              "8             19000              9000  ...                      1         Thấp\n",
              "9             20000              9000  ...                      2         Thấp\n",
              "10            20000             18000  ...                      2         Thấp\n",
              "11            22000             25000  ...                      1   Trung bình\n",
              "12            23400              5000  ...                      1   Trung bình\n",
              "13            24000             10500  ...                      2   Trung bình\n",
              "14            24000             10000  ...                      2   Trung bình\n",
              "\n",
              "[15 rows x 8 columns]"
            ]
          },
          "metadata": {
            "tags": []
          },
          "execution_count": 302
        }
      ]
    },
    {
      "cell_type": "code",
      "metadata": {
        "colab": {
          "base_uri": "https://localhost:8080/",
          "height": 195
        },
        "id": "mNmF5qPpQnqa",
        "outputId": "76dbe5fd-e1d4-4caa-c00e-4a1300c42208"
      },
      "source": [
        "#Rất cao >= 80000$ , Cao >= 50000$ , Trung bình >= 20000$, Thấp < 20000$\n",
        "ti = df.groupby('Type_Income')['Type_Income'].count()\n",
        "ti = pd.DataFrame(ti)\n",
        "ti.columns = ['%']\n",
        "phantram1 = (ti/sum(ti['%']))*100\n",
        "phantram1"
      ],
      "execution_count": null,
      "outputs": [
        {
          "output_type": "execute_result",
          "data": {
            "text/html": [
              "<div>\n",
              "<style scoped>\n",
              "    .dataframe tbody tr th:only-of-type {\n",
              "        vertical-align: middle;\n",
              "    }\n",
              "\n",
              "    .dataframe tbody tr th {\n",
              "        vertical-align: top;\n",
              "    }\n",
              "\n",
              "    .dataframe thead th {\n",
              "        text-align: right;\n",
              "    }\n",
              "</style>\n",
              "<table border=\"1\" class=\"dataframe\">\n",
              "  <thead>\n",
              "    <tr style=\"text-align: right;\">\n",
              "      <th></th>\n",
              "      <th>%</th>\n",
              "    </tr>\n",
              "    <tr>\n",
              "      <th>Type_Income</th>\n",
              "      <th></th>\n",
              "    </tr>\n",
              "  </thead>\n",
              "  <tbody>\n",
              "    <tr>\n",
              "      <th>Cao</th>\n",
              "      <td>14.0</td>\n",
              "    </tr>\n",
              "    <tr>\n",
              "      <th>Rất cao</th>\n",
              "      <td>12.0</td>\n",
              "    </tr>\n",
              "    <tr>\n",
              "      <th>Thấp</th>\n",
              "      <td>22.0</td>\n",
              "    </tr>\n",
              "    <tr>\n",
              "      <th>Trung bình</th>\n",
              "      <td>52.0</td>\n",
              "    </tr>\n",
              "  </tbody>\n",
              "</table>\n",
              "</div>"
            ],
            "text/plain": [
              "                %\n",
              "Type_Income      \n",
              "Cao          14.0\n",
              "Rất cao      12.0\n",
              "Thấp         22.0\n",
              "Trung bình   52.0"
            ]
          },
          "metadata": {
            "tags": []
          },
          "execution_count": 303
        }
      ]
    },
    {
      "cell_type": "code",
      "metadata": {
        "id": "FnFp-1-TShG-",
        "colab": {
          "base_uri": "https://localhost:8080/",
          "height": 265
        },
        "outputId": "444c0cba-e0fb-4c63-a1cd-5a58f9df8afb"
      },
      "source": [
        "type_2['%'].plot(x=\"Type_Income\",\n",
        "                 y=\"%\",\n",
        "                 kind=\"barh\")\n",
        "plt.show()"
      ],
      "execution_count": null,
      "outputs": [
        {
          "output_type": "display_data",
          "data": {
            "image/png": "[encoded data removed]",
            "text/plain": [
              "<Figure size 432x288 with 1 Axes>"
            ]
          },
          "metadata": {
            "tags": [],
            "needs_background": "light"
          }
        }
      ]
    },
    {
      "cell_type": "markdown",
      "metadata": {
        "id": "CTX5iIeHVTkf"
      },
      "source": [
        "#thống kê phần trăm chi tiêu ở các mức rất cao, cao, trung bình, thấp"
      ]
    },
    {
      "cell_type": "code",
      "metadata": {
        "colab": {
          "base_uri": "https://localhost:8080/",
          "height": 491
        },
        "id": "Pke6r22IVV7o",
        "outputId": "e1e86122-3f74-4966-ef07-497ef526ad65"
      },
      "source": [
        "type_expense = []\n",
        "\n",
        "for x in df['Mthly_HH_Expense']:\n",
        "    if x <= 8000:\n",
        "        type_expense.append('Thấp')\n",
        "    elif x <= 20000:\n",
        "        type_expense.append('Trung bình')\n",
        "    elif x <= 40000:\n",
        "        type_expense.append('Cao')\n",
        "    else:\n",
        "        type_expense.append('Rất cao')\n",
        "df.insert(8, \"Type_Expense\", type_expense)\n",
        "df.head(15)"
      ],
      "execution_count": null,
      "outputs": [
        {
          "output_type": "execute_result",
          "data": {
            "text/html": [
              "<div>\n",
              "<style scoped>\n",
              "    .dataframe tbody tr th:only-of-type {\n",
              "        vertical-align: middle;\n",
              "    }\n",
              "\n",
              "    .dataframe tbody tr th {\n",
              "        vertical-align: top;\n",
              "    }\n",
              "\n",
              "    .dataframe thead th {\n",
              "        text-align: right;\n",
              "    }\n",
              "</style>\n",
              "<table border=\"1\" class=\"dataframe\">\n",
              "  <thead>\n",
              "    <tr style=\"text-align: right;\">\n",
              "      <th></th>\n",
              "      <th>Mthly_HH_Income</th>\n",
              "      <th>Mthly_HH_Expense</th>\n",
              "      <th>No_of_Fly_Members</th>\n",
              "      <th>Emi_or_Rent_Amt</th>\n",
              "      <th>Annual_HH_Income</th>\n",
              "      <th>Highest_Qualified_Member</th>\n",
              "      <th>No_of_Earning_Members</th>\n",
              "      <th>Type_Income</th>\n",
              "      <th>Type_Expense</th>\n",
              "    </tr>\n",
              "  </thead>\n",
              "  <tbody>\n",
              "    <tr>\n",
              "      <th>0</th>\n",
              "      <td>5000</td>\n",
              "      <td>8000</td>\n",
              "      <td>3</td>\n",
              "      <td>2000</td>\n",
              "      <td>64200</td>\n",
              "      <td>Under-Graduate</td>\n",
              "      <td>1</td>\n",
              "      <td>Thấp</td>\n",
              "      <td>Thấp</td>\n",
              "    </tr>\n",
              "    <tr>\n",
              "      <th>1</th>\n",
              "      <td>6000</td>\n",
              "      <td>7000</td>\n",
              "      <td>2</td>\n",
              "      <td>3000</td>\n",
              "      <td>79920</td>\n",
              "      <td>Illiterate</td>\n",
              "      <td>1</td>\n",
              "      <td>Thấp</td>\n",
              "      <td>Thấp</td>\n",
              "    </tr>\n",
              "    <tr>\n",
              "      <th>2</th>\n",
              "      <td>10000</td>\n",
              "      <td>4500</td>\n",
              "      <td>2</td>\n",
              "      <td>0</td>\n",
              "      <td>112800</td>\n",
              "      <td>Under-Graduate</td>\n",
              "      <td>1</td>\n",
              "      <td>Thấp</td>\n",
              "      <td>Thấp</td>\n",
              "    </tr>\n",
              "    <tr>\n",
              "      <th>3</th>\n",
              "      <td>10000</td>\n",
              "      <td>2000</td>\n",
              "      <td>1</td>\n",
              "      <td>0</td>\n",
              "      <td>97200</td>\n",
              "      <td>Illiterate</td>\n",
              "      <td>1</td>\n",
              "      <td>Thấp</td>\n",
              "      <td>Thấp</td>\n",
              "    </tr>\n",
              "    <tr>\n",
              "      <th>4</th>\n",
              "      <td>12500</td>\n",
              "      <td>12000</td>\n",
              "      <td>2</td>\n",
              "      <td>3000</td>\n",
              "      <td>147000</td>\n",
              "      <td>Graduate</td>\n",
              "      <td>1</td>\n",
              "      <td>Thấp</td>\n",
              "      <td>Trung bình</td>\n",
              "    </tr>\n",
              "    <tr>\n",
              "      <th>5</th>\n",
              "      <td>14000</td>\n",
              "      <td>8000</td>\n",
              "      <td>2</td>\n",
              "      <td>0</td>\n",
              "      <td>196560</td>\n",
              "      <td>Graduate</td>\n",
              "      <td>1</td>\n",
              "      <td>Thấp</td>\n",
              "      <td>Thấp</td>\n",
              "    </tr>\n",
              "    <tr>\n",
              "      <th>6</th>\n",
              "      <td>15000</td>\n",
              "      <td>16000</td>\n",
              "      <td>3</td>\n",
              "      <td>35000</td>\n",
              "      <td>167400</td>\n",
              "      <td>Post-Graduate</td>\n",
              "      <td>1</td>\n",
              "      <td>Thấp</td>\n",
              "      <td>Trung bình</td>\n",
              "    </tr>\n",
              "    <tr>\n",
              "      <th>7</th>\n",
              "      <td>18000</td>\n",
              "      <td>20000</td>\n",
              "      <td>5</td>\n",
              "      <td>8000</td>\n",
              "      <td>216000</td>\n",
              "      <td>Graduate</td>\n",
              "      <td>1</td>\n",
              "      <td>Thấp</td>\n",
              "      <td>Trung bình</td>\n",
              "    </tr>\n",
              "    <tr>\n",
              "      <th>8</th>\n",
              "      <td>19000</td>\n",
              "      <td>9000</td>\n",
              "      <td>2</td>\n",
              "      <td>0</td>\n",
              "      <td>218880</td>\n",
              "      <td>Under-Graduate</td>\n",
              "      <td>1</td>\n",
              "      <td>Thấp</td>\n",
              "      <td>Trung bình</td>\n",
              "    </tr>\n",
              "    <tr>\n",
              "      <th>9</th>\n",
              "      <td>20000</td>\n",
              "      <td>9000</td>\n",
              "      <td>4</td>\n",
              "      <td>0</td>\n",
              "      <td>220800</td>\n",
              "      <td>Under-Graduate</td>\n",
              "      <td>2</td>\n",
              "      <td>Thấp</td>\n",
              "      <td>Trung bình</td>\n",
              "    </tr>\n",
              "    <tr>\n",
              "      <th>10</th>\n",
              "      <td>20000</td>\n",
              "      <td>18000</td>\n",
              "      <td>4</td>\n",
              "      <td>8000</td>\n",
              "      <td>278400</td>\n",
              "      <td>Under-Graduate</td>\n",
              "      <td>2</td>\n",
              "      <td>Thấp</td>\n",
              "      <td>Trung bình</td>\n",
              "    </tr>\n",
              "    <tr>\n",
              "      <th>11</th>\n",
              "      <td>22000</td>\n",
              "      <td>25000</td>\n",
              "      <td>6</td>\n",
              "      <td>12000</td>\n",
              "      <td>279840</td>\n",
              "      <td>Illiterate</td>\n",
              "      <td>1</td>\n",
              "      <td>Trung bình</td>\n",
              "      <td>Cao</td>\n",
              "    </tr>\n",
              "    <tr>\n",
              "      <th>12</th>\n",
              "      <td>23400</td>\n",
              "      <td>5000</td>\n",
              "      <td>3</td>\n",
              "      <td>0</td>\n",
              "      <td>292032</td>\n",
              "      <td>Illiterate</td>\n",
              "      <td>1</td>\n",
              "      <td>Trung bình</td>\n",
              "      <td>Thấp</td>\n",
              "    </tr>\n",
              "    <tr>\n",
              "      <th>13</th>\n",
              "      <td>24000</td>\n",
              "      <td>10500</td>\n",
              "      <td>6</td>\n",
              "      <td>0</td>\n",
              "      <td>316800</td>\n",
              "      <td>Graduate</td>\n",
              "      <td>2</td>\n",
              "      <td>Trung bình</td>\n",
              "      <td>Trung bình</td>\n",
              "    </tr>\n",
              "    <tr>\n",
              "      <th>14</th>\n",
              "      <td>24000</td>\n",
              "      <td>10000</td>\n",
              "      <td>4</td>\n",
              "      <td>0</td>\n",
              "      <td>244800</td>\n",
              "      <td>Graduate</td>\n",
              "      <td>2</td>\n",
              "      <td>Trung bình</td>\n",
              "      <td>Trung bình</td>\n",
              "    </tr>\n",
              "  </tbody>\n",
              "</table>\n",
              "</div>"
            ],
            "text/plain": [
              "    Mthly_HH_Income  Mthly_HH_Expense  ...  Type_Income  Type_Expense\n",
              "0              5000              8000  ...         Thấp          Thấp\n",
              "1              6000              7000  ...         Thấp          Thấp\n",
              "2             10000              4500  ...         Thấp          Thấp\n",
              "3             10000              2000  ...         Thấp          Thấp\n",
              "4             12500             12000  ...         Thấp    Trung bình\n",
              "5             14000              8000  ...         Thấp          Thấp\n",
              "6             15000             16000  ...         Thấp    Trung bình\n",
              "7             18000             20000  ...         Thấp    Trung bình\n",
              "8             19000              9000  ...         Thấp    Trung bình\n",
              "9             20000              9000  ...         Thấp    Trung bình\n",
              "10            20000             18000  ...         Thấp    Trung bình\n",
              "11            22000             25000  ...   Trung bình           Cao\n",
              "12            23400              5000  ...   Trung bình          Thấp\n",
              "13            24000             10500  ...   Trung bình    Trung bình\n",
              "14            24000             10000  ...   Trung bình    Trung bình\n",
              "\n",
              "[15 rows x 9 columns]"
            ]
          },
          "metadata": {
            "tags": []
          },
          "execution_count": 305
        }
      ]
    },
    {
      "cell_type": "code",
      "metadata": {
        "colab": {
          "base_uri": "https://localhost:8080/",
          "height": 195
        },
        "id": "DAxgn0l5XS-R",
        "outputId": "886db70d-914b-42e3-a12d-9b4b99c489d7"
      },
      "source": [
        "te = df.groupby('Type_Expense')['Type_Expense'].count()\n",
        "te = pd.DataFrame(te)\n",
        "te.columns = ['%']\n",
        "phantram2 = (te/sum(te['%']))*100\n",
        "phantram2"
      ],
      "execution_count": null,
      "outputs": [
        {
          "output_type": "execute_result",
          "data": {
            "text/html": [
              "<div>\n",
              "<style scoped>\n",
              "    .dataframe tbody tr th:only-of-type {\n",
              "        vertical-align: middle;\n",
              "    }\n",
              "\n",
              "    .dataframe tbody tr th {\n",
              "        vertical-align: top;\n",
              "    }\n",
              "\n",
              "    .dataframe thead th {\n",
              "        text-align: right;\n",
              "    }\n",
              "</style>\n",
              "<table border=\"1\" class=\"dataframe\">\n",
              "  <thead>\n",
              "    <tr style=\"text-align: right;\">\n",
              "      <th></th>\n",
              "      <th>%</th>\n",
              "    </tr>\n",
              "    <tr>\n",
              "      <th>Type_Expense</th>\n",
              "      <th></th>\n",
              "    </tr>\n",
              "  </thead>\n",
              "  <tbody>\n",
              "    <tr>\n",
              "      <th>Cao</th>\n",
              "      <td>24.0</td>\n",
              "    </tr>\n",
              "    <tr>\n",
              "      <th>Rất cao</th>\n",
              "      <td>8.0</td>\n",
              "    </tr>\n",
              "    <tr>\n",
              "      <th>Thấp</th>\n",
              "      <td>16.0</td>\n",
              "    </tr>\n",
              "    <tr>\n",
              "      <th>Trung bình</th>\n",
              "      <td>52.0</td>\n",
              "    </tr>\n",
              "  </tbody>\n",
              "</table>\n",
              "</div>"
            ],
            "text/plain": [
              "                 %\n",
              "Type_Expense      \n",
              "Cao           24.0\n",
              "Rất cao        8.0\n",
              "Thấp          16.0\n",
              "Trung bình    52.0"
            ]
          },
          "metadata": {
            "tags": []
          },
          "execution_count": 306
        }
      ]
    },
    {
      "cell_type": "code",
      "metadata": {
        "colab": {
          "base_uri": "https://localhost:8080/",
          "height": 321
        },
        "id": "X0hDwE5CXg8q",
        "outputId": "305ab25d-1f5a-4af5-e5e5-fcc233905019"
      },
      "source": [
        "phantram2.reset_index(inplace=True)\n",
        "sns.barplot(y='Type_Expense',\n",
        "            x='%',\n",
        "            data = phantram2 )\n",
        "plt.title('Percent_type_expense',\n",
        "          color = 'black',\n",
        "          y = 1.1,\n",
        "          fontsize = 18)\n",
        "plt.show()"
      ],
      "execution_count": null,
      "outputs": [
        {
          "output_type": "display_data",
          "data": {
            "image/png": "[encoded data removed]",
            "text/plain": [
              "<Figure size 432x288 with 1 Axes>"
            ]
          },
          "metadata": {
            "tags": [],
            "needs_background": "light"
          }
        }
      ]
    },
    {
      "cell_type": "markdown",
      "metadata": {
        "id": "8O_oDk-QXn_f"
      },
      "source": [
        "#Bảng thống kê chi phí nộp thêm hằng năm\n"
      ]
    },
    {
      "cell_type": "code",
      "metadata": {
        "colab": {
          "base_uri": "https://localhost:8080/",
          "height": 462
        },
        "id": "fkLVqPf7Xo1Q",
        "outputId": "eb7fb439-8dde-4ea2-a16f-44324ffaab91"
      },
      "source": [
        "chi_nam = df.groupby('Emi_or_Rent_Amt')['Emi_or_Rent_Amt'].count()\n",
        "chi_nam = pd.DataFrame(EoRA)\n",
        "chi_nam.columns = ['%']\n",
        "phantram_nam = chi_nam/sum(chi_nam['%'])*100\n",
        "phantram_nam"
      ],
      "execution_count": null,
      "outputs": [
        {
          "output_type": "execute_result",
          "data": {
            "text/html": [
              "<div>\n",
              "<style scoped>\n",
              "    .dataframe tbody tr th:only-of-type {\n",
              "        vertical-align: middle;\n",
              "    }\n",
              "\n",
              "    .dataframe tbody tr th {\n",
              "        vertical-align: top;\n",
              "    }\n",
              "\n",
              "    .dataframe thead th {\n",
              "        text-align: right;\n",
              "    }\n",
              "</style>\n",
              "<table border=\"1\" class=\"dataframe\">\n",
              "  <thead>\n",
              "    <tr style=\"text-align: right;\">\n",
              "      <th></th>\n",
              "      <th>%</th>\n",
              "    </tr>\n",
              "    <tr>\n",
              "      <th>Emi_or_Rent_Amt</th>\n",
              "      <th></th>\n",
              "    </tr>\n",
              "  </thead>\n",
              "  <tbody>\n",
              "    <tr>\n",
              "      <th>0</th>\n",
              "      <td>60.0</td>\n",
              "    </tr>\n",
              "    <tr>\n",
              "      <th>1000</th>\n",
              "      <td>2.0</td>\n",
              "    </tr>\n",
              "    <tr>\n",
              "      <th>2000</th>\n",
              "      <td>4.0</td>\n",
              "    </tr>\n",
              "    <tr>\n",
              "      <th>2500</th>\n",
              "      <td>2.0</td>\n",
              "    </tr>\n",
              "    <tr>\n",
              "      <th>3000</th>\n",
              "      <td>4.0</td>\n",
              "    </tr>\n",
              "    <tr>\n",
              "      <th>3500</th>\n",
              "      <td>6.0</td>\n",
              "    </tr>\n",
              "    <tr>\n",
              "      <th>4000</th>\n",
              "      <td>2.0</td>\n",
              "    </tr>\n",
              "    <tr>\n",
              "      <th>5000</th>\n",
              "      <td>4.0</td>\n",
              "    </tr>\n",
              "    <tr>\n",
              "      <th>8000</th>\n",
              "      <td>4.0</td>\n",
              "    </tr>\n",
              "    <tr>\n",
              "      <th>10000</th>\n",
              "      <td>4.0</td>\n",
              "    </tr>\n",
              "    <tr>\n",
              "      <th>12000</th>\n",
              "      <td>4.0</td>\n",
              "    </tr>\n",
              "    <tr>\n",
              "      <th>20000</th>\n",
              "      <td>2.0</td>\n",
              "    </tr>\n",
              "    <tr>\n",
              "      <th>35000</th>\n",
              "      <td>2.0</td>\n",
              "    </tr>\n",
              "  </tbody>\n",
              "</table>\n",
              "</div>"
            ],
            "text/plain": [
              "                    %\n",
              "Emi_or_Rent_Amt      \n",
              "0                60.0\n",
              "1000              2.0\n",
              "2000              4.0\n",
              "2500              2.0\n",
              "3000              4.0\n",
              "3500              6.0\n",
              "4000              2.0\n",
              "5000              4.0\n",
              "8000              4.0\n",
              "10000             4.0\n",
              "12000             4.0\n",
              "20000             2.0\n",
              "35000             2.0"
            ]
          },
          "metadata": {
            "tags": []
          },
          "execution_count": 308
        }
      ]
    },
    {
      "cell_type": "code",
      "metadata": {
        "colab": {
          "base_uri": "https://localhost:8080/",
          "height": 282
        },
        "id": "-i7Kk2poXuWv",
        "outputId": "0c1567ee-d831-43d6-8359-66394d69d5dd"
      },
      "source": [
        "phantram_nam['%'].plot(x=\"Emi_or_Rent_Amt\",\n",
        "                       y=\"%\",kind=\"barh\",\n",
        "                       color='red')\n"
      ],
      "execution_count": null,
      "outputs": [
        {
          "output_type": "execute_result",
          "data": {
            "text/plain": [
              "<matplotlib.axes._subplots.AxesSubplot at 0x7f620c8fca10>"
            ]
          },
          "metadata": {
            "tags": []
          },
          "execution_count": 309
        },
        {
          "output_type": "display_data",
          "data": {
            "image/png": "[encoded data removed]",
            "text/plain": [
              "<Figure size 432x288 with 1 Axes>"
            ]
          },
          "metadata": {
            "tags": [],
            "needs_background": "light"
          }
        }
      ]
    }
  ]
}