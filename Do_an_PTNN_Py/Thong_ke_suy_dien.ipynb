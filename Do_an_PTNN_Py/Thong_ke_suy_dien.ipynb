{
  "nbformat": 4,
  "nbformat_minor": 0,
  "metadata": {
    "colab": {
      "name": "Thong_ke_suy_dien.ipynb",
      "provenance": [],
      "collapsed_sections": [],
      "authorship_tag": "ABX9TyPhqdI2qSY1uVpoZtL/SOys",
      "include_colab_link": true
    },
    "kernelspec": {
      "name": "python3",
      "display_name": "Python 3"
    },
    "language_info": {
      "name": "python"
    }
  },
  "cells": [
    {
      "cell_type": "markdown",
      "metadata": {
        "id": "view-in-github",
        "colab_type": "text"
      },
      "source": [
        "<a href=\"https://colab.research.google.com/github/tandat-1305/Data-Analysis-with-Python/blob/main/Do_an_PTNN_Py/Thong_ke_suy_dien.ipynb\" target=\"_parent\"><img src=\"https://colab.research.google.com/assets/colab-badge.svg\" alt=\"Open In Colab\"/></a>"
      ]
    },
    {
      "cell_type": "code",
      "metadata": {
        "id": "BYYREpEfkmzk"
      },
      "source": [
        "#Import Thư viện\n",
        "import matplotlib.pyplot as plt\n",
        "import statsmodels.api as sm\n",
        "import numpy as np\n",
        "import pandas as pd\n",
        "import statistics as sta\n",
        "import math\n",
        "from scipy.stats import ttest_1samp\n",
        "import seaborn as sns\n",
        "from scipy import stats\n",
        "from statsmodels.formula.api import ols\n",
        "from scipy.stats import shapiro\n",
        "import pylab"
      ],
      "execution_count": 607,
      "outputs": []
    },
    {
      "cell_type": "code",
      "metadata": {
        "id": "jtu8HknKktzN"
      },
      "source": [
        "# 1 chiều\n",
        "def anova(a, b, c):\n",
        "    df = (a, b, c)\n",
        "    print(\"Kiểm định ANOVA:\")\n",
        "    stat, pvalue = stats.f_oneway(a, b, c)\n",
        "    print(\"Stat =\", stat, \"\\n\", \"p value =\", pvalue)\n",
        "    if pvalue < 0.05:\n",
        "        print(\"Có bằng chứng thống kê để bác bỏ giả thuyết H0\")\n",
        "    else:\n",
        "        print(\"Chưa có bằng chứng thống kê để bác bỏ giả thuyết H0\")\n",
        "    print(\"-\"*50)\n",
        "\n",
        "def Kolmogorov(data):\n",
        "    print(\"Kiểm định Kolmogorov -\", data.name)\n",
        "    k, p = stats.kstest(rvs=data, cdf='norm', args=(np.mean(data), np.std(data)))\n",
        "    if p > 0.05:\n",
        "        print('''Chưa có bằng chứng thống kê để bác bỏ giả thuyết H0.\n",
        "        Điều này chứng minh rằng các mẫu hiện tại tuân theo luật phân phối chuẩn''')\n",
        "    else:\n",
        "        print('''Có bằng chứng thống kê để bác bỏ giả thuyết H0.\n",
        "        Điều này chứng minh rằng các mẫu hiện tại không tuân theo luật phân phối chuẩn''')\n",
        "    print(\"-\"*50)\n",
        "\n",
        "def bartlett(a, b, c): \n",
        "    print(\"Kiểm định Bartlett:\")\n",
        "    stat, pvalue = stats.bartlett(a, b, c)\n",
        "    print(\"Statistic =\", stat, \"\\n\",\n",
        "          \"p value =\", pvalue)\n",
        "    if pvalue > 0.05:\n",
        "        print('''Chưa có bằng chứng thống kê để bác bỏ giả thuyết H0. \n",
        "        Điều này chứng minh các mẫu hiện tại mang tính đồng nhất về phương sai''')\n",
        "    else:\n",
        "        print('''Có bằng chứng thống kê để bác bỏ giả thuyết H0. \n",
        "         Điều này chứng minh mẫu hiện tại không đồng nhất về phương sai''')\n",
        "    print(\"-\"*50)\n",
        "\n",
        "def bartlett1(a, b): \n",
        "    print(\"Kiểm định Bartlett:\")\n",
        "    stat, pvalue = stats.bartlett(a, b)\n",
        "    print(\"Statistic =\", stat, \"\\n\",\n",
        "          \"p value =\", pvalue)\n",
        "    if pvalue > 0.05:\n",
        "        print('''Chưa có bằng chứng thống kê để bác bỏ giả thuyết H0. \n",
        "        Điều này chứng minh các mẫu hiện tại mang tính đồng nhất về phương sai''')\n",
        "    else:\n",
        "        print('''Có bằng chứng thống kê để bác bỏ giả thuyết H0. \n",
        "         Điều này chứng minh mẫu hiện tại không đồng nhất về phương sai''')\n",
        "    print(\"-\"*50)\n",
        "\n",
        "def results(p, vals=['mean1', 'mean2'], alpha=0.05):\n",
        "    cols=['score', 'p_value', 'KetLuan']\n",
        "    if p['p_value'] < alpha:\n",
        "        p['KetLuan'] = f\"Chấp nhận H1 với mức ý nghĩa {alpha}\"\n",
        "    if p['p_value'] >= alpha:\n",
        "        p['KetLuan'] = f\"Chấp nhận H0 với mức ý nghĩa {alpha}\"\n",
        "    df = pd.DataFrame(p, index=[''])\n",
        "    if vals: cols = vals + cols\n",
        "    return df[cols]\n",
        "    print(\"-\"*50)\n",
        "\n",
        "def hist_plot(data):\n",
        "    mean = np.mean(data)\n",
        "    std = np.std(data, ddof=1)\n",
        "    domain = np.linspace(np.min(data), np.max(data))\n",
        "    plt.plot(domain, stats.norm.pdf(domain, mean, std),color='red')\n",
        "    plt.hist(data, edgecolor='red', density=True,color='blue')\n",
        "    plt.show()\n",
        "    print(\"-\"*50)\n",
        "\n",
        "def mms(data):\n",
        "    Min = data.min()\n",
        "    Max = data.max()\n",
        "    print(\"min =\", Min)\n",
        "    print(\"max =\", Max)\n",
        "    print(\"max - min =\", Max - Min)\n",
        "    data.std()\n",
        "    print(\"-\"*50)\n",
        "\n",
        "def qqplot(data):\n",
        "    def standadize(data):\n",
        "        mean = np.mean(data)\n",
        "        std = np.std(data)\n",
        "        return (data - mean)/std\n",
        "    sm.qqplot(standadize(data), line ='45')\n",
        "    plt.show()"
      ],
      "execution_count": 608,
      "outputs": []
    },
    {
      "cell_type": "code",
      "metadata": {
        "id": "u28eZqnDryUY"
      },
      "source": [
        "df = pd.read_csv('https://raw.githubusercontent.com/tandat-1305/Data-Analysis-with-Python/main/Do_an_PTNN_Py/Diet_R.csv')"
      ],
      "execution_count": 609,
      "outputs": []
    },
    {
      "cell_type": "code",
      "metadata": {
        "colab": {
          "base_uri": "https://localhost:8080/",
          "height": 343
        },
        "id": "4fG-x4SQsNr_",
        "outputId": "b3315fcc-58a4-45e8-a740-12e020ff9ab9"
      },
      "source": [
        "df.head(10)"
      ],
      "execution_count": 610,
      "outputs": [
        {
          "output_type": "execute_result",
          "data": {
            "text/html": [
              "<div>\n",
              "<style scoped>\n",
              "    .dataframe tbody tr th:only-of-type {\n",
              "        vertical-align: middle;\n",
              "    }\n",
              "\n",
              "    .dataframe tbody tr th {\n",
              "        vertical-align: top;\n",
              "    }\n",
              "\n",
              "    .dataframe thead th {\n",
              "        text-align: right;\n",
              "    }\n",
              "</style>\n",
              "<table border=\"1\" class=\"dataframe\">\n",
              "  <thead>\n",
              "    <tr style=\"text-align: right;\">\n",
              "      <th></th>\n",
              "      <th>Person</th>\n",
              "      <th>gender</th>\n",
              "      <th>Age</th>\n",
              "      <th>Height</th>\n",
              "      <th>pre.weight</th>\n",
              "      <th>Diet</th>\n",
              "      <th>weight6weeks</th>\n",
              "    </tr>\n",
              "  </thead>\n",
              "  <tbody>\n",
              "    <tr>\n",
              "      <th>0</th>\n",
              "      <td>25</td>\n",
              "      <td></td>\n",
              "      <td>41</td>\n",
              "      <td>171</td>\n",
              "      <td>60</td>\n",
              "      <td>2</td>\n",
              "      <td>60.0</td>\n",
              "    </tr>\n",
              "    <tr>\n",
              "      <th>1</th>\n",
              "      <td>26</td>\n",
              "      <td></td>\n",
              "      <td>32</td>\n",
              "      <td>174</td>\n",
              "      <td>103</td>\n",
              "      <td>2</td>\n",
              "      <td>103.0</td>\n",
              "    </tr>\n",
              "    <tr>\n",
              "      <th>2</th>\n",
              "      <td>1</td>\n",
              "      <td>0</td>\n",
              "      <td>22</td>\n",
              "      <td>159</td>\n",
              "      <td>58</td>\n",
              "      <td>1</td>\n",
              "      <td>54.2</td>\n",
              "    </tr>\n",
              "    <tr>\n",
              "      <th>3</th>\n",
              "      <td>2</td>\n",
              "      <td>0</td>\n",
              "      <td>46</td>\n",
              "      <td>192</td>\n",
              "      <td>60</td>\n",
              "      <td>1</td>\n",
              "      <td>54.0</td>\n",
              "    </tr>\n",
              "    <tr>\n",
              "      <th>4</th>\n",
              "      <td>3</td>\n",
              "      <td>0</td>\n",
              "      <td>55</td>\n",
              "      <td>170</td>\n",
              "      <td>64</td>\n",
              "      <td>1</td>\n",
              "      <td>63.3</td>\n",
              "    </tr>\n",
              "    <tr>\n",
              "      <th>5</th>\n",
              "      <td>4</td>\n",
              "      <td>0</td>\n",
              "      <td>33</td>\n",
              "      <td>171</td>\n",
              "      <td>64</td>\n",
              "      <td>1</td>\n",
              "      <td>61.1</td>\n",
              "    </tr>\n",
              "    <tr>\n",
              "      <th>6</th>\n",
              "      <td>5</td>\n",
              "      <td>0</td>\n",
              "      <td>50</td>\n",
              "      <td>170</td>\n",
              "      <td>65</td>\n",
              "      <td>1</td>\n",
              "      <td>62.2</td>\n",
              "    </tr>\n",
              "    <tr>\n",
              "      <th>7</th>\n",
              "      <td>6</td>\n",
              "      <td>0</td>\n",
              "      <td>50</td>\n",
              "      <td>201</td>\n",
              "      <td>66</td>\n",
              "      <td>1</td>\n",
              "      <td>64.0</td>\n",
              "    </tr>\n",
              "    <tr>\n",
              "      <th>8</th>\n",
              "      <td>7</td>\n",
              "      <td>0</td>\n",
              "      <td>37</td>\n",
              "      <td>174</td>\n",
              "      <td>67</td>\n",
              "      <td>1</td>\n",
              "      <td>65.0</td>\n",
              "    </tr>\n",
              "    <tr>\n",
              "      <th>9</th>\n",
              "      <td>8</td>\n",
              "      <td>0</td>\n",
              "      <td>28</td>\n",
              "      <td>176</td>\n",
              "      <td>69</td>\n",
              "      <td>1</td>\n",
              "      <td>60.5</td>\n",
              "    </tr>\n",
              "  </tbody>\n",
              "</table>\n",
              "</div>"
            ],
            "text/plain": [
              "   Person gender  Age  Height  pre.weight  Diet  weight6weeks\n",
              "0      25          41     171          60     2          60.0\n",
              "1      26          32     174         103     2         103.0\n",
              "2       1      0   22     159          58     1          54.2\n",
              "3       2      0   46     192          60     1          54.0\n",
              "4       3      0   55     170          64     1          63.3\n",
              "5       4      0   33     171          64     1          61.1\n",
              "6       5      0   50     170          65     1          62.2\n",
              "7       6      0   50     201          66     1          64.0\n",
              "8       7      0   37     174          67     1          65.0\n",
              "9       8      0   28     176          69     1          60.5"
            ]
          },
          "metadata": {
            "tags": []
          },
          "execution_count": 610
        }
      ]
    },
    {
      "cell_type": "markdown",
      "metadata": {
        "id": "UeYKjhqYVxTC"
      },
      "source": [
        "Person 25, 26 thiếu dữ liệu"
      ]
    },
    {
      "cell_type": "code",
      "metadata": {
        "colab": {
          "base_uri": "https://localhost:8080/",
          "height": 373
        },
        "id": "4wIuyulAV5ZL",
        "outputId": "32b1cded-3b85-4086-fb5f-6053191a34a6"
      },
      "source": [
        "i = df.set_index('Person')\n",
        "i.loc[[25, 26], 'gender'] = '1'\n",
        "df2 = i.sort_index()\n",
        "df2.head(10)"
      ],
      "execution_count": 611,
      "outputs": [
        {
          "output_type": "execute_result",
          "data": {
            "text/html": [
              "<div>\n",
              "<style scoped>\n",
              "    .dataframe tbody tr th:only-of-type {\n",
              "        vertical-align: middle;\n",
              "    }\n",
              "\n",
              "    .dataframe tbody tr th {\n",
              "        vertical-align: top;\n",
              "    }\n",
              "\n",
              "    .dataframe thead th {\n",
              "        text-align: right;\n",
              "    }\n",
              "</style>\n",
              "<table border=\"1\" class=\"dataframe\">\n",
              "  <thead>\n",
              "    <tr style=\"text-align: right;\">\n",
              "      <th></th>\n",
              "      <th>gender</th>\n",
              "      <th>Age</th>\n",
              "      <th>Height</th>\n",
              "      <th>pre.weight</th>\n",
              "      <th>Diet</th>\n",
              "      <th>weight6weeks</th>\n",
              "    </tr>\n",
              "    <tr>\n",
              "      <th>Person</th>\n",
              "      <th></th>\n",
              "      <th></th>\n",
              "      <th></th>\n",
              "      <th></th>\n",
              "      <th></th>\n",
              "      <th></th>\n",
              "    </tr>\n",
              "  </thead>\n",
              "  <tbody>\n",
              "    <tr>\n",
              "      <th>1</th>\n",
              "      <td>0</td>\n",
              "      <td>22</td>\n",
              "      <td>159</td>\n",
              "      <td>58</td>\n",
              "      <td>1</td>\n",
              "      <td>54.2</td>\n",
              "    </tr>\n",
              "    <tr>\n",
              "      <th>2</th>\n",
              "      <td>0</td>\n",
              "      <td>46</td>\n",
              "      <td>192</td>\n",
              "      <td>60</td>\n",
              "      <td>1</td>\n",
              "      <td>54.0</td>\n",
              "    </tr>\n",
              "    <tr>\n",
              "      <th>3</th>\n",
              "      <td>0</td>\n",
              "      <td>55</td>\n",
              "      <td>170</td>\n",
              "      <td>64</td>\n",
              "      <td>1</td>\n",
              "      <td>63.3</td>\n",
              "    </tr>\n",
              "    <tr>\n",
              "      <th>4</th>\n",
              "      <td>0</td>\n",
              "      <td>33</td>\n",
              "      <td>171</td>\n",
              "      <td>64</td>\n",
              "      <td>1</td>\n",
              "      <td>61.1</td>\n",
              "    </tr>\n",
              "    <tr>\n",
              "      <th>5</th>\n",
              "      <td>0</td>\n",
              "      <td>50</td>\n",
              "      <td>170</td>\n",
              "      <td>65</td>\n",
              "      <td>1</td>\n",
              "      <td>62.2</td>\n",
              "    </tr>\n",
              "    <tr>\n",
              "      <th>6</th>\n",
              "      <td>0</td>\n",
              "      <td>50</td>\n",
              "      <td>201</td>\n",
              "      <td>66</td>\n",
              "      <td>1</td>\n",
              "      <td>64.0</td>\n",
              "    </tr>\n",
              "    <tr>\n",
              "      <th>7</th>\n",
              "      <td>0</td>\n",
              "      <td>37</td>\n",
              "      <td>174</td>\n",
              "      <td>67</td>\n",
              "      <td>1</td>\n",
              "      <td>65.0</td>\n",
              "    </tr>\n",
              "    <tr>\n",
              "      <th>8</th>\n",
              "      <td>0</td>\n",
              "      <td>28</td>\n",
              "      <td>176</td>\n",
              "      <td>69</td>\n",
              "      <td>1</td>\n",
              "      <td>60.5</td>\n",
              "    </tr>\n",
              "    <tr>\n",
              "      <th>9</th>\n",
              "      <td>0</td>\n",
              "      <td>28</td>\n",
              "      <td>165</td>\n",
              "      <td>70</td>\n",
              "      <td>1</td>\n",
              "      <td>68.1</td>\n",
              "    </tr>\n",
              "    <tr>\n",
              "      <th>10</th>\n",
              "      <td>0</td>\n",
              "      <td>45</td>\n",
              "      <td>165</td>\n",
              "      <td>70</td>\n",
              "      <td>1</td>\n",
              "      <td>66.9</td>\n",
              "    </tr>\n",
              "  </tbody>\n",
              "</table>\n",
              "</div>"
            ],
            "text/plain": [
              "       gender  Age  Height  pre.weight  Diet  weight6weeks\n",
              "Person                                                    \n",
              "1           0   22     159          58     1          54.2\n",
              "2           0   46     192          60     1          54.0\n",
              "3           0   55     170          64     1          63.3\n",
              "4           0   33     171          64     1          61.1\n",
              "5           0   50     170          65     1          62.2\n",
              "6           0   50     201          66     1          64.0\n",
              "7           0   37     174          67     1          65.0\n",
              "8           0   28     176          69     1          60.5\n",
              "9           0   28     165          70     1          68.1\n",
              "10          0   45     165          70     1          66.9"
            ]
          },
          "metadata": {
            "tags": []
          },
          "execution_count": 611
        }
      ]
    },
    {
      "cell_type": "markdown",
      "metadata": {
        "id": "p2PP3uPNaJPq"
      },
      "source": [
        "Phát biểu giả thuyết\n",
        "\n",
        "$$H_{0}: \\mu_{0} = \\mu_{1}$$ \n",
        "Cân nặng trung bình của trước và sau khi giảm cân là bằng nhau\n",
        "$$H_{1}: \\mu_{0} <> \\mu_{1}$$ \n",
        "Cân nặng trung bình của trước và sau khi giảm cân là khác nhau\n"
      ]
    },
    {
      "cell_type": "code",
      "metadata": {
        "colab": {
          "base_uri": "https://localhost:8080/"
        },
        "id": "iA6M7b2aXSRj",
        "outputId": "faad7de6-2c1a-4140-c8d6-0b33ee2c6bf7"
      },
      "source": [
        "stat, p_value = stats.ttest_ind(df[\"pre.weight\"], df[\"weight6weeks\"])\n",
        "print('Stat =', stat, 'P_value =', p_value)\n",
        "if p_value < 0.05:\n",
        "    print('''Có bằng chứng thống kê để bác bỏ giả thuyết H0.\n",
        "Điều này ngụ ý rằng có sự thay đổi về cân nặng trước và sau khi giảm cân''')\n",
        "else:\n",
        "    print('''Chưa có bằng chứng thống kê để bác bỏ giả thuyết H0.\n",
        "Điều này ngụ ý rằng không có sự thay đổi về cân nặng trước và sau khi giảm cân''')"
      ],
      "execution_count": 612,
      "outputs": [
        {
          "output_type": "stream",
          "text": [
            "Stat = 2.720972750635475 P_value = 0.0072584136689251115\n",
            "Có bằng chứng thống kê để bác bỏ giả thuyết H0.\n",
            "Điều này ngụ ý rằng có sự thay đổi về cân nặng trước và sau khi giảm cân\n"
          ],
          "name": "stdout"
        }
      ]
    },
    {
      "cell_type": "markdown",
      "metadata": {
        "id": "6oz7mJpIau8J"
      },
      "source": [
        "**Kiểm tra cân nặng giảm chưa**"
      ]
    },
    {
      "cell_type": "code",
      "metadata": {
        "colab": {
          "base_uri": "https://localhost:8080/",
          "height": 431
        },
        "id": "sFqIt3fQYd7Z",
        "outputId": "14a690ef-2fc6-4e66-a3eb-597fa2f4befa"
      },
      "source": [
        "df2['losingweight'] = df2['pre.weight'] - df2['weight6weeks']\n",
        "df2.loc[:,'losingweight'] = df2['losingweight']\n",
        "df2"
      ],
      "execution_count": 613,
      "outputs": [
        {
          "output_type": "execute_result",
          "data": {
            "text/html": [
              "<div>\n",
              "<style scoped>\n",
              "    .dataframe tbody tr th:only-of-type {\n",
              "        vertical-align: middle;\n",
              "    }\n",
              "\n",
              "    .dataframe tbody tr th {\n",
              "        vertical-align: top;\n",
              "    }\n",
              "\n",
              "    .dataframe thead th {\n",
              "        text-align: right;\n",
              "    }\n",
              "</style>\n",
              "<table border=\"1\" class=\"dataframe\">\n",
              "  <thead>\n",
              "    <tr style=\"text-align: right;\">\n",
              "      <th></th>\n",
              "      <th>gender</th>\n",
              "      <th>Age</th>\n",
              "      <th>Height</th>\n",
              "      <th>pre.weight</th>\n",
              "      <th>Diet</th>\n",
              "      <th>weight6weeks</th>\n",
              "      <th>losingweight</th>\n",
              "    </tr>\n",
              "    <tr>\n",
              "      <th>Person</th>\n",
              "      <th></th>\n",
              "      <th></th>\n",
              "      <th></th>\n",
              "      <th></th>\n",
              "      <th></th>\n",
              "      <th></th>\n",
              "      <th></th>\n",
              "    </tr>\n",
              "  </thead>\n",
              "  <tbody>\n",
              "    <tr>\n",
              "      <th>1</th>\n",
              "      <td>0</td>\n",
              "      <td>22</td>\n",
              "      <td>159</td>\n",
              "      <td>58</td>\n",
              "      <td>1</td>\n",
              "      <td>54.2</td>\n",
              "      <td>3.8</td>\n",
              "    </tr>\n",
              "    <tr>\n",
              "      <th>2</th>\n",
              "      <td>0</td>\n",
              "      <td>46</td>\n",
              "      <td>192</td>\n",
              "      <td>60</td>\n",
              "      <td>1</td>\n",
              "      <td>54.0</td>\n",
              "      <td>6.0</td>\n",
              "    </tr>\n",
              "    <tr>\n",
              "      <th>3</th>\n",
              "      <td>0</td>\n",
              "      <td>55</td>\n",
              "      <td>170</td>\n",
              "      <td>64</td>\n",
              "      <td>1</td>\n",
              "      <td>63.3</td>\n",
              "      <td>0.7</td>\n",
              "    </tr>\n",
              "    <tr>\n",
              "      <th>4</th>\n",
              "      <td>0</td>\n",
              "      <td>33</td>\n",
              "      <td>171</td>\n",
              "      <td>64</td>\n",
              "      <td>1</td>\n",
              "      <td>61.1</td>\n",
              "      <td>2.9</td>\n",
              "    </tr>\n",
              "    <tr>\n",
              "      <th>5</th>\n",
              "      <td>0</td>\n",
              "      <td>50</td>\n",
              "      <td>170</td>\n",
              "      <td>65</td>\n",
              "      <td>1</td>\n",
              "      <td>62.2</td>\n",
              "      <td>2.8</td>\n",
              "    </tr>\n",
              "    <tr>\n",
              "      <th>...</th>\n",
              "      <td>...</td>\n",
              "      <td>...</td>\n",
              "      <td>...</td>\n",
              "      <td>...</td>\n",
              "      <td>...</td>\n",
              "      <td>...</td>\n",
              "      <td>...</td>\n",
              "    </tr>\n",
              "    <tr>\n",
              "      <th>74</th>\n",
              "      <td>1</td>\n",
              "      <td>35</td>\n",
              "      <td>183</td>\n",
              "      <td>83</td>\n",
              "      <td>3</td>\n",
              "      <td>80.2</td>\n",
              "      <td>2.8</td>\n",
              "    </tr>\n",
              "    <tr>\n",
              "      <th>75</th>\n",
              "      <td>1</td>\n",
              "      <td>49</td>\n",
              "      <td>177</td>\n",
              "      <td>84</td>\n",
              "      <td>3</td>\n",
              "      <td>79.9</td>\n",
              "      <td>4.1</td>\n",
              "    </tr>\n",
              "    <tr>\n",
              "      <th>76</th>\n",
              "      <td>1</td>\n",
              "      <td>28</td>\n",
              "      <td>164</td>\n",
              "      <td>85</td>\n",
              "      <td>3</td>\n",
              "      <td>79.7</td>\n",
              "      <td>5.3</td>\n",
              "    </tr>\n",
              "    <tr>\n",
              "      <th>77</th>\n",
              "      <td>1</td>\n",
              "      <td>40</td>\n",
              "      <td>167</td>\n",
              "      <td>87</td>\n",
              "      <td>3</td>\n",
              "      <td>77.8</td>\n",
              "      <td>9.2</td>\n",
              "    </tr>\n",
              "    <tr>\n",
              "      <th>78</th>\n",
              "      <td>1</td>\n",
              "      <td>51</td>\n",
              "      <td>175</td>\n",
              "      <td>88</td>\n",
              "      <td>3</td>\n",
              "      <td>81.9</td>\n",
              "      <td>6.1</td>\n",
              "    </tr>\n",
              "  </tbody>\n",
              "</table>\n",
              "<p>78 rows × 7 columns</p>\n",
              "</div>"
            ],
            "text/plain": [
              "       gender  Age  Height  pre.weight  Diet  weight6weeks  losingweight\n",
              "Person                                                                  \n",
              "1           0   22     159          58     1          54.2           3.8\n",
              "2           0   46     192          60     1          54.0           6.0\n",
              "3           0   55     170          64     1          63.3           0.7\n",
              "4           0   33     171          64     1          61.1           2.9\n",
              "5           0   50     170          65     1          62.2           2.8\n",
              "...       ...  ...     ...         ...   ...           ...           ...\n",
              "74          1   35     183          83     3          80.2           2.8\n",
              "75          1   49     177          84     3          79.9           4.1\n",
              "76          1   28     164          85     3          79.7           5.3\n",
              "77          1   40     167          87     3          77.8           9.2\n",
              "78          1   51     175          88     3          81.9           6.1\n",
              "\n",
              "[78 rows x 7 columns]"
            ]
          },
          "metadata": {
            "tags": []
          },
          "execution_count": 613
        }
      ]
    },
    {
      "cell_type": "markdown",
      "metadata": {
        "id": "DGo5NrjreBvB"
      },
      "source": [
        "Losingweight > 0 => Giảm cân thành công\n",
        "\n",
        "Losingweight < 0 => Giảm cân không thành công"
      ]
    },
    {
      "cell_type": "code",
      "metadata": {
        "colab": {
          "base_uri": "https://localhost:8080/",
          "height": 431
        },
        "id": "728a_Ga_a7jL",
        "outputId": "d0e1a92c-bdb1-4b3d-c2d9-9a1082d63472"
      },
      "source": [
        "losingweight_suc = df2[df2['losingweight'] > 0]\n",
        "losingweight_suc"
      ],
      "execution_count": 614,
      "outputs": [
        {
          "output_type": "execute_result",
          "data": {
            "text/html": [
              "<div>\n",
              "<style scoped>\n",
              "    .dataframe tbody tr th:only-of-type {\n",
              "        vertical-align: middle;\n",
              "    }\n",
              "\n",
              "    .dataframe tbody tr th {\n",
              "        vertical-align: top;\n",
              "    }\n",
              "\n",
              "    .dataframe thead th {\n",
              "        text-align: right;\n",
              "    }\n",
              "</style>\n",
              "<table border=\"1\" class=\"dataframe\">\n",
              "  <thead>\n",
              "    <tr style=\"text-align: right;\">\n",
              "      <th></th>\n",
              "      <th>gender</th>\n",
              "      <th>Age</th>\n",
              "      <th>Height</th>\n",
              "      <th>pre.weight</th>\n",
              "      <th>Diet</th>\n",
              "      <th>weight6weeks</th>\n",
              "      <th>losingweight</th>\n",
              "    </tr>\n",
              "    <tr>\n",
              "      <th>Person</th>\n",
              "      <th></th>\n",
              "      <th></th>\n",
              "      <th></th>\n",
              "      <th></th>\n",
              "      <th></th>\n",
              "      <th></th>\n",
              "      <th></th>\n",
              "    </tr>\n",
              "  </thead>\n",
              "  <tbody>\n",
              "    <tr>\n",
              "      <th>1</th>\n",
              "      <td>0</td>\n",
              "      <td>22</td>\n",
              "      <td>159</td>\n",
              "      <td>58</td>\n",
              "      <td>1</td>\n",
              "      <td>54.2</td>\n",
              "      <td>3.8</td>\n",
              "    </tr>\n",
              "    <tr>\n",
              "      <th>2</th>\n",
              "      <td>0</td>\n",
              "      <td>46</td>\n",
              "      <td>192</td>\n",
              "      <td>60</td>\n",
              "      <td>1</td>\n",
              "      <td>54.0</td>\n",
              "      <td>6.0</td>\n",
              "    </tr>\n",
              "    <tr>\n",
              "      <th>3</th>\n",
              "      <td>0</td>\n",
              "      <td>55</td>\n",
              "      <td>170</td>\n",
              "      <td>64</td>\n",
              "      <td>1</td>\n",
              "      <td>63.3</td>\n",
              "      <td>0.7</td>\n",
              "    </tr>\n",
              "    <tr>\n",
              "      <th>4</th>\n",
              "      <td>0</td>\n",
              "      <td>33</td>\n",
              "      <td>171</td>\n",
              "      <td>64</td>\n",
              "      <td>1</td>\n",
              "      <td>61.1</td>\n",
              "      <td>2.9</td>\n",
              "    </tr>\n",
              "    <tr>\n",
              "      <th>5</th>\n",
              "      <td>0</td>\n",
              "      <td>50</td>\n",
              "      <td>170</td>\n",
              "      <td>65</td>\n",
              "      <td>1</td>\n",
              "      <td>62.2</td>\n",
              "      <td>2.8</td>\n",
              "    </tr>\n",
              "    <tr>\n",
              "      <th>...</th>\n",
              "      <td>...</td>\n",
              "      <td>...</td>\n",
              "      <td>...</td>\n",
              "      <td>...</td>\n",
              "      <td>...</td>\n",
              "      <td>...</td>\n",
              "      <td>...</td>\n",
              "    </tr>\n",
              "    <tr>\n",
              "      <th>74</th>\n",
              "      <td>1</td>\n",
              "      <td>35</td>\n",
              "      <td>183</td>\n",
              "      <td>83</td>\n",
              "      <td>3</td>\n",
              "      <td>80.2</td>\n",
              "      <td>2.8</td>\n",
              "    </tr>\n",
              "    <tr>\n",
              "      <th>75</th>\n",
              "      <td>1</td>\n",
              "      <td>49</td>\n",
              "      <td>177</td>\n",
              "      <td>84</td>\n",
              "      <td>3</td>\n",
              "      <td>79.9</td>\n",
              "      <td>4.1</td>\n",
              "    </tr>\n",
              "    <tr>\n",
              "      <th>76</th>\n",
              "      <td>1</td>\n",
              "      <td>28</td>\n",
              "      <td>164</td>\n",
              "      <td>85</td>\n",
              "      <td>3</td>\n",
              "      <td>79.7</td>\n",
              "      <td>5.3</td>\n",
              "    </tr>\n",
              "    <tr>\n",
              "      <th>77</th>\n",
              "      <td>1</td>\n",
              "      <td>40</td>\n",
              "      <td>167</td>\n",
              "      <td>87</td>\n",
              "      <td>3</td>\n",
              "      <td>77.8</td>\n",
              "      <td>9.2</td>\n",
              "    </tr>\n",
              "    <tr>\n",
              "      <th>78</th>\n",
              "      <td>1</td>\n",
              "      <td>51</td>\n",
              "      <td>175</td>\n",
              "      <td>88</td>\n",
              "      <td>3</td>\n",
              "      <td>81.9</td>\n",
              "      <td>6.1</td>\n",
              "    </tr>\n",
              "  </tbody>\n",
              "</table>\n",
              "<p>72 rows × 7 columns</p>\n",
              "</div>"
            ],
            "text/plain": [
              "       gender  Age  Height  pre.weight  Diet  weight6weeks  losingweight\n",
              "Person                                                                  \n",
              "1           0   22     159          58     1          54.2           3.8\n",
              "2           0   46     192          60     1          54.0           6.0\n",
              "3           0   55     170          64     1          63.3           0.7\n",
              "4           0   33     171          64     1          61.1           2.9\n",
              "5           0   50     170          65     1          62.2           2.8\n",
              "...       ...  ...     ...         ...   ...           ...           ...\n",
              "74          1   35     183          83     3          80.2           2.8\n",
              "75          1   49     177          84     3          79.9           4.1\n",
              "76          1   28     164          85     3          79.7           5.3\n",
              "77          1   40     167          87     3          77.8           9.2\n",
              "78          1   51     175          88     3          81.9           6.1\n",
              "\n",
              "[72 rows x 7 columns]"
            ]
          },
          "metadata": {
            "tags": []
          },
          "execution_count": 614
        }
      ]
    },
    {
      "cell_type": "code",
      "metadata": {
        "colab": {
          "base_uri": "https://localhost:8080/",
          "height": 195
        },
        "id": "4r3YH02Jdg9k",
        "outputId": "1873e549-7fe5-4e85-e873-9b0229b85180"
      },
      "source": [
        "losingweight_fail = df2[df2['losingweight'] < 0]\n",
        "losingweight_fail"
      ],
      "execution_count": 615,
      "outputs": [
        {
          "output_type": "execute_result",
          "data": {
            "text/html": [
              "<div>\n",
              "<style scoped>\n",
              "    .dataframe tbody tr th:only-of-type {\n",
              "        vertical-align: middle;\n",
              "    }\n",
              "\n",
              "    .dataframe tbody tr th {\n",
              "        vertical-align: top;\n",
              "    }\n",
              "\n",
              "    .dataframe thead th {\n",
              "        text-align: right;\n",
              "    }\n",
              "</style>\n",
              "<table border=\"1\" class=\"dataframe\">\n",
              "  <thead>\n",
              "    <tr style=\"text-align: right;\">\n",
              "      <th></th>\n",
              "      <th>gender</th>\n",
              "      <th>Age</th>\n",
              "      <th>Height</th>\n",
              "      <th>pre.weight</th>\n",
              "      <th>Diet</th>\n",
              "      <th>weight6weeks</th>\n",
              "      <th>losingweight</th>\n",
              "    </tr>\n",
              "    <tr>\n",
              "      <th>Person</th>\n",
              "      <th></th>\n",
              "      <th></th>\n",
              "      <th></th>\n",
              "      <th></th>\n",
              "      <th></th>\n",
              "      <th></th>\n",
              "      <th></th>\n",
              "    </tr>\n",
              "  </thead>\n",
              "  <tbody>\n",
              "    <tr>\n",
              "      <th>15</th>\n",
              "      <td>1</td>\n",
              "      <td>39</td>\n",
              "      <td>168</td>\n",
              "      <td>71</td>\n",
              "      <td>1</td>\n",
              "      <td>71.6</td>\n",
              "      <td>-0.6</td>\n",
              "    </tr>\n",
              "    <tr>\n",
              "      <th>27</th>\n",
              "      <td>0</td>\n",
              "      <td>44</td>\n",
              "      <td>174</td>\n",
              "      <td>58</td>\n",
              "      <td>2</td>\n",
              "      <td>60.1</td>\n",
              "      <td>-2.1</td>\n",
              "    </tr>\n",
              "    <tr>\n",
              "      <th>40</th>\n",
              "      <td>0</td>\n",
              "      <td>29</td>\n",
              "      <td>169</td>\n",
              "      <td>77</td>\n",
              "      <td>2</td>\n",
              "      <td>77.5</td>\n",
              "      <td>-0.5</td>\n",
              "    </tr>\n",
              "    <tr>\n",
              "      <th>50</th>\n",
              "      <td>1</td>\n",
              "      <td>39</td>\n",
              "      <td>180</td>\n",
              "      <td>80</td>\n",
              "      <td>2</td>\n",
              "      <td>81.4</td>\n",
              "      <td>-1.4</td>\n",
              "    </tr>\n",
              "  </tbody>\n",
              "</table>\n",
              "</div>"
            ],
            "text/plain": [
              "       gender  Age  Height  pre.weight  Diet  weight6weeks  losingweight\n",
              "Person                                                                  \n",
              "15          1   39     168          71     1          71.6          -0.6\n",
              "27          0   44     174          58     2          60.1          -2.1\n",
              "40          0   29     169          77     2          77.5          -0.5\n",
              "50          1   39     180          80     2          81.4          -1.4"
            ]
          },
          "metadata": {
            "tags": []
          },
          "execution_count": 615
        }
      ]
    },
    {
      "cell_type": "markdown",
      "metadata": {
        "id": "RDNmVmvPdmII"
      },
      "source": [
        "Qua bảng trên ta thấy\n",
        "*   72/76 thành công giảm cân\n",
        "*   4/76 không thành công\n"
      ]
    },
    {
      "cell_type": "code",
      "metadata": {
        "colab": {
          "base_uri": "https://localhost:8080/",
          "height": 323
        },
        "id": "ButXQZnXdxqp",
        "outputId": "b3e8d2f4-68d8-40bb-87a2-743d4ba50842"
      },
      "source": [
        "df2[['pre.weight', 'weight6weeks']].plot(color= ['red', 'green'])\n",
        "plt.title('Cân nặng trước và sau khi giảm', fontsize=25)"
      ],
      "execution_count": 616,
      "outputs": [
        {
          "output_type": "execute_result",
          "data": {
            "text/plain": [
              "Text(0.5, 1.0, 'Cân nặng trước và sau khi giảm')"
            ]
          },
          "metadata": {
            "tags": []
          },
          "execution_count": 616
        },
        {
          "output_type": "display_data",
          "data": {
            "image/png": "[encoded data removed]",
            "text/plain": [
              "<Figure size 432x288 with 1 Axes>"
            ]
          },
          "metadata": {
            "tags": [],
            "needs_background": "light"
          }
        }
      ]
    },
    {
      "cell_type": "markdown",
      "metadata": {
        "id": "ZnZ2p2V2iCQc"
      },
      "source": [
        "# Chọn chế độ ăn kiêng nào là tốt nhất để giảm cân ?"
      ]
    },
    {
      "cell_type": "code",
      "metadata": {
        "colab": {
          "base_uri": "https://localhost:8080/",
          "height": 431
        },
        "id": "zxoptDnliNWz",
        "outputId": "c57b05cc-f0f4-4478-a467-27bba05495d1"
      },
      "source": [
        "df3 = df2[['Diet', 'losingweight']]\n",
        "df3"
      ],
      "execution_count": 617,
      "outputs": [
        {
          "output_type": "execute_result",
          "data": {
            "text/html": [
              "<div>\n",
              "<style scoped>\n",
              "    .dataframe tbody tr th:only-of-type {\n",
              "        vertical-align: middle;\n",
              "    }\n",
              "\n",
              "    .dataframe tbody tr th {\n",
              "        vertical-align: top;\n",
              "    }\n",
              "\n",
              "    .dataframe thead th {\n",
              "        text-align: right;\n",
              "    }\n",
              "</style>\n",
              "<table border=\"1\" class=\"dataframe\">\n",
              "  <thead>\n",
              "    <tr style=\"text-align: right;\">\n",
              "      <th></th>\n",
              "      <th>Diet</th>\n",
              "      <th>losingweight</th>\n",
              "    </tr>\n",
              "    <tr>\n",
              "      <th>Person</th>\n",
              "      <th></th>\n",
              "      <th></th>\n",
              "    </tr>\n",
              "  </thead>\n",
              "  <tbody>\n",
              "    <tr>\n",
              "      <th>1</th>\n",
              "      <td>1</td>\n",
              "      <td>3.8</td>\n",
              "    </tr>\n",
              "    <tr>\n",
              "      <th>2</th>\n",
              "      <td>1</td>\n",
              "      <td>6.0</td>\n",
              "    </tr>\n",
              "    <tr>\n",
              "      <th>3</th>\n",
              "      <td>1</td>\n",
              "      <td>0.7</td>\n",
              "    </tr>\n",
              "    <tr>\n",
              "      <th>4</th>\n",
              "      <td>1</td>\n",
              "      <td>2.9</td>\n",
              "    </tr>\n",
              "    <tr>\n",
              "      <th>5</th>\n",
              "      <td>1</td>\n",
              "      <td>2.8</td>\n",
              "    </tr>\n",
              "    <tr>\n",
              "      <th>...</th>\n",
              "      <td>...</td>\n",
              "      <td>...</td>\n",
              "    </tr>\n",
              "    <tr>\n",
              "      <th>74</th>\n",
              "      <td>3</td>\n",
              "      <td>2.8</td>\n",
              "    </tr>\n",
              "    <tr>\n",
              "      <th>75</th>\n",
              "      <td>3</td>\n",
              "      <td>4.1</td>\n",
              "    </tr>\n",
              "    <tr>\n",
              "      <th>76</th>\n",
              "      <td>3</td>\n",
              "      <td>5.3</td>\n",
              "    </tr>\n",
              "    <tr>\n",
              "      <th>77</th>\n",
              "      <td>3</td>\n",
              "      <td>9.2</td>\n",
              "    </tr>\n",
              "    <tr>\n",
              "      <th>78</th>\n",
              "      <td>3</td>\n",
              "      <td>6.1</td>\n",
              "    </tr>\n",
              "  </tbody>\n",
              "</table>\n",
              "<p>78 rows × 2 columns</p>\n",
              "</div>"
            ],
            "text/plain": [
              "        Diet  losingweight\n",
              "Person                    \n",
              "1          1           3.8\n",
              "2          1           6.0\n",
              "3          1           0.7\n",
              "4          1           2.9\n",
              "5          1           2.8\n",
              "...      ...           ...\n",
              "74         3           2.8\n",
              "75         3           4.1\n",
              "76         3           5.3\n",
              "77         3           9.2\n",
              "78         3           6.1\n",
              "\n",
              "[78 rows x 2 columns]"
            ]
          },
          "metadata": {
            "tags": []
          },
          "execution_count": 617
        }
      ]
    },
    {
      "cell_type": "code",
      "metadata": {
        "id": "mOpz8Medi3WP"
      },
      "source": [
        "# Lấy index đã phân loại\n",
        "diet = df3.groupby('Diet').groups\n"
      ],
      "execution_count": 618,
      "outputs": []
    },
    {
      "cell_type": "code",
      "metadata": {
        "id": "6nm4BmcKlcxf"
      },
      "source": [
        "losingweight = df2['losingweight']\n",
        "type_1 = losingweight[diet[1]]\n",
        "type_2 = losingweight[diet[2]]\n",
        "type_3 = losingweight[diet[3]]"
      ],
      "execution_count": 619,
      "outputs": []
    },
    {
      "cell_type": "markdown",
      "metadata": {
        "id": "QI5MqDfp8etS"
      },
      "source": [
        "# Kiểm tra mỗi nhóm có thuộc phân phối chuẩn chưa\n",
        "\n",
        "Sử dụng Shapiro-Wilk test\n",
        "Phát biểu giả thiết:\n",
        "\n",
        "$H_0$: Phân phối của feature là chuẩn\n",
        "\n",
        "$H_1$: Phân phối của feature là không chuẩn"
      ]
    },
    {
      "cell_type": "code",
      "metadata": {
        "colab": {
          "base_uri": "https://localhost:8080/",
          "height": 349
        },
        "id": "AXQSnVA73mOM",
        "outputId": "fc07e267-c525-4374-bde3-b1371bf49aa9"
      },
      "source": [
        "Kolmogorov(type_1)\n",
        "hist_plot(type_1)"
      ],
      "execution_count": 620,
      "outputs": [
        {
          "output_type": "stream",
          "text": [
            "Kiểm định Kolmogorov - losingweight\n",
            "Chưa có bằng chứng thống kê để bác bỏ giả thuyết H0.\n",
            "        Điều này chứng minh rằng các mẫu hiện tại tuân theo luật phân phối chuẩn\n",
            "--------------------------------------------------\n"
          ],
          "name": "stdout"
        },
        {
          "output_type": "display_data",
          "data": {
            "image/png": "[encoded data removed]",
            "text/plain": [
              "<Figure size 432x288 with 1 Axes>"
            ]
          },
          "metadata": {
            "tags": [],
            "needs_background": "light"
          }
        },
        {
          "output_type": "stream",
          "text": [
            "--------------------------------------------------\n"
          ],
          "name": "stdout"
        }
      ]
    },
    {
      "cell_type": "code",
      "metadata": {
        "colab": {
          "base_uri": "https://localhost:8080/",
          "height": 349
        },
        "id": "056novYY63Jj",
        "outputId": "e4764018-0256-40e9-b3d7-5d7d479c828e"
      },
      "source": [
        "Kolmogorov(type_2)\n",
        "hist_plot(type_2)"
      ],
      "execution_count": 621,
      "outputs": [
        {
          "output_type": "stream",
          "text": [
            "Kiểm định Kolmogorov - losingweight\n",
            "Chưa có bằng chứng thống kê để bác bỏ giả thuyết H0.\n",
            "        Điều này chứng minh rằng các mẫu hiện tại tuân theo luật phân phối chuẩn\n",
            "--------------------------------------------------\n"
          ],
          "name": "stdout"
        },
        {
          "output_type": "display_data",
          "data": {
            "image/png": "[encoded data removed]",
            "text/plain": [
              "<Figure size 432x288 with 1 Axes>"
            ]
          },
          "metadata": {
            "tags": [],
            "needs_background": "light"
          }
        },
        {
          "output_type": "stream",
          "text": [
            "--------------------------------------------------\n"
          ],
          "name": "stdout"
        }
      ]
    },
    {
      "cell_type": "code",
      "metadata": {
        "colab": {
          "base_uri": "https://localhost:8080/",
          "height": 349
        },
        "id": "MeRgvBDe67Q6",
        "outputId": "220ac36a-78fa-42f5-9fc2-b9d86ff0b23f"
      },
      "source": [
        "Kolmogorov(type_3)\n",
        "hist_plot(type_3)"
      ],
      "execution_count": 622,
      "outputs": [
        {
          "output_type": "stream",
          "text": [
            "Kiểm định Kolmogorov - losingweight\n",
            "Chưa có bằng chứng thống kê để bác bỏ giả thuyết H0.\n",
            "        Điều này chứng minh rằng các mẫu hiện tại tuân theo luật phân phối chuẩn\n",
            "--------------------------------------------------\n"
          ],
          "name": "stdout"
        },
        {
          "output_type": "display_data",
          "data": {
            "image/png": "[encoded data removed]",
            "text/plain": [
              "<Figure size 432x288 with 1 Axes>"
            ]
          },
          "metadata": {
            "tags": [],
            "needs_background": "light"
          }
        },
        {
          "output_type": "stream",
          "text": [
            "--------------------------------------------------\n"
          ],
          "name": "stdout"
        }
      ]
    },
    {
      "cell_type": "markdown",
      "metadata": {
        "id": "2_9tBSRA9G0S"
      },
      "source": [
        "# Kiểm định tính thuần nhất phương sai \n"
      ]
    },
    {
      "cell_type": "code",
      "metadata": {
        "colab": {
          "base_uri": "https://localhost:8080/"
        },
        "id": "ehOeZmz59Kfy",
        "outputId": "e6af42bd-106d-4074-8c13-98f042c985e3"
      },
      "source": [
        "#Bartleet\n",
        "bartlett(type_1, type_2, type_3)"
      ],
      "execution_count": 623,
      "outputs": [
        {
          "output_type": "stream",
          "text": [
            "Kiểm định Bartlett:\n",
            "Statistic = 0.337454630479139 \n",
            " p value = 0.8447392194944549\n",
            "Chưa có bằng chứng thống kê để bác bỏ giả thuyết H0. \n",
            "        Điều này chứng minh các mẫu hiện tại mang tính đồng nhất về phương sai\n",
            "--------------------------------------------------\n"
          ],
          "name": "stdout"
        }
      ]
    },
    {
      "cell_type": "code",
      "metadata": {
        "colab": {
          "base_uri": "https://localhost:8080/"
        },
        "id": "hbJiUBbO9ZWF",
        "outputId": "db952f50-35d1-48e6-acd0-25915cf05170"
      },
      "source": [
        "#ANOVA 1 chiều\n",
        "anova(type_1, type_2, type_3)"
      ],
      "execution_count": 624,
      "outputs": [
        {
          "output_type": "stream",
          "text": [
            "Kiểm định ANOVA:\n",
            "Stat = 6.197447453165349 \n",
            " p value = 0.0032290142385893524\n",
            "Có bằng chứng thống kê để bác bỏ giả thuyết H0\n",
            "--------------------------------------------------\n"
          ],
          "name": "stdout"
        }
      ]
    },
    {
      "cell_type": "code",
      "metadata": {
        "colab": {
          "base_uri": "https://localhost:8080/",
          "height": 355
        },
        "id": "SGPoy0N__SMc",
        "outputId": "6a70119c-a813-4e05-9bb5-abc527d2430c"
      },
      "source": [
        "plt.figure(figsize=(10,5))\n",
        "plt.plot(type_1,color = 'red')\n",
        "plt.title(\"Diet1 \", fontsize=15)\n"
      ],
      "execution_count": 625,
      "outputs": [
        {
          "output_type": "execute_result",
          "data": {
            "text/plain": [
              "Text(0.5, 1.0, 'Diet1 ')"
            ]
          },
          "metadata": {
            "tags": []
          },
          "execution_count": 625
        },
        {
          "output_type": "display_data",
          "data": {
            "image/png": "[encoded data removed]",
            "text/plain": [
              "<Figure size 720x360 with 1 Axes>"
            ]
          },
          "metadata": {
            "tags": [],
            "needs_background": "light"
          }
        }
      ]
    },
    {
      "cell_type": "code",
      "metadata": {
        "colab": {
          "base_uri": "https://localhost:8080/",
          "height": 355
        },
        "id": "RM51XoWxCbKb",
        "outputId": "8a35ebd5-f952-4112-f872-9d5e514e677f"
      },
      "source": [
        "plt.figure(figsize=(10,5))\n",
        "plt.plot(type_2,color = 'blue')\n",
        "plt.title(\"Diet2 \", fontsize=15)\n"
      ],
      "execution_count": 626,
      "outputs": [
        {
          "output_type": "execute_result",
          "data": {
            "text/plain": [
              "Text(0.5, 1.0, 'Diet2 ')"
            ]
          },
          "metadata": {
            "tags": []
          },
          "execution_count": 626
        },
        {
          "output_type": "display_data",
          "data": {
            "image/png": "[encoded data removed]",
            "text/plain": [
              "<Figure size 720x360 with 1 Axes>"
            ]
          },
          "metadata": {
            "tags": [],
            "needs_background": "light"
          }
        }
      ]
    },
    {
      "cell_type": "code",
      "metadata": {
        "colab": {
          "base_uri": "https://localhost:8080/",
          "height": 355
        },
        "id": "upJowUp1Cnjw",
        "outputId": "d90f83cc-575b-44e9-fc0a-fd63484fb975"
      },
      "source": [
        "plt.figure(figsize=(10,5))\n",
        "plt.plot(type_1,color = 'green')\n",
        "plt.title(\"Diet3 \", fontsize=15)\n"
      ],
      "execution_count": 627,
      "outputs": [
        {
          "output_type": "execute_result",
          "data": {
            "text/plain": [
              "Text(0.5, 1.0, 'Diet3 ')"
            ]
          },
          "metadata": {
            "tags": []
          },
          "execution_count": 627
        },
        {
          "output_type": "display_data",
          "data": {
            "image/png": "[encoded data removed]",
            "text/plain": [
              "<Figure size 720x360 with 1 Axes>"
            ]
          },
          "metadata": {
            "tags": [],
            "needs_background": "light"
          }
        }
      ]
    },
    {
      "cell_type": "code",
      "metadata": {
        "colab": {
          "base_uri": "https://localhost:8080/",
          "height": 683
        },
        "id": "wvUEBhVRKbp5",
        "outputId": "f4c49e05-0e51-42f2-f39b-557caa0801e6"
      },
      "source": [
        "plt.figure(figsize=(10, 10))\n",
        "plt.title('3 Diet ', fontsize=20)\n",
        "pd.DataFrame({'Type_1': type_1, 'Type_2': type_2, 'Type_3': type_3}).boxplot(color='blue')\n",
        "plt.ylabel('Count', fontsize=20)"
      ],
      "execution_count": 628,
      "outputs": [
        {
          "output_type": "stream",
          "text": [
            "/usr/local/lib/python3.7/dist-packages/numpy/core/_asarray.py:83: VisibleDeprecationWarning: Creating an ndarray from ragged nested sequences (which is a list-or-tuple of lists-or-tuples-or ndarrays with different lengths or shapes) is deprecated. If you meant to do this, you must specify 'dtype=object' when creating the ndarray\n",
            "  return array(a, dtype, copy=False, order=order)\n"
          ],
          "name": "stderr"
        },
        {
          "output_type": "execute_result",
          "data": {
            "text/plain": [
              "Text(0, 0.5, 'Count')"
            ]
          },
          "metadata": {
            "tags": []
          },
          "execution_count": 628
        },
        {
          "output_type": "display_data",
          "data": {
            "image/png": "[encoded data removed]",
            "text/plain": [
              "<Figure size 720x720 with 1 Axes>"
            ]
          },
          "metadata": {
            "tags": [],
            "needs_background": "light"
          }
        }
      ]
    },
    {
      "cell_type": "markdown",
      "metadata": {
        "id": "J2RpUG-YFp96"
      },
      "source": [
        "\n",
        "\n",
        "# Min, Max, Std\n",
        "\n"
      ]
    },
    {
      "cell_type": "code",
      "metadata": {
        "colab": {
          "base_uri": "https://localhost:8080/"
        },
        "id": "uB8uP98PFvWT",
        "outputId": "9d7b9879-e57f-444b-ab71-e6be7040ed10"
      },
      "source": [
        "print('Diet1')\n",
        "t1 = mms(type_1)\n",
        "print('Diet2')\n",
        "t2 = mms(type_2)\n",
        "print('Diet3')\n",
        "t3 = mms(type_3)"
      ],
      "execution_count": 629,
      "outputs": [
        {
          "output_type": "stream",
          "text": [
            "Diet1\n",
            "min = -0.5999999999999943\n",
            "max = 9.0\n",
            "max - min = 9.599999999999994\n",
            "--------------------------------------------------\n",
            "Diet2\n",
            "min = -2.1000000000000014\n",
            "max = 7.900000000000006\n",
            "max - min = 10.000000000000007\n",
            "--------------------------------------------------\n",
            "Diet3\n",
            "min = 0.5\n",
            "max = 9.200000000000003\n",
            "max - min = 8.700000000000003\n",
            "--------------------------------------------------\n"
          ],
          "name": "stdout"
        }
      ]
    },
    {
      "cell_type": "code",
      "metadata": {
        "colab": {
          "base_uri": "https://localhost:8080/",
          "height": 136
        },
        "id": "K7cnGNOQIcmQ",
        "outputId": "2fd45647-7a07-4902-ac5d-e3524756a1fb"
      },
      "source": [
        "Name = ['1', '2', '3']\n",
        "Range = [type_1.max()-type_1.min(), type_2.max()-type_2.min(), type_3.max()-type_3.min()]\n",
        "Std = [type_1.std(), type_2.std(), type_3.std()]\n",
        "table = list(zip(Name, Range, Std))\n",
        "table = pd.DataFrame(table)\n",
        "table.columns = ['Type', 'Range', 'Std']\n",
        "table"
      ],
      "execution_count": 630,
      "outputs": [
        {
          "output_type": "execute_result",
          "data": {
            "text/html": [
              "<div>\n",
              "<style scoped>\n",
              "    .dataframe tbody tr th:only-of-type {\n",
              "        vertical-align: middle;\n",
              "    }\n",
              "\n",
              "    .dataframe tbody tr th {\n",
              "        vertical-align: top;\n",
              "    }\n",
              "\n",
              "    .dataframe thead th {\n",
              "        text-align: right;\n",
              "    }\n",
              "</style>\n",
              "<table border=\"1\" class=\"dataframe\">\n",
              "  <thead>\n",
              "    <tr style=\"text-align: right;\">\n",
              "      <th></th>\n",
              "      <th>Type</th>\n",
              "      <th>Range</th>\n",
              "      <th>Std</th>\n",
              "    </tr>\n",
              "  </thead>\n",
              "  <tbody>\n",
              "    <tr>\n",
              "      <th>0</th>\n",
              "      <td>1</td>\n",
              "      <td>9.6</td>\n",
              "      <td>2.240148</td>\n",
              "    </tr>\n",
              "    <tr>\n",
              "      <th>1</th>\n",
              "      <td>2</td>\n",
              "      <td>10.0</td>\n",
              "      <td>2.523367</td>\n",
              "    </tr>\n",
              "    <tr>\n",
              "      <th>2</th>\n",
              "      <td>3</td>\n",
              "      <td>8.7</td>\n",
              "      <td>2.395568</td>\n",
              "    </tr>\n",
              "  </tbody>\n",
              "</table>\n",
              "</div>"
            ],
            "text/plain": [
              "  Type  Range       Std\n",
              "0    1    9.6  2.240148\n",
              "1    2   10.0  2.523367\n",
              "2    3    8.7  2.395568"
            ]
          },
          "metadata": {
            "tags": []
          },
          "execution_count": 630
        }
      ]
    },
    {
      "cell_type": "markdown",
      "metadata": {
        "id": "qUhPC41IMLeI"
      },
      "source": [
        "$\\Rightarrow$ Loại 2 cho hiệu quả giảm câncân tốt nhất vì có phạm vi và độ lệch chuẩn lớn nhất\n",
        "\n"
      ]
    },
    {
      "cell_type": "markdown",
      "metadata": {
        "id": "v4b3dE9GtoX6"
      },
      "source": [
        "# Khác biệt giới tính ảnh hưởng đến giảm cân"
      ]
    },
    {
      "cell_type": "code",
      "metadata": {
        "colab": {
          "base_uri": "https://localhost:8080/",
          "height": 431
        },
        "id": "yycDCziKrEl6",
        "outputId": "f86cc7f6-7e5b-4bbf-c05a-eb0a2a98b071"
      },
      "source": [
        "df4 = df2[['gender', 'losingweight']]\n",
        "df4"
      ],
      "execution_count": 631,
      "outputs": [
        {
          "output_type": "execute_result",
          "data": {
            "text/html": [
              "<div>\n",
              "<style scoped>\n",
              "    .dataframe tbody tr th:only-of-type {\n",
              "        vertical-align: middle;\n",
              "    }\n",
              "\n",
              "    .dataframe tbody tr th {\n",
              "        vertical-align: top;\n",
              "    }\n",
              "\n",
              "    .dataframe thead th {\n",
              "        text-align: right;\n",
              "    }\n",
              "</style>\n",
              "<table border=\"1\" class=\"dataframe\">\n",
              "  <thead>\n",
              "    <tr style=\"text-align: right;\">\n",
              "      <th></th>\n",
              "      <th>gender</th>\n",
              "      <th>losingweight</th>\n",
              "    </tr>\n",
              "    <tr>\n",
              "      <th>Person</th>\n",
              "      <th></th>\n",
              "      <th></th>\n",
              "    </tr>\n",
              "  </thead>\n",
              "  <tbody>\n",
              "    <tr>\n",
              "      <th>1</th>\n",
              "      <td>0</td>\n",
              "      <td>3.8</td>\n",
              "    </tr>\n",
              "    <tr>\n",
              "      <th>2</th>\n",
              "      <td>0</td>\n",
              "      <td>6.0</td>\n",
              "    </tr>\n",
              "    <tr>\n",
              "      <th>3</th>\n",
              "      <td>0</td>\n",
              "      <td>0.7</td>\n",
              "    </tr>\n",
              "    <tr>\n",
              "      <th>4</th>\n",
              "      <td>0</td>\n",
              "      <td>2.9</td>\n",
              "    </tr>\n",
              "    <tr>\n",
              "      <th>5</th>\n",
              "      <td>0</td>\n",
              "      <td>2.8</td>\n",
              "    </tr>\n",
              "    <tr>\n",
              "      <th>...</th>\n",
              "      <td>...</td>\n",
              "      <td>...</td>\n",
              "    </tr>\n",
              "    <tr>\n",
              "      <th>74</th>\n",
              "      <td>1</td>\n",
              "      <td>2.8</td>\n",
              "    </tr>\n",
              "    <tr>\n",
              "      <th>75</th>\n",
              "      <td>1</td>\n",
              "      <td>4.1</td>\n",
              "    </tr>\n",
              "    <tr>\n",
              "      <th>76</th>\n",
              "      <td>1</td>\n",
              "      <td>5.3</td>\n",
              "    </tr>\n",
              "    <tr>\n",
              "      <th>77</th>\n",
              "      <td>1</td>\n",
              "      <td>9.2</td>\n",
              "    </tr>\n",
              "    <tr>\n",
              "      <th>78</th>\n",
              "      <td>1</td>\n",
              "      <td>6.1</td>\n",
              "    </tr>\n",
              "  </tbody>\n",
              "</table>\n",
              "<p>78 rows × 2 columns</p>\n",
              "</div>"
            ],
            "text/plain": [
              "       gender  losingweight\n",
              "Person                     \n",
              "1           0           3.8\n",
              "2           0           6.0\n",
              "3           0           0.7\n",
              "4           0           2.9\n",
              "5           0           2.8\n",
              "...       ...           ...\n",
              "74          1           2.8\n",
              "75          1           4.1\n",
              "76          1           5.3\n",
              "77          1           9.2\n",
              "78          1           6.1\n",
              "\n",
              "[78 rows x 2 columns]"
            ]
          },
          "metadata": {
            "tags": []
          },
          "execution_count": 631
        }
      ]
    },
    {
      "cell_type": "code",
      "metadata": {
        "colab": {
          "base_uri": "https://localhost:8080/"
        },
        "id": "5Y2IU6BAwX8Z",
        "outputId": "de1af501-b5fa-44b0-a49e-fbb11918fa6a"
      },
      "source": [
        "gen = df4.groupby('gender').groups\n",
        "gen"
      ],
      "execution_count": 632,
      "outputs": [
        {
          "output_type": "execute_result",
          "data": {
            "text/plain": [
              "{'0': [1, 2, 3, 4, 5, 6, 7, 8, 9, 10, 11, 12, 13, 14, 27, 28, 29, 30, 31, 32, 33, 34, 35, 36, 37, 38, 39, 40, 52, 53, 54, 55, 56, 57, 58, 59, 60, 61, 62, 63, 64, 65, 66], '1': [15, 16, 17, 18, 19, 20, 21, 22, 23, 24, 25, 26, 41, 42, 43, 44, 45, 46, 47, 48, 49, 50, 51, 67, 68, 69, 70, 71, 72, 73, 74, 75, 76, 77, 78]}"
            ]
          },
          "metadata": {
            "tags": []
          },
          "execution_count": 632
        }
      ]
    },
    {
      "cell_type": "code",
      "metadata": {
        "id": "sK2b3GGiwsFZ"
      },
      "source": [
        "gen0 = losingweight[gen['0']]\n",
        "gen1 = losingweight[gen['1']]"
      ],
      "execution_count": 633,
      "outputs": []
    },
    {
      "cell_type": "markdown",
      "metadata": {
        "id": "_wvK_QWTyrnS"
      },
      "source": [
        "# Kiểm tra mỗi nhóm có thuộc phân phối chuẩn chưa\n",
        "Sử dụng Shapiro-Wilk test\n",
        "Phát biểu giả thiết:\n",
        "\n",
        "$H_0$: Phân phối của feature là chuẩn\n",
        "\n",
        "$H_1$: Phân phối của feature là không chuẩn"
      ]
    },
    {
      "cell_type": "code",
      "metadata": {
        "colab": {
          "base_uri": "https://localhost:8080/"
        },
        "id": "GevAJ9ToyYrK",
        "outputId": "b455a624-b6e2-43d6-8958-a20801923edf"
      },
      "source": [
        "# Kiểm tra gen0\n",
        "stat_gen_0, p_gen_0 = shapiro(gen0)\n",
        "print('stat=%.3f, p=%.3f' % (stat_gen_0, p_gen_0))\n",
        "if p_gen_0 > 0.05:\n",
        "    print('Không thể bác bỏ giả thiết H0: Phân phối của dữ liệu là chuẩn')\n",
        "    print('Đủ điều kiện để phân tích tiếp')\n",
        "else:\n",
        "    print('Dữ liệu không tuân theo luật phân phối chuẩn')"
      ],
      "execution_count": 634,
      "outputs": [
        {
          "output_type": "stream",
          "text": [
            "stat=0.970, p=0.305\n",
            "Không thể bác bỏ giả thiết H0: Phân phối của dữ liệu là chuẩn\n",
            "Đủ điều kiện để phân tích tiếp\n"
          ],
          "name": "stdout"
        }
      ]
    },
    {
      "cell_type": "code",
      "metadata": {
        "colab": {
          "base_uri": "https://localhost:8080/",
          "height": 378
        },
        "id": "Uimdee48xQJC",
        "outputId": "b31919fc-e4a5-4aef-ee80-f54f9a370b53"
      },
      "source": [
        "Kolmogorov(gen0)\n",
        "plt.title(\"Male\", fontsize=30)\n",
        "hist_plot(gen0)"
      ],
      "execution_count": 635,
      "outputs": [
        {
          "output_type": "stream",
          "text": [
            "Kiểm định Kolmogorov - losingweight\n",
            "Chưa có bằng chứng thống kê để bác bỏ giả thuyết H0.\n",
            "        Điều này chứng minh rằng các mẫu hiện tại tuân theo luật phân phối chuẩn\n",
            "--------------------------------------------------\n"
          ],
          "name": "stdout"
        },
        {
          "output_type": "display_data",
          "data": {
            "image/png": "[encoded data removed]",
            "text/plain": [
              "<Figure size 432x288 with 1 Axes>"
            ]
          },
          "metadata": {
            "tags": [],
            "needs_background": "light"
          }
        },
        {
          "output_type": "stream",
          "text": [
            "--------------------------------------------------\n"
          ],
          "name": "stdout"
        }
      ]
    },
    {
      "cell_type": "code",
      "metadata": {
        "colab": {
          "base_uri": "https://localhost:8080/"
        },
        "id": "ozHe2icPy5lB",
        "outputId": "faf48dd4-4713-4baf-f416-fb3776b6ca3b"
      },
      "source": [
        "# Kiểm tra gen1\n",
        "stat_gen_1, p_gen_1 = shapiro(gen1)\n",
        "print('stat=%.3f, p=%.3f' % (stat_gen_1, p_gen_1))\n",
        "if p_gen_1 > 0.05:\n",
        "    print('Không thể bác bỏ giả thiết H0: Phân phối của dữ liệu là chuẩn')\n",
        "    print('Đủ điều kiện để phân tích tiếp')\n",
        "else:\n",
        "    print('Dữ liệu không tuân theo luật phân phối chuẩn')"
      ],
      "execution_count": 636,
      "outputs": [
        {
          "output_type": "stream",
          "text": [
            "stat=0.975, p=0.600\n",
            "Không thể bác bỏ giả thiết H0: Phân phối của dữ liệu là chuẩn\n",
            "Đủ điều kiện để phân tích tiếp\n"
          ],
          "name": "stdout"
        }
      ]
    },
    {
      "cell_type": "code",
      "metadata": {
        "colab": {
          "base_uri": "https://localhost:8080/",
          "height": 378
        },
        "id": "yTW_KaG8y9X4",
        "outputId": "1b5f0e4d-1570-4175-a9a8-04c0fbbdcf20"
      },
      "source": [
        "Kolmogorov(gen1)\n",
        "plt.title(\"Female\", fontsize=30)\n",
        "hist_plot(gen1)"
      ],
      "execution_count": 637,
      "outputs": [
        {
          "output_type": "stream",
          "text": [
            "Kiểm định Kolmogorov - losingweight\n",
            "Chưa có bằng chứng thống kê để bác bỏ giả thuyết H0.\n",
            "        Điều này chứng minh rằng các mẫu hiện tại tuân theo luật phân phối chuẩn\n",
            "--------------------------------------------------\n"
          ],
          "name": "stdout"
        },
        {
          "output_type": "display_data",
          "data": {
            "image/png": "[encoded data removed]",
            "text/plain": [
              "<Figure size 432x288 with 1 Axes>"
            ]
          },
          "metadata": {
            "tags": [],
            "needs_background": "light"
          }
        },
        {
          "output_type": "stream",
          "text": [
            "--------------------------------------------------\n"
          ],
          "name": "stdout"
        }
      ]
    },
    {
      "cell_type": "markdown",
      "metadata": {
        "id": "B-BDzULg05lf"
      },
      "source": [
        "# Ảnh hưởng của chế độ ăn kiêng và giới tính đến việc giảm cân\n",
        "Giả thuyết:\n",
        "$H_0$: Hiệu quả giảm cân của nam và nữ là như nhau.\n",
        "\n",
        "$H_1$: Hiệu quả giảm cân của nam và nữ là khác nhau."
      ]
    },
    {
      "cell_type": "code",
      "metadata": {
        "colab": {
          "base_uri": "https://localhost:8080/",
          "height": 106
        },
        "id": "imfjQqX8zqwK",
        "outputId": "d2c7f725-e2f5-4352-80ee-6a14000839cf"
      },
      "source": [
        "model_2 = ols('losingweight ~ C(gender)', data=df4).fit()\n",
        "anova_table = sm.stats.anova_lm(model_2, typ=2)\n",
        "anova_table"
      ],
      "execution_count": 638,
      "outputs": [
        {
          "output_type": "execute_result",
          "data": {
            "text/html": [
              "<div>\n",
              "<style scoped>\n",
              "    .dataframe tbody tr th:only-of-type {\n",
              "        vertical-align: middle;\n",
              "    }\n",
              "\n",
              "    .dataframe tbody tr th {\n",
              "        vertical-align: top;\n",
              "    }\n",
              "\n",
              "    .dataframe thead th {\n",
              "        text-align: right;\n",
              "    }\n",
              "</style>\n",
              "<table border=\"1\" class=\"dataframe\">\n",
              "  <thead>\n",
              "    <tr style=\"text-align: right;\">\n",
              "      <th></th>\n",
              "      <th>sum_sq</th>\n",
              "      <th>df</th>\n",
              "      <th>F</th>\n",
              "      <th>PR(&gt;F)</th>\n",
              "    </tr>\n",
              "  </thead>\n",
              "  <tbody>\n",
              "    <tr>\n",
              "      <th>C(gender)</th>\n",
              "      <td>0.222185</td>\n",
              "      <td>1.0</td>\n",
              "      <td>0.033701</td>\n",
              "      <td>0.854833</td>\n",
              "    </tr>\n",
              "    <tr>\n",
              "      <th>Residual</th>\n",
              "      <td>501.050764</td>\n",
              "      <td>76.0</td>\n",
              "      <td>NaN</td>\n",
              "      <td>NaN</td>\n",
              "    </tr>\n",
              "  </tbody>\n",
              "</table>\n",
              "</div>"
            ],
            "text/plain": [
              "               sum_sq    df         F    PR(>F)\n",
              "C(gender)    0.222185   1.0  0.033701  0.854833\n",
              "Residual   501.050764  76.0       NaN       NaN"
            ]
          },
          "metadata": {
            "tags": []
          },
          "execution_count": 638
        }
      ]
    },
    {
      "cell_type": "code",
      "metadata": {
        "colab": {
          "base_uri": "https://localhost:8080/",
          "height": 77
        },
        "id": "lps4AWoQz2eh",
        "outputId": "093b1650-a11f-453b-c482-82a83c941cd7"
      },
      "source": [
        "p = {}\n",
        "p['mean1'] = np.mean(gen0)\n",
        "p['mean2'] = np.mean(gen1)\n",
        "p['score'], p['p_value'] = ttest_1samp(gen0, p['mean2'])\n",
        "results(p)"
      ],
      "execution_count": 639,
      "outputs": [
        {
          "output_type": "execute_result",
          "data": {
            "text/html": [
              "<div>\n",
              "<style scoped>\n",
              "    .dataframe tbody tr th:only-of-type {\n",
              "        vertical-align: middle;\n",
              "    }\n",
              "\n",
              "    .dataframe tbody tr th {\n",
              "        vertical-align: top;\n",
              "    }\n",
              "\n",
              "    .dataframe thead th {\n",
              "        text-align: right;\n",
              "    }\n",
              "</style>\n",
              "<table border=\"1\" class=\"dataframe\">\n",
              "  <thead>\n",
              "    <tr style=\"text-align: right;\">\n",
              "      <th></th>\n",
              "      <th>mean1</th>\n",
              "      <th>mean2</th>\n",
              "      <th>score</th>\n",
              "      <th>p_value</th>\n",
              "      <th>KetLuan</th>\n",
              "    </tr>\n",
              "  </thead>\n",
              "  <tbody>\n",
              "    <tr>\n",
              "      <th></th>\n",
              "      <td>3.893023</td>\n",
              "      <td>3.785714</td>\n",
              "      <td>0.279691</td>\n",
              "      <td>0.781088</td>\n",
              "      <td>Chấp nhận H0 với mức ý nghĩa 0.05</td>\n",
              "    </tr>\n",
              "  </tbody>\n",
              "</table>\n",
              "</div>"
            ],
            "text/plain": [
              "     mean1     mean2     score   p_value                            KetLuan\n",
              "  3.893023  3.785714  0.279691  0.781088  Chấp nhận H0 với mức ý nghĩa 0.05"
            ]
          },
          "metadata": {
            "tags": []
          },
          "execution_count": 639
        }
      ]
    },
    {
      "cell_type": "code",
      "metadata": {
        "colab": {
          "base_uri": "https://localhost:8080/",
          "height": 411
        },
        "id": "GPLyVgku3RLp",
        "outputId": "68ef1055-6d3e-4f2a-aacd-dfa157cfa707"
      },
      "source": [
        "plt.figure(figsize=(5,5))\n",
        "plt.title('Gen nam và nữ ', fontsize=20)\n",
        "pd.DataFrame({'Gen nam': gen0, 'Gen nữ': gen1}).boxplot(color='blue')"
      ],
      "execution_count": 640,
      "outputs": [
        {
          "output_type": "stream",
          "text": [
            "/usr/local/lib/python3.7/dist-packages/numpy/core/_asarray.py:83: VisibleDeprecationWarning: Creating an ndarray from ragged nested sequences (which is a list-or-tuple of lists-or-tuples-or ndarrays with different lengths or shapes) is deprecated. If you meant to do this, you must specify 'dtype=object' when creating the ndarray\n",
            "  return array(a, dtype, copy=False, order=order)\n"
          ],
          "name": "stderr"
        },
        {
          "output_type": "execute_result",
          "data": {
            "text/plain": [
              "<matplotlib.axes._subplots.AxesSubplot at 0x7f71f87d0d10>"
            ]
          },
          "metadata": {
            "tags": []
          },
          "execution_count": 640
        },
        {
          "output_type": "display_data",
          "data": {
            "image/png": "[encoded data removed]",
            "text/plain": [
              "<Figure size 360x360 with 1 Axes>"
            ]
          },
          "metadata": {
            "tags": [],
            "needs_background": "light"
          }
        }
      ]
    },
    {
      "cell_type": "code",
      "metadata": {
        "colab": {
          "base_uri": "https://localhost:8080/",
          "height": 280
        },
        "id": "e57KOM-Z4uIx",
        "outputId": "1da3a0cb-14b9-461a-b0c4-c2546978095a"
      },
      "source": [
        "qqplot(gen0)"
      ],
      "execution_count": 645,
      "outputs": [
        {
          "output_type": "display_data",
          "data": {
            "image/png": "[encoded data removed]",
            "text/plain": [
              "<Figure size 432x288 with 1 Axes>"
            ]
          },
          "metadata": {
            "tags": [],
            "needs_background": "light"
          }
        }
      ]
    },
    {
      "cell_type": "code",
      "metadata": {
        "colab": {
          "base_uri": "https://localhost:8080/",
          "height": 279
        },
        "id": "OuCBeFxF5SRJ",
        "outputId": "8d657087-f7c2-4230-dddf-a7ef92fea066"
      },
      "source": [
        "qqplot(gen1)"
      ],
      "execution_count": 642,
      "outputs": [
        {
          "output_type": "display_data",
          "data": {
            "image/png": "[encoded data removed]",
            "text/plain": [
              "<Figure size 432x288 with 1 Axes>"
            ]
          },
          "metadata": {
            "tags": [],
            "needs_background": "light"
          }
        }
      ]
    }
  ]
}